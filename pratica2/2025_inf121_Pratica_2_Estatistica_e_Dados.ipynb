{
 "cells": [
  {
   "cell_type": "markdown",
   "metadata": {
    "id": "6La542wOxV7Y"
   },
   "source": [
    "# Prática de Estatística Básica e Manipulação de Dados\n",
    "\n",
    "Inteligência Artificial Aplicada\n"
   ]
  },
  {
   "cell_type": "code",
   "execution_count": 29,
   "metadata": {},
   "outputs": [
    {
     "data": {
      "image/jpeg": "[encoded data removed]",
      "text/html": [
       "\n",
       "        <iframe\n",
       "            width=\"560\"\n",
       "            height=\"315\"\n",
       "            src=\"https://www.youtube.com/embed/GV3HUDMQ-F8\"\n",
       "            frameborder=\"0\"\n",
       "            allowfullscreen\n",
       "            \n",
       "        ></iframe>\n",
       "        "
      ],
      "text/plain": [
       "<IPython.lib.display.YouTubeVideo at 0x749db1f48b00>"
      ]
     },
     "execution_count": 29,
     "metadata": {},
     "output_type": "execute_result"
    }
   ],
   "source": [
    "# teste\n",
    "from IPython.display import YouTubeVideo\n",
    "\n",
    "# Função para mostrar vídeo\n",
    "def tudum():\n",
    "    return YouTubeVideo('GV3HUDMQ-F8', width=560, height=315)\n",
    "\n",
    "# Chamar a função\n",
    "tudum()\n"
   ]
  },
  {
   "cell_type": "code",
   "execution_count": null,
   "metadata": {},
   "outputs": [],
   "source": [
    "# instrucoes \n",
    "YouTubeVideo('GV3HUDMQ-F8', width=560, height=315)"
   ]
  },
  {
   "cell_type": "markdown",
   "metadata": {
    "id": "DdfeB9mgfNQl"
   },
   "source": [
    "# Outros Colabs das Aulas Anteriores\n",
    "* **Revisão Python**\n",
    "  * [Parte I - Representação de Dados](https://colab.research.google.com/drive/1pjBwpo6bPK65hOX8PQdYw120gmJGbFAq?usp=sharing)\n",
    "  * [Parte II - Algoritmos, Funções, Comandos, Entrada e Saída, Arquivos](https://colab.research.google.com/drive/1krPHs92AbLqWnVVnUaI_s9otcCav-irE?usp=sharing)\n",
    "  * [Parte III - Manipulação de Gráficos e Tabelas para Análise de Dados](https://colab.research.google.com/drive/1aIIqAfvOG0HjJzpWEoiSzEok6vIxDYvZ?usp=sharing)\n",
    "\n",
    "* [**Exemplos da Aula Teórica de Estatística**](https://colab.research.google.com/drive/1wWXjP1n87a7bRE-wrkw-BPFcIj4WMIzD?usp=sharing)"
   ]
  },
  {
   "cell_type": "code",
   "execution_count": 36,
   "metadata": {},
   "outputs": [
    {
     "data": {
      "image/jpeg": "[encoded data removed]",
      "text/html": [
       "\n",
       "        <iframe\n",
       "            width=\"560\"\n",
       "            height=\"315\"\n",
       "            src=\"https://www.youtube.com/embed/ZNtRVY9JRH4\"\n",
       "            frameborder=\"0\"\n",
       "            allowfullscreen\n",
       "            \n",
       "        ></iframe>\n",
       "        "
      ],
      "text/plain": [
       "<IPython.lib.display.YouTubeVideo at 0x749db1d2e660>"
      ]
     },
     "execution_count": 36,
     "metadata": {},
     "output_type": "execute_result"
    }
   ],
   "source": [
    "# Instruções para execução (Ctrl-Enter ou Play no alto)\n",
    "YouTubeVideo('ZNtRVY9JRH4', width=560, height=315) "
   ]
  },
  {
   "cell_type": "markdown",
   "metadata": {
    "id": "MobUU_9P-UIT"
   },
   "source": [
    "## Desvio Padrão\n"
   ]
  },
  {
   "cell_type": "markdown",
   "metadata": {
    "id": "A3Gk7XC4AbfZ"
   },
   "source": [
    "\n",
    "\n",
    "### Exemplo: Desvio Padrão Pequeno\n",
    "\n",
    "Considere um grupo de pessoas com as seguintes idades:\n",
    "\n",
    "$$\n",
    "\\{30, 31, 32, 32, 33, 34, 35\\}\n",
    "$$\n",
    "\n",
    "**Média**:\n",
    "$$\n",
    "\\frac{30 + 31 + 32 + 32 + 33 + 34 + 35}{7} = 32.43\n",
    "$$\n",
    "\n",
    "**Desvio Padrão**:\n",
    "$$\n",
    "\\sigma \\approx 1.6\n",
    "$$\n",
    "\n",
    "As idades estão concentradas em torno da média, resultando em um desvio padrão pequeno.\n",
    "\n",
    "\n",
    "### Exemplo: Desvio Padrão Grande\n",
    "\n",
    "Considere um outro grupo com as seguintes idades:\n",
    "\n",
    "$$\n",
    "\\{15, 20, 25, 30, 35, 40, 45\\}\n",
    "$$\n",
    "\n",
    "**Média**:\n",
    "$$\n",
    "\\frac{15 + 20 + 25 + 30 + 35 + 40 + 45}{7} = 30\n",
    "$$\n",
    "\n",
    "**Desvio Padrão**:\n",
    "$$\n",
    "\\sigma \\approx 10.61\n",
    "$$\n",
    "\n",
    "As idades estão mais espalhadas em relação à média, resultando em um desvio padrão grande.\n"
   ]
  },
  {
   "cell_type": "code",
   "execution_count": null,
   "metadata": {
    "colab": {
     "base_uri": "https://localhost:8080/"
    },
    "id": "LsIu-WpmZzDv",
    "outputId": "4ed67fd5-2f7b-4c6c-cd51-d0622cf5a67d"
   },
   "outputs": [],
   "source": [
    "media = (30+31+32+32+33+34+35)/7\n",
    "print(media)"
   ]
  },
  {
   "cell_type": "markdown",
   "metadata": {
    "id": "otrGA0wVae1G"
   },
   "source": [
    "$desvio = \\sqrt{\\sum \\frac{(x_i- \\mu)^2}{N}}$"
   ]
  },
  {
   "cell_type": "code",
   "execution_count": 2,
   "metadata": {
    "colab": {
     "base_uri": "https://localhost:8080/"
    },
    "id": "Av3duM6caCy-",
    "outputId": "eb4d06d6-a941-4ed1-dcc9-52f1c451aa8b"
   },
   "outputs": [
    {
     "name": "stdout",
     "output_type": "stream",
     "text": [
      "O desvio padrão é: 1.5907898179514348\n"
     ]
    }
   ],
   "source": [
    "#@title Calculo do desvio Padrão\n",
    "import math\n",
    "\n",
    "# Dados fornecidos\n",
    "L = [30, 31, 32, 32, 33, 34, 35]\n",
    "\n",
    "# Cálculo da média\n",
    "media = sum(L) / len(L)\n",
    "\n",
    "# Cálculo da variância\n",
    "variancia = 0\n",
    "for valor in L:\n",
    "    variancia += (valor - media) ** 2\n",
    "\n",
    "# Variância média\n",
    "variancia /= len(L)\n",
    "\n",
    "# Cálculo do desvio padrão (raiz quadrada da variância)\n",
    "desvio_padrao = math.sqrt(variancia)\n",
    "\n",
    "# Exibe o resultado\n",
    "print(f\"O desvio padrão é: {desvio_padrao}\")\n"
   ]
  },
  {
   "cell_type": "code",
   "execution_count": 3,
   "metadata": {
    "colab": {
     "base_uri": "https://localhost:8080/"
    },
    "id": "_QVi3yzibNUK",
    "outputId": "5c0a16f1-39fd-4ff9-8fb1-263243ccb47a"
   },
   "outputs": [
    {
     "name": "stdout",
     "output_type": "stream",
     "text": [
      "O desvio padrão é: 1.5907898179514348\n"
     ]
    }
   ],
   "source": [
    "#@title Desvio com biblioteca\n",
    "import numpy as np\n",
    "\n",
    "# Dados fornecidos\n",
    "L = [30, 31, 32, 32, 33, 34, 35]\n",
    "\n",
    "# Cálculo do desvio padrão\n",
    "std_dev = np.std(L)\n",
    "\n",
    "# Exibe o resultado\n",
    "print(f\"O desvio padrão é: {std_dev}\")\n"
   ]
  },
  {
   "cell_type": "code",
   "execution_count": 38,
   "metadata": {},
   "outputs": [
    {
     "data": {
      "text/html": [
       "\n",
       "        <iframe\n",
       "            width=\"560\"\n",
       "            height=\"315\"\n",
       "            src=\"https://www.youtube.com/embed/2SQU76rxeOE\"\n",
       "            frameborder=\"0\"\n",
       "            allowfullscreen\n",
       "            \n",
       "        ></iframe>\n",
       "        "
      ],
      "text/plain": [
       "<IPython.lib.display.YouTubeVideo at 0x749d36bfe2a0>"
      ]
     },
     "execution_count": 38,
     "metadata": {},
     "output_type": "execute_result"
    }
   ],
   "source": [
    "# Tarefa 1\n",
    "YouTubeVideo('2SQU76rxeOE', width=560, height=315) "
   ]
  },
  {
   "cell_type": "markdown",
   "metadata": {
    "id": "MPl_xTEaYCKR"
   },
   "source": [
    "## **TAREFA 1**\n",
    "\n",
    "Medir a diferença de tempo para uma amostra aleatório com 10 mil e 1 milhão de números para o cálculo do desvio padrão de forma interativa com comando **for** e com a biblioteca numpy e com comando **std**. Fazer uma tabela em mardown com os tempos.\n",
    "\n"
   ]
  },
  {
   "cell_type": "code",
   "execution_count": 37,
   "metadata": {
    "colab": {
     "base_uri": "https://localhost:8080/"
    },
    "id": "a9mU8cCTYfd5",
    "outputId": "3caa4df6-b75c-4104-b954-7faa1e2bd5b5"
   },
   "outputs": [
    {
     "name": "stdout",
     "output_type": "stream",
     "text": [
      "| Tamanho da amostra | For (s) | NumPy manual (s) | NumPy std (s) |\n",
      "|-------------------|---------|------------------|---------------|\n",
      "|             10000 | 0.00360 | 0.00192 | 0.00039 |\n",
      "|           1000000 | 0.31213 | 0.01008 | 0.00516 |\n"
     ]
    }
   ],
   "source": [
    "#complete aqui"
   ]
  },
  {
   "cell_type": "markdown",
   "metadata": {
    "id": "6SXxnBQ1bk_e"
   },
   "source": [
    "# Histogramas e Box Plot"
   ]
  },
  {
   "cell_type": "code",
   "execution_count": 2,
   "metadata": {
    "cellView": "form",
    "colab": {
     "base_uri": "https://localhost:8080/",
     "height": 1000
    },
    "id": "FvgZ1Z-RBBT8",
    "outputId": "3937c4b5-023f-46d0-a66d-9409cc2a9275"
   },
   "outputs": [
    {
     "data": {
      "image/png": "[encoded data removed]",
      "text/plain": [
       "<Figure size 1200x800 with 4 Axes>"
      ]
     },
     "metadata": {},
     "output_type": "display_data"
    },
    {
     "data": {
      "image/png": "[encoded data removed]",
      "text/plain": [
       "<Figure size 1000x400 with 1 Axes>"
      ]
     },
     "metadata": {},
     "output_type": "display_data"
    }
   ],
   "source": [
    "#@title Quatro Histogramas com a mesma média e desvio padrão\n",
    "import numpy as np\n",
    "import pandas as pd\n",
    "import matplotlib.pyplot as plt\n",
    "\n",
    "# Definindo a média e o desvio padrão desejados\n",
    "mean = 10\n",
    "std_dev = 2\n",
    "\n",
    "# Gerando quatro conjuntos de dados diferentes\n",
    "data1 = np.random.normal(mean, std_dev, 1000)  # Normal\n",
    "data2 = np.random.uniform(mean - std_dev * np.sqrt(3), mean + std_dev * np.sqrt(3), 1000)  # Uniforme\n",
    "data3 = np.random.exponential(scale=std_dev, size=1000) + mean - std_dev  # Exponencial ajustada\n",
    "data4 = np.random.poisson(lam=mean, size=1000)  # Poisson\n",
    "\n",
    "# Ajustando os dados para que todos tenham a mesma média e desvio padrão\n",
    "data3 = (data3 - np.mean(data3)) * (std_dev / np.std(data3)) + mean\n",
    "data4 = (data4 - np.mean(data4)) * (std_dev / np.std(data4)) + mean\n",
    "\n",
    "# Plotando os histogramas\n",
    "plt.figure(figsize=(12, 8))\n",
    "plt.subplot(2, 2, 1)\n",
    "plt.hist(data1, bins=30, color='blue', alpha=0.7, edgecolor='black')\n",
    "plt.axvline(mean, color='red', linestyle='dashed', linewidth=1)\n",
    "plt.axvline(mean + std_dev, color='green', linestyle='dashed', linewidth=1)\n",
    "plt.axvline(mean - std_dev, color='green', linestyle='dashed', linewidth=1)\n",
    "plt.title('Distribuição Normal')\n",
    "plt.xlabel('Valores')\n",
    "plt.ylabel('Frequência')\n",
    "\n",
    "plt.subplot(2, 2, 2)\n",
    "plt.hist(data2, bins=30, color='orange', alpha=0.7, edgecolor='black')\n",
    "plt.axvline(mean, color='red', linestyle='dashed', linewidth=1)\n",
    "plt.axvline(mean + std_dev, color='green', linestyle='dashed', linewidth=1)\n",
    "plt.axvline(mean - std_dev, color='green', linestyle='dashed', linewidth=1)\n",
    "plt.title('Distribuição Uniforme')\n",
    "plt.xlabel('Valores')\n",
    "plt.ylabel('Frequência')\n",
    "\n",
    "plt.subplot(2, 2, 3)\n",
    "plt.hist(data3, bins=30, color='green', alpha=0.7, edgecolor='black')\n",
    "plt.axvline(mean, color='red', linestyle='dashed', linewidth=1)\n",
    "plt.axvline(mean + std_dev, color='green', linestyle='dashed', linewidth=1)\n",
    "plt.axvline(mean - std_dev, color='green', linestyle='dashed', linewidth=1)\n",
    "plt.title('Distribuição Exponencial')\n",
    "plt.xlabel('Valores')\n",
    "plt.ylabel('Frequência')\n",
    "\n",
    "plt.subplot(2, 2, 4)\n",
    "plt.hist(data4, bins=30, color='purple', alpha=0.7, edgecolor='black')\n",
    "plt.axvline(mean, color='red', linestyle='dashed', linewidth=1)\n",
    "plt.axvline(mean + std_dev, color='green', linestyle='dashed', linewidth=1)\n",
    "plt.axvline(mean - std_dev, color='green', linestyle='dashed', linewidth=1)\n",
    "plt.title('Distribuição de Poisson')\n",
    "plt.xlabel('Valores')\n",
    "plt.ylabel('Frequência')\n",
    "\n",
    "plt.tight_layout()\n",
    "plt.show()\n",
    "\n",
    "\n",
    "# Criando um dicionário com as estatísticas\n",
    "statistics = {\n",
    "    'Métrica': ['Mínimo', 'Máximo', 'Média', 'Desvio Padrão'],\n",
    "    'Normal': [np.min(data1), np.max(data1), np.mean(data1), np.std(data1)],\n",
    "    'Uniforme': [np.min(data2), np.max(data2), np.mean(data2), np.std(data2)],\n",
    "    'Exponencial': [np.min(data3), np.max(data3), np.mean(data3), np.std(data3)],\n",
    "    'Poisson': [np.min(data4), np.max(data4), np.mean(data4), np.std(data4)],\n",
    "}\n",
    "\n",
    "# Criando um DataFrame a partir do dicionário\n",
    "stats_df = pd.DataFrame(statistics)\n",
    "\n",
    "# Exibindo a tabela\n",
    "import matplotlib.pyplot as plt\n",
    "\n",
    "plt.figure(figsize=(10, 4))\n",
    "plt.axis('tight')\n",
    "plt.axis('off')\n",
    "table = plt.table(cellText=stats_df.values, colLabels=stats_df.columns, cellLoc = 'center', loc='center')\n",
    "table.auto_set_font_size(False)\n",
    "table.set_fontsize(12)\n",
    "table.scale(1.5, 1.5)  # Aumenta o tamanho da tabela\n",
    "plt.show()\n"
   ]
  },
  {
   "cell_type": "code",
   "execution_count": null,
   "metadata": {
    "cellView": "form",
    "colab": {
     "base_uri": "https://localhost:8080/",
     "height": 545
    },
    "id": "Jw0dK4l6G5iC",
    "outputId": "70a44916-9ba0-4bbd-b3ba-5e7be7294737"
   },
   "outputs": [
    {
     "data": {
      "image/png": "[encoded data removed]",
      "text/plain": [
       "<Figure size 1000x600 with 1 Axes>"
      ]
     },
     "metadata": {},
     "output_type": "display_data"
    }
   ],
   "source": [
    "#@title Boxplot\n",
    "# Criando um boxplot\n",
    "plt.figure(figsize=(10, 6))\n",
    "sns.boxplot(data=[data1, data2, data3, data4], palette='Set2')\n",
    "\n",
    "# Adicionando labels e título\n",
    "plt.xticks([0, 1, 2, 3], ['Normal', 'Uniforme', 'Exponencial', 'poisson'])\n",
    "plt.ylabel('Valores')\n",
    "plt.title('Boxplot dos Conjuntos de Dados')\n",
    "\n",
    "# Exibindo o gráfico\n",
    "plt.show()\n"
   ]
  },
  {
   "cell_type": "code",
   "execution_count": 42,
   "metadata": {},
   "outputs": [
    {
     "data": {
      "image/jpeg": "[encoded data removed]",
      "text/html": [
       "\n",
       "        <iframe\n",
       "            width=\"560\"\n",
       "            height=\"315\"\n",
       "            src=\"https://www.youtube.com/embed/HXetGqeIFfU\"\n",
       "            frameborder=\"0\"\n",
       "            allowfullscreen\n",
       "            \n",
       "        ></iframe>\n",
       "        "
      ],
      "text/plain": [
       "<IPython.lib.display.YouTubeVideo at 0x749db0de9820>"
      ]
     },
     "execution_count": 42,
     "metadata": {},
     "output_type": "execute_result"
    }
   ],
   "source": [
    "# Tarefa 2\n",
    "YouTubeVideo('HXetGqeIFfU', width=560, height=315) \n"
   ]
  },
  {
   "cell_type": "markdown",
   "metadata": {
    "id": "6LKPdC4thGYK"
   },
   "source": [
    "## **TAREFA 2**\n",
    "\n",
    "* Apreender a ler arquivos da pasta da disciplina para fazermos testes\n",
    "\n",
    "```\n",
    "/home/inf121/pratica/uniform_1_10_1M.csv\n",
    "/home/inf121/pratica/normal_m10_b2_500k.csv\n",
    "/home/inf121/pratica/expo50k.csv\n",
    "```\n",
    "\n",
    "* Fazer um código onde voce pode escolher qual é o arquivo e mostrar o histograma e o boxplot dos dados.\n",
    "\n",
    "\n",
    "\n",
    "\n"
   ]
  },
  {
   "cell_type": "code",
   "execution_count": 41,
   "metadata": {},
   "outputs": [
    {
     "data": {
      "application/vnd.jupyter.widget-view+json": {
       "model_id": "5d5612e5ed8e4a6e92cd5eb7ccd16c9b",
       "version_major": 2,
       "version_minor": 0
      },
      "text/plain": [
       "interactive(children=(Dropdown(description='Arquivo:', options=('Uniforme (1M)', 'Normal (500k)', 'Exponencial…"
      ]
     },
     "metadata": {},
     "output_type": "display_data"
    },
    {
     "data": {
      "text/plain": [
       "<function __main__.analisar_dados(nome_arquivo)>"
      ]
     },
     "execution_count": 41,
     "metadata": {},
     "output_type": "execute_result"
    }
   ],
   "source": [
    "#Complete aqui\n"
   ]
  },
  {
   "cell_type": "markdown",
   "metadata": {
    "id": "txxRLi_j99Dw"
   },
   "source": [
    "# Métricas Usuais de Aprendizado de Máquina"
   ]
  },
  {
   "cell_type": "markdown",
   "metadata": {
    "id": "SgYrnkuhTzui"
   },
   "source": [
    "\n",
    "## Falsos Positivos e Falsos Negativos\n",
    "\n",
    "### Falso Positivo\n",
    "Um falso positivo ocorre quando um teste indica que uma condição está presente, quando na verdade não está.\n",
    "\n",
    "#### Exemplo Prejudicial:\n",
    "- **Teste de Câncer**:\n",
    "  - Imagine um teste de triagem para detecção de câncer que retorna positivo, mas o paciente na verdade não tem a doença. Isso pode levar a tratamentos desnecessários, que são invasivos e podem causar efeitos colaterais graves, além de gerar ansiedade e estresse.\n",
    "\n",
    "#### Exemplo Não Prejudicial:\n",
    "- **Teste de Controle de Qualidade de Produtos**:\n",
    "  - Considere um teste que verifica se um produto não está dentro dos padrões de qualidade e retorna um falso positivo, indicando que o produto não está em conformidade. Isso pode resultar em mais testes, mas geralmente não causa danos significativos ao consumidor final.\n",
    "\n",
    "---\n",
    "\n",
    "### Falso Negativo\n",
    "Um falso negativo ocorre quando um teste indica que uma condição não está presente, quando na verdade está.\n",
    "\n",
    "#### Exemplo Prejudicial:\n",
    "- **Teste de HIV**:\n",
    "  - Um teste de HIV que retorna negativo para uma pessoa que realmente está infectada pode ter consequências graves. Isso pode levar a uma falta de tratamento e, potencialmente, à transmissão do vírus a outras pessoas, além de agravar a saúde do paciente.\n",
    "\n",
    "#### Exemplo Não Prejudicial:\n",
    "- **Teste de Desempenho Acadêmico**:\n",
    "  - Considere um teste que avalia se um aluno não precisa de reforço em matemática e retorna que ele está com bom desempenho. Se o teste é negativo, então ele precisa de reforço, mas no caso de falso negativo ele não precisaria, então terá a recomendação de fazer mais exercícios, o que não irá causar danos."
   ]
  },
  {
   "cell_type": "markdown",
   "metadata": {
    "id": "YjoSyfWxCXS2"
   },
   "source": [
    "## Exemplo do Digits\n",
    "\n",
    "![](https://jamesmccaffrey.wordpress.com/wp-content/uploads/2021/09/uci_digits_0_to_9_labeled.jpg?w=1400&h=)"
   ]
  },
  {
   "cell_type": "code",
   "execution_count": 7,
   "metadata": {
    "cellView": "form",
    "colab": {
     "base_uri": "https://localhost:8080/",
     "height": 120,
     "referenced_widgets": [
      "4bcd48aefdcd426cb86e1ab847bacaaf",
      "1ddbe25a399749278e8cb243da0b4721",
      "9b7975f25e974b9eaeb3a8b9fa9c384a",
      "3779b067764541f4a37e0294eaee4610",
      "1bb9dd8814d241a989e22f0724c47ef6",
      "fceba70468f34c3590e2cf168bcd5d14",
      "32f78041edc94f1f8258374f65c54a7e",
      "b7990b2bba03435da2681ada3620e59a"
     ]
    },
    "id": "fUF3zRvaCWzS",
    "outputId": "86123e0e-8498-4d41-9372-081072696e2e"
   },
   "outputs": [
    {
     "data": {
      "application/vnd.jupyter.widget-view+json": {
       "model_id": "91c23d4755e74fad84608239f0670a08",
       "version_major": 2,
       "version_minor": 0
      },
      "text/plain": [
       "Dropdown(description='Métrica:', options=('Matriz de Confusão', 'Acurácia', 'Precisão', 'Recall', 'F1-Score'),…"
      ]
     },
     "metadata": {},
     "output_type": "display_data"
    },
    {
     "data": {
      "application/vnd.jupyter.widget-view+json": {
       "model_id": "67a3bc53e7ed4cd4b7427604c7f7427e",
       "version_major": 2,
       "version_minor": 0
      },
      "text/plain": [
       "Button(description='Mostrar Métrica', style=ButtonStyle())"
      ]
     },
     "metadata": {},
     "output_type": "display_data"
    },
    {
     "data": {
      "application/vnd.jupyter.widget-view+json": {
       "model_id": "9fe4aadddf2b4a1693efb413d12a485b",
       "version_major": 2,
       "version_minor": 0
      },
      "text/plain": [
       "Output()"
      ]
     },
     "metadata": {},
     "output_type": "display_data"
    }
   ],
   "source": [
    "#@title Exemplo do Digits\n",
    "import numpy as np\n",
    "import matplotlib.pyplot as plt\n",
    "import seaborn as sns\n",
    "import ipywidgets as widgets\n",
    "from IPython.display import display, clear_output, Latex\n",
    "from sklearn import datasets\n",
    "from sklearn.model_selection import train_test_split\n",
    "from sklearn.linear_model import LogisticRegression\n",
    "from sklearn.metrics import accuracy_score, precision_score, recall_score, f1_score, confusion_matrix\n",
    "\n",
    "# Carregar o dataset digits\n",
    "digits = datasets.load_digits()\n",
    "X = digits.data\n",
    "y = digits.target\n",
    "\n",
    "# Dividir os dados em treino e teste\n",
    "X_train, X_test, y_train, y_test = train_test_split(X, y, test_size=0.3, random_state=42)\n",
    "\n",
    "# Treinar o modelo de regressão logística\n",
    "model = LogisticRegression(max_iter=10000)\n",
    "model.fit(X_train, y_train)\n",
    "\n",
    "# Fazer previsões\n",
    "y_pred = model.predict(X_test)\n",
    "\n",
    "# Funções para mostrar métricas e fórmulas\n",
    "def show_metrics(metric_type):\n",
    "    with output:\n",
    "        clear_output(wait=True)\n",
    "\n",
    "        if metric_type == 'Matriz de Confusão':\n",
    "            cm = confusion_matrix(y_test, y_pred)\n",
    "            plt.figure(figsize=(8, 5))\n",
    "            sns.heatmap(cm, annot=True, fmt='d', cmap='Blues', cbar=False)\n",
    "            plt.title('Matriz de Confusão')\n",
    "            plt.ylabel('True Label')\n",
    "            plt.xlabel('Predicted Label')\n",
    "            plt.show()\n",
    "\n",
    "            display(Latex(r\"Matriz de Confusão: \\begin{bmatrix} TP & FP \\\\ FN & TN \\end{bmatrix}\"))\n",
    "\n",
    "        elif metric_type == 'Acurácia':\n",
    "            acc = accuracy_score(y_test, y_pred)\n",
    "            print(f\"Acurácia: {acc:.4f}\")\n",
    "            display(Latex(r\"Acurácia: \\frac{TP + TN}{TP + TN + FP + FN}\"))\n",
    "\n",
    "        elif metric_type == 'Precisão':\n",
    "            precision = precision_score(y_test, y_pred, average='macro')\n",
    "            print(f\"Precisão: {precision:.4f}\")\n",
    "            display(Latex(r\"Precisão: \\frac{TP}{TP + FP}\"))\n",
    "\n",
    "        elif metric_type == 'Recall':\n",
    "            recall = recall_score(y_test, y_pred, average='macro')\n",
    "            print(f\"Recall: {recall:.4f}\")\n",
    "            display(Latex(r\"Recall: \\frac{TP}{TP + FN}\"))\n",
    "\n",
    "        elif metric_type == 'F1-Score':\n",
    "            f1 = f1_score(y_test, y_pred, average='macro')\n",
    "            print(f\"F1-Score: {f1:.4f}\")\n",
    "            display(Latex(r\"F1-Score: 2 \\times \\frac{Precisão \\times Recall}{Precisão + Recall}\"))\n",
    "\n",
    "# Widget Dropdown para selecionar a métrica\n",
    "metric_widget = widgets.Dropdown(\n",
    "    options=['Matriz de Confusão', 'Acurácia', 'Precisão', 'Recall', 'F1-Score'],\n",
    "    description='Métrica:'\n",
    ")\n",
    "\n",
    "# Botão para visualizar a métrica\n",
    "plot_button = widgets.Button(description='Mostrar Métrica')\n",
    "\n",
    "# Saída para mostrar as métricas e fórmulas\n",
    "output = widgets.Output()\n",
    "\n",
    "# Função de callback\n",
    "def on_button_click(b):\n",
    "    show_metrics(metric_widget.value)\n",
    "\n",
    "plot_button.on_click(on_button_click)\n",
    "\n",
    "# Exibir o widget de seleção e o botão\n",
    "display(metric_widget, plot_button, output)\n"
   ]
  },
  {
   "cell_type": "markdown",
   "metadata": {
    "id": "-CJ6TGppGZ4k"
   },
   "source": [
    "## Precisão vs. Acurácia em Aprendizado de Máquina\n",
    "\n",
    "### Definições\n",
    "\n",
    "- **Precisão**: Refere-se à consistência dos resultados de um modelo.\n",
    "- **Acurácia**: Medida de quão próximo os resultados estão do valor verdadeiro.\n",
    "\n",
    "### Fórmulas\n",
    "\n",
    "1. **Precisão (Precision)**\n",
    "\n",
    "$$\\text{Precisão} = \\frac{\\text{Verdadeiros Positivos}}{\\text{Verdadeiros Positivos} + \\text{Falsos Positivos}}$$\n",
    "\n",
    "2. **Acurácia (Accuracy)**\n",
    "\n",
    "$$\\text{Acurácia} = \\frac{\\text{Verdadeiros Positivos} + \\text{Verdadeiros Negativos}}{\\text{Total de Amostras}}$$\n",
    "\n",
    "### Exemplo Prático\n",
    "\n",
    "Considere um modelo que classifica e-mails como \"Spam\" ou \"Não Spam\".\n",
    "\n",
    "#### Cenário 1: Alta Precisão, Baixa Acurácia\n",
    "\n",
    "- Total de amostras: 100\n",
    "- Verdadeiros Positivos (Spam correto): 10\n",
    "- Falsos Positivos (Não Spam como Spam): 0\n",
    "- Verdadeiros Negativos (Não Spam correto): 50\n",
    "- Falsos Negativos (Spam como Não Spam): 40\n",
    "\n",
    "**Cálculo da Precisão:**\n",
    "\n",
    "$$\\text{Precisão} = \\frac{10}{10+0} = 1 (100\\%)$$\n",
    "\n",
    "**Cálculo da Acurácia:**\n",
    "\n",
    "$$\\text{Acurácia} = \\frac{10+50}{100} = 0.6 (60\\%)$$\n",
    "\n",
    "#### Cenário 2: Alta Acurácia, Baixa Precisão\n",
    "\n",
    "- Total de amostras: 100\n",
    "- Verdadeiros Positivos (Spam correto): 30\n",
    "- Falsos Positivos (Não Spam como Spam): 20\n",
    "- Verdadeiros Negativos (Não Spam correto): 40\n",
    "- Falsos Negativos (Spam como Não Spam): 10\n",
    "\n",
    "**Cálculo da Precisão:**\n",
    "\n",
    "$$\\text{Precisão} = \\frac{30}{30+20} = 0.6 (60\\%)$$\n",
    "\n",
    "**Cálculo da Acurácia:**\n",
    "\n",
    "$$\\text{Acurácia} = \\frac{30+40}{100} = 0.7 (70\\%)$$\n",
    "\n",
    "### Conclusão\n",
    "\n",
    "Em aprendizado de máquina, é fundamental entender a diferença entre precisão e acurácia para avaliar corretamente o desempenho de um modelo. A precisão é crucial em cenários onde os falsos positivos devem ser minimizados, enquanto a acurácia é uma medida mais geral da eficácia do modelo.\n",
    "\n",
    "![](https://blog.cpetecnologia.com.br/wp-content/uploads/2019/03/compara%C3%A7%C3%A3o.png)"
   ]
  },
  {
   "cell_type": "markdown",
   "metadata": {
    "id": "zZW6pZMcIwaU"
   },
   "source": [
    "## Perigo de Confiar cegamente em uma Acurácia Alta\n",
    "\n",
    "A maioria dos e-mails enviados todos os dias não é spam, o que significa que a porcentagem de spam comparada a e-mails normais em nossos dados tende a ser bem pequena (1% ou menos).\n",
    "\n",
    "Se nós usarmos uma comparação simples, **prevendo que NENHUM e-mail é spam**, teremos uma **acurácia de 99%**.\n",
    "\n",
    "Ou seja, todos os e-mails de spam vão passar por nosso filtro, tornando-o inútil, apesar da acurácia parecer alta.\n",
    "\n",
    "Por isso é importante sempre considerar outras métricas de avaliação mais adequadas no caso de **dados desbalanceados**."
   ]
  },
  {
   "cell_type": "markdown",
   "metadata": {
    "id": "_ElLR5-qLv4Z"
   },
   "source": [
    "## Recall (Sensibilidade) e F1-Score em Aprendizado de Máquina\n",
    "\n",
    "### Definições\n",
    "\n",
    "- **Recall (Sensibilidade)**: Medida da capacidade do modelo de identificar corretamente as verdadeiras instâncias positivas.\n",
    "- **F1-Score**: Média harmônica da precisão e do recall, fornecendo uma única métrica de desempenho para o modelo.\n",
    "\n",
    "### Fórmulas\n",
    "\n",
    "1. **Recall (Sensibilidade)**\n",
    "\n",
    "$$\\text{Recall} = \\frac{\\text{Verdadeiros Positivos}}{\\text{Verdadeiros Positivos} + \\text{Falsos Negativos}}$$\n",
    "\n",
    "2. **F1-Score**\n",
    "\n",
    "$$\\text{F1-Score} = 2 \\cdot \\frac{\\text{Precisão} \\cdot \\text{Recall}}{\\text{Precisão} + \\text{Recall}}$$\n",
    "\n",
    "### Exemplo Prático\n",
    "\n",
    "Considere um modelo que classifica e-mails como \"Spam\" ou \"Não Spam\".\n",
    "\n",
    "#### Cenário 1: Alta Sensibilidade, Baixa Precisão\n",
    "\n",
    "- Total de amostras: 100\n",
    "- Verdadeiros Positivos (Spam correto): 40\n",
    "- Falsos Positivos (Não Spam como Spam): 30\n",
    "- Verdadeiros Negativos (Não Spam correto): 20\n",
    "- Falsos Negativos (Spam como Não Spam): 10\n",
    "\n",
    "**Cálculo da Precisão:**\n",
    "\n",
    "$$\\text{Precisão} = \\frac{40}{40+30} = 0.571 (57.1\\%)$$\n",
    "\n",
    "**Cálculo do Recall:**\n",
    "\n",
    "$$\\text{Recall} = \\frac{40}{40+10} = 0.8 (80\\%)$$\n",
    "\n",
    "**Cálculo do F1-Score:**\n",
    "\n",
    "$$\\text{F1-Score} = 2 \\cdot \\frac{0.571 \\cdot 0.8}{0.571 + 0.8} = 0.667 (66.7\\%)$$\n",
    "\n"
   ]
  },
  {
   "cell_type": "code",
   "execution_count": 47,
   "metadata": {},
   "outputs": [
    {
     "data": {
      "image/jpeg": "[encoded data removed]",
      "text/html": [
       "\n",
       "        <iframe\n",
       "            width=\"560\"\n",
       "            height=\"315\"\n",
       "            src=\"https://www.youtube.com/embed/fIuOwZFtDEU\"\n",
       "            frameborder=\"0\"\n",
       "            allowfullscreen\n",
       "            \n",
       "        ></iframe>\n",
       "        "
      ],
      "text/plain": [
       "<IPython.lib.display.YouTubeVideo at 0x749db0c5ec60>"
      ]
     },
     "execution_count": 47,
     "metadata": {},
     "output_type": "execute_result"
    }
   ],
   "source": [
    "# Tarefa 3\n",
    "YouTubeVideo('fIuOwZFtDEU', width=560, height=315) "
   ]
  },
  {
   "cell_type": "markdown",
   "metadata": {
    "id": "B11zZxqI5VMV"
   },
   "source": [
    "## **TAREFA 3**\n",
    "\n",
    "* gerar uma tabela que tem 5 colunas: altura, peso, colesterol, valor real risco cardíaco, valor previsto.\n",
    "* O valor real e previsto é binário SIM (1) ou NÃO (0)\n",
    "* O usuário pode controlar: número de amostras, a porcentagem de falsos positivos e de falsos negativos.\n",
    "* Calcule a acurária e a precisão usando **for** e usando bibliotecas.\n",
    "* É possível ter um exemplo com alta precisão e baixa acurácia ? E como alta acurácia e baixa precisão ? Ambos altas ? Ambas baixas ?\n",
    "* Mostrar também a matriz de confusão.\n"
   ]
  },
  {
   "cell_type": "code",
   "execution_count": 45,
   "metadata": {},
   "outputs": [
    {
     "name": "stdout",
     "output_type": "stream",
     "text": [
      "============================================================\n",
      "1 - Alta precisão, baixa acurácia\n",
      "   altura  peso  colesterol  valor_real  valor_previsto\n",
      "0     174    74         152           0               0\n",
      "1     168    76         182           1               0\n",
      "2     176    82         200           1               1\n",
      "3     185    82         201           0               0\n",
      "4     167    53         186           1               0\n",
      "Acurácia (for): 0.590 | Precisão (for): 0.895\n",
      "Acurácia (lib): 0.590 | Precisão (lib): 0.895\n",
      "Matriz de confusão:\n",
      " [[101   2]\n",
      " [ 80  17]]\n"
     ]
    },
    {
     "data": {
      "image/png": "[encoded data removed]",
      "text/plain": [
       "<Figure size 640x480 with 1 Axes>"
      ]
     },
     "metadata": {},
     "output_type": "display_data"
    },
    {
     "name": "stdout",
     "output_type": "stream",
     "text": [
      "============================================================\n",
      "2 - Alta acurácia, baixa precisão\n",
      "   altura  peso  colesterol  valor_real  valor_previsto\n",
      "0     174    74         152           0               1\n",
      "1     168    76         182           1               1\n",
      "2     176    82         200           1               1\n",
      "3     185    82         201           0               1\n",
      "4     167    53         186           1               1\n",
      "Acurácia (for): 0.590 | Precisão (for): 0.543\n",
      "Acurácia (lib): 0.590 | Precisão (lib): 0.543\n",
      "Matriz de confusão:\n",
      " [[23 80]\n",
      " [ 2 95]]\n"
     ]
    },
    {
     "data": {
      "image/png": "[encoded data removed]",
      "text/plain": [
       "<Figure size 640x480 with 1 Axes>"
      ]
     },
     "metadata": {},
     "output_type": "display_data"
    },
    {
     "name": "stdout",
     "output_type": "stream",
     "text": [
      "============================================================\n",
      "3 - Ambas altas\n",
      "   altura  peso  colesterol  valor_real  valor_previsto\n",
      "0     174    74         152           0               0\n",
      "1     168    76         182           1               1\n",
      "2     176    82         200           1               1\n",
      "3     185    82         201           0               0\n",
      "4     167    53         186           1               1\n",
      "Acurácia (for): 0.900 | Precisão (for): 0.897\n",
      "Acurácia (lib): 0.900 | Precisão (lib): 0.897\n",
      "Matriz de confusão:\n",
      " [[93 10]\n",
      " [10 87]]\n"
     ]
    },
    {
     "data": {
      "image/png": "[encoded data removed]",
      "text/plain": [
       "<Figure size 640x480 with 1 Axes>"
      ]
     },
     "metadata": {},
     "output_type": "display_data"
    },
    {
     "name": "stdout",
     "output_type": "stream",
     "text": [
      "============================================================\n",
      "4 - Ambas baixas\n",
      "   altura  peso  colesterol  valor_real  valor_previsto\n",
      "0     174    74         152           0               1\n",
      "1     168    76         182           1               0\n",
      "2     176    82         200           1               1\n",
      "3     185    82         201           0               1\n",
      "4     167    53         186           1               0\n",
      "Acurácia (for): 0.200 | Precisão (for): 0.175\n",
      "Acurácia (lib): 0.200 | Precisão (lib): 0.175\n",
      "Matriz de confusão:\n",
      " [[23 80]\n",
      " [80 17]]\n"
     ]
    },
    {
     "data": {
      "image/png": "[encoded data removed]",
      "text/plain": [
       "<Figure size 640x480 with 1 Axes>"
      ]
     },
     "metadata": {},
     "output_type": "display_data"
    }
   ],
   "source": [
    "#complete aqui"
   ]
  },
  {
   "cell_type": "code",
   "execution_count": 51,
   "metadata": {},
   "outputs": [
    {
     "data": {
      "image/jpeg": "[encoded data removed]",
      "text/html": [
       "\n",
       "        <iframe\n",
       "            width=\"560\"\n",
       "            height=\"315\"\n",
       "            src=\"https://www.youtube.com/embed/yt2DYjEMW4Q\"\n",
       "            frameborder=\"0\"\n",
       "            allowfullscreen\n",
       "            \n",
       "        ></iframe>\n",
       "        "
      ],
      "text/plain": [
       "<IPython.lib.display.YouTubeVideo at 0x749db1191df0>"
      ]
     },
     "execution_count": 51,
     "metadata": {},
     "output_type": "execute_result"
    }
   ],
   "source": [
    "# Exemplo tres tecnicas\n",
    "YouTubeVideo('yt2DYjEMW4Q', width=560, height=315) "
   ]
  },
  {
   "cell_type": "markdown",
   "metadata": {},
   "source": [
    "# Exemplo de Spam em Emails e três técnicas de Aprendizado de Máquina\n",
    "\n",
    "* Veremos depois mais detalhes das técnicas, aqui é só um exemplo\n",
    "* Naive Bayes, KNN, Regressão Logística\n",
    "* Este exemplo faz download de uma planilha na internet\n",
    "\n",
    "  https://archive.ics.uci.edu/ml/machine-learning-databases/spambase/spambase.data\n",
    "  "
   ]
  },
  {
   "cell_type": "code",
   "execution_count": 49,
   "metadata": {
    "colab": {
     "base_uri": "https://localhost:8080/",
     "height": 1000,
     "referenced_widgets": [
      "1c04c250c6aa458daece1191d811bd5a",
      "2b57248336614bbdb2e0543df57143ca",
      "3c7e456ac8df431e9aa1f818842c3284",
      "ffc186a3540e4ea790eb4856692d4ae3",
      "9400ef3296b945f1a7655b39a598efbc",
      "1f436f831b004a238d59a6cb32cdad42",
      "112ea6a3abfc4aeaa11c902b4b4e7e11",
      "b348e9eaadd4498a99b64c4e69ed7dd0",
      "c501e3d1bbfd4605b566550e002fbcfd",
      "a2440eae805e4d4098114d53d8c57f19",
      "059b65c91b7049afbdc55e0965188e50",
      "afacd9ea9de0428ca3941305fe4750af"
     ]
    },
    "id": "0nOPgGSkOaOR",
    "outputId": "6958031e-afaf-4193-b5cb-0a18788daf5b"
   },
   "outputs": [
    {
     "name": "stdout",
     "output_type": "stream",
     "text": [
      "--2025-08-19 20:37:35--  https://archive.ics.uci.edu/ml/machine-learning-databases/spambase/spambase.data\n",
      "Resolvendo archive.ics.uci.edu (archive.ics.uci.edu)... 128.195.10.252\n",
      "conectado.-se a archive.ics.uci.edu (archive.ics.uci.edu)|128.195.10.252|:443... \n",
      "A requisição HTTP foi enviada, aguardando resposta... 200 OK\n",
      "Tamanho: não especificada\n",
      "Salvando em: ‘spambase.data’\n",
      "\n",
      "spambase.data           [    <=>             ] 686,47K   829KB/s    em 0,8s    \n",
      "\n",
      "2025-08-19 20:37:36 (829 KB/s) - ‘spambase.data’ salvo [702942]\n",
      "\n"
     ]
    },
    {
     "data": {
      "application/vnd.jupyter.widget-view+json": {
       "model_id": "9af7d6a5873b4ad6b5efeeb3e5b40f6b",
       "version_major": 2,
       "version_minor": 0
      },
      "text/plain": [
       "VBox(children=(HBox(children=(Dropdown(description='Classificador:', options=('Naive Bayes', 'KNN', 'Regressão…"
      ]
     },
     "metadata": {},
     "output_type": "display_data"
    }
   ],
   "source": [
    "#@title Spam e Não Spam - dataset spambase da UCI\n",
    "# Importando bibliotecas necessárias\n",
    "import numpy as np\n",
    "import pandas as pd\n",
    "import matplotlib.pyplot as plt\n",
    "import seaborn as sns\n",
    "import ipywidgets as widgets\n",
    "from sklearn.model_selection import train_test_split\n",
    "from sklearn.naive_bayes import GaussianNB\n",
    "from sklearn.neighbors import KNeighborsClassifier\n",
    "from sklearn.linear_model import LogisticRegression\n",
    "from sklearn.metrics import confusion_matrix, accuracy_score, precision_score, recall_score, f1_score\n",
    "from IPython.display import display, clear_output, Math\n",
    "\n",
    "# Baixando a base de dados\n",
    "!wget https://archive.ics.uci.edu/ml/machine-learning-databases/spambase/spambase.data -O spambase.data\n",
    "\n",
    "# Carregando os dados\n",
    "columns = [f'feature_{i}' for i in range(57)] + ['label']\n",
    "data = pd.read_csv('spambase.data', header=None, names=columns)\n",
    "\n",
    "# Informações sobre os dados\n",
    "X = data.iloc[:, :-1]  # Atributos\n",
    "y = data.iloc[:, -1]   # Classes (0: Não spam, 1: Spam)\n",
    "\n",
    "# Exibindo o balanceamento das classes\n",
    "def show_class_balance():\n",
    "    plt.figure(figsize=(6, 4))\n",
    "    sns.countplot(x=y)\n",
    "    plt.title('Balanceamento das Classes')\n",
    "    plt.xlabel('Classe')\n",
    "    plt.ylabel('Quantidade')\n",
    "    plt.xticks([0, 1], ['Não Spam', 'Spam'])\n",
    "    plt.show()\n",
    "\n",
    "# Função para exibir as métricas com fórmulas\n",
    "def display_metrics_with_formulas(y_test, y_pred):\n",
    "    # Criando uma figura com dois subplots lado a lado\n",
    "    fig, (ax1, ax2) = plt.subplots(1, 2, figsize=(15, 6))\n",
    "\n",
    "    # Matriz de Confusão no primeiro subplot\n",
    "    cm = confusion_matrix(y_test, y_pred)\n",
    "    sns.heatmap(cm, annot=True, fmt=\"d\", cmap=\"Blues\",\n",
    "                xticklabels=['Não Spam', 'Spam'],\n",
    "                yticklabels=['Não Spam', 'Spam'], ax=ax1)\n",
    "    ax1.set_xlabel('Predito')\n",
    "    ax1.set_ylabel('Real')\n",
    "    ax1.set_title('Matriz de Confusão')\n",
    "\n",
    "    # Valores de FP, TP, FN e TN\n",
    "    TN, FP, FN, TP = cm.ravel()\n",
    "\n",
    "    # Calculando métricas\n",
    "    accuracy = accuracy_score(y_test, y_pred)\n",
    "    precision = precision_score(y_test, y_pred)\n",
    "    recall = recall_score(y_test, y_pred)\n",
    "    f1 = f1_score(y_test, y_pred)\n",
    "\n",
    "    # Texto com as métricas no segundo subplot\n",
    "    ax2.axis('off')  # Remove os eixos\n",
    "    metrics_text = (\n",
    "        f\"Métricas de Avaliação:\\n\\n\"\n",
    "        f\"True Positives (TP): {TP}\\n\"\n",
    "        f\"True Negatives (TN): {TN}\\n\"\n",
    "        f\"False Positives (FP): {FP}\\n\"\n",
    "        f\"False Negatives (FN): {FN}\\n\\n\"\n",
    "        f\"Acurácia = (TP + TN)/(TP + TN + FP + FN)\\n\"\n",
    "        f\"Acurácia: {accuracy:.4f}\\n\\n\"\n",
    "        f\"Precisão = TP/(TP + FP)\\n\"\n",
    "        f\"Precisão: {precision:.4f}\\n\\n\"\n",
    "        f\"Recall = TP/(TP + FN)\\n\"\n",
    "        f\"Recall: {recall:.4f}\\n\\n\"\n",
    "        f\"F1 Score = 2 * (Precisão * Recall)/(Precisão + Recall)\\n\"\n",
    "        f\"F1-Score: {f1:.4f}\"\n",
    "    )\n",
    "    ax2.text(0.1, 0.5, metrics_text, fontsize=15, verticalalignment='center')\n",
    "\n",
    "    plt.tight_layout()\n",
    "    plt.show()\n",
    "\n",
    "# Função para treinar e avaliar o modelo\n",
    "def train_and_evaluate_model(model_name):\n",
    "    # Separando os dados em treino e teste\n",
    "    X_train, X_test, y_train, y_test = train_test_split(X, y, test_size=0.3, random_state=42, stratify=y)\n",
    "\n",
    "    if model_name == 'Naive Bayes':\n",
    "        model = GaussianNB()\n",
    "    elif model_name == 'KNN':\n",
    "        model = KNeighborsClassifier(n_neighbors=5)\n",
    "    elif model_name == 'Regressão Logística':\n",
    "        model = LogisticRegression(max_iter=1000)\n",
    "\n",
    "    # Treinando o modelo\n",
    "    model.fit(X_train, y_train)\n",
    "\n",
    "    # Fazendo previsões\n",
    "    y_pred = model.predict(X_test)\n",
    "\n",
    "    # Exibindo métricas com fórmulas\n",
    "    display_metrics_with_formulas(y_test, y_pred)\n",
    "\n",
    "# Criando output widget para mostrar resultados\n",
    "output = widgets.Output()\n",
    "\n",
    "# Widgets para escolha de classificador\n",
    "classifier_widget = widgets.Dropdown(\n",
    "    options=['Naive Bayes', 'KNN', 'Regressão Logística'],\n",
    "    description='Classificador:',\n",
    "    value='Naive Bayes'\n",
    ")\n",
    "\n",
    "# Botão para treinar e avaliar o modelo\n",
    "evaluate_button = widgets.Button(description='Treinar e Avaliar')\n",
    "\n",
    "# Função de callback para o botão\n",
    "def on_button_click(b):\n",
    "    with output:\n",
    "        clear_output()\n",
    "        print(f\"Classificador escolhido: {classifier_widget.value}\")\n",
    "        print(f\"Total de amostras: {len(data)}\")\n",
    "        print(f\"Número de atributos: {X.shape[1]}\")\n",
    "        show_class_balance()\n",
    "        train_and_evaluate_model(classifier_widget.value)\n",
    "\n",
    "# Conectando o botão ao callback\n",
    "evaluate_button.on_click(on_button_click)\n",
    "\n",
    "# Layout vertical para organizar os widgets\n",
    "vbox = widgets.VBox([\n",
    "    widgets.HBox([classifier_widget, evaluate_button]),\n",
    "    output\n",
    "])\n",
    "\n",
    "# Exibindo o menu e o output\n",
    "display(vbox)"
   ]
  },
  {
   "cell_type": "markdown",
   "metadata": {
    "id": "eQAULJA_9cYs"
   },
   "source": [
    "# Exploração dos Dados"
   ]
  },
  {
   "cell_type": "code",
   "execution_count": 10,
   "metadata": {
    "colab": {
     "base_uri": "https://localhost:8080/",
     "height": 589,
     "referenced_widgets": [
      "af2f40bb25a34dc6ac00c578cf2ce9a0",
      "0de81fd8c33c4f5a97c42bf5bd0eea66",
      "b0e04c7b0ca24cfe8609b29d43596553",
      "859dd22d7f684db1b585afca82024a84",
      "7f4c38a971db4086a0f618378a22cf80",
      "01975ef6f3384d2296249409be928703",
      "c01e9606df884d109e21ce8127b02d63"
     ]
    },
    "id": "Q4tnP2Ko99C3",
    "outputId": "42a0cb21-d8dd-42cd-b4fa-5f5162e0378c"
   },
   "outputs": [
    {
     "name": "stdout",
     "output_type": "stream",
     "text": [
      "Número de atributos numéricos: 57\n",
      "Número de atributos categóricos: 0\n",
      "Colunas numéricas: ['feature_0', 'feature_1', 'feature_2', 'feature_3', 'feature_4'] ...\n",
      "Colunas categóricas: []\n"
     ]
    },
    {
     "data": {
      "application/vnd.jupyter.widget-view+json": {
       "model_id": "d7cdee29a4c348a0bcd542ca38db5676",
       "version_major": 2,
       "version_minor": 0
      },
      "text/plain": [
       "interactive(children=(Dropdown(description='Numérica:', options=('feature_0', 'feature_1', 'feature_2', 'featu…"
      ]
     },
     "metadata": {},
     "output_type": "display_data"
    }
   ],
   "source": [
    "# --- Exploração inicial ---\n",
    "# Detectando colunas numéricas e categóricas\n",
    "num_cols = X.select_dtypes(include=[np.number]).columns.tolist()\n",
    "cat_cols = X.select_dtypes(exclude=[np.number]).columns.tolist()\n",
    "\n",
    "print(f\"Número de atributos numéricos: {len(num_cols)}\")\n",
    "print(f\"Número de atributos categóricos: {len(cat_cols)}\")\n",
    "\n",
    "# Caso não tenha categóricos, vamos considerar como categórico qualquer coluna com <= 10 valores únicos\n",
    "if len(cat_cols) == 0:\n",
    "    cat_cols = [col for col in X.columns if X[col].nunique() <= 10]\n",
    "\n",
    "print(\"Colunas numéricas:\", num_cols[:5], \"...\" if len(num_cols)>5 else \"\")\n",
    "print(\"Colunas categóricas:\", cat_cols)\n",
    "\n",
    "# --- Funções de plot ---\n",
    "def plot_hist_num(col):\n",
    "    plt.figure(figsize=(7,5))\n",
    "    sns.histplot(X[col], bins=30, kde=True, color=\"skyblue\")\n",
    "    plt.title(f\"Histograma da variável numérica: {col}\")\n",
    "    plt.show()\n",
    "\n",
    "def plot_hist_cat(col):\n",
    "    plt.figure(figsize=(7,5))\n",
    "    sns.countplot(x=X[col], palette=\"Set2\")\n",
    "    plt.title(f\"Histograma da variável categórica: {col}\")\n",
    "    plt.xticks(rotation=45)\n",
    "    plt.show()\n",
    "\n",
    "# --- Widgets ---\n",
    "if num_cols:\n",
    "    num_dropdown = widgets.Dropdown(\n",
    "        options=num_cols,\n",
    "        description='Numérica:',\n",
    "        value=num_cols[0]\n",
    "    )\n",
    "    widgets.interact(plot_hist_num, col=num_dropdown)\n",
    "\n",
    "if cat_cols:\n",
    "    cat_dropdown = widgets.Dropdown(\n",
    "        options=cat_cols,\n",
    "        description='Categórica:',\n",
    "        value=cat_cols[0]\n",
    "    )\n",
    "    widgets.interact(plot_hist_cat, col=cat_dropdown)\n"
   ]
  },
  {
   "cell_type": "markdown",
   "metadata": {
    "id": "-8s4yHiSdEEt"
   },
   "source": [
    "# Normalização de Dados\n",
    "\n",
    "## Métodos de Normalização de Dados\n",
    "\n",
    "### 1. Min-Max Scaling\n",
    "Este método escala os dados de modo que todos os valores fiquem entre um valor mínimo e um valor máximo, geralmente entre 0 e 1.\n",
    "\n",
    "**Fórmula:**\n",
    "\n",
    "$$X_{\\text{norm}} = \\frac{X - X_{\\text{min}}}{X_{\\text{max}} - X_{\\text{min}}}$$\n",
    "\n",
    "**Exemplo:**\n",
    "Se você tem uma coluna de dados com valores variando entre 10 e 100, a normalização Min-Max vai transformar 10 em 0 e 100 em 1.\n",
    "\n",
    "### 2. Z-Score Normalization (Padronização)\n",
    "Este método transforma os dados para que tenham média 0 e desvio padrão 1. É muito útil quando os dados têm uma distribuição normal.\n",
    "\n",
    "**Fórmula:**\n",
    "\n",
    "$$X_{\\text{norm}} = \\frac{X - \\mu}{\\sigma}$$\n",
    "\n",
    "Onde \\( \\mu \\) é a média e \\( \\sigma \\) é o desvio padrão.\n",
    "\n",
    "**Exemplo:**\n",
    "Se um conjunto de dados tem média de 50 e desvio padrão de 10, um valor de 60 será transformado em \\((60-50)/10 = 1\\).\n",
    "\n",
    "### 3. Normalization by Decimal Scaling\n",
    "Move a vírgula decimal dos valores de dados. O número de movimentos depende do valor máximo absoluto dos dados.\n",
    "\n",
    "**Fórmula:**\n",
    "\n",
    "$$X_{\\text{norm}} = \\frac{X}{10^j}$$\n",
    "\n",
    "Onde \\( j \\) é o menor número inteiro tal que \\( \\max(|X|) < 1 \\).\n",
    "\n",
    "### 4. Log Transformation\n",
    "Aplica a função logarítmica aos dados, reduzindo a variabilidade e tornando a distribuição mais semelhante a uma normal.\n",
    "\n",
    "**Fórmula:**\n",
    "\n",
    "$$X_{\\text{norm}} = \\log(X)$$\n",
    "\n",
    "**Exemplo:**\n",
    "Transformar valores como 1, 10, 100 resultará em 0, 1, 2, respectivamente, na base 10.\n",
    "\n",
    "### 5. Robust Scaler\n",
    "Usa a mediana e os quartis, em vez da média e desvio padrão, sendo útil para dados com outliers.\n",
    "\n",
    "**Fórmula:**\n",
    "\n",
    "$$X_{\\text{norm}} = \\frac{X - \\text{mediana}}{\\text{IQR}}$$\n",
    "\n",
    "Onde \\( \\text{IQR} \\) é o intervalo interquartil (diferença entre o terceiro quartil e o primeiro quartil).\n",
    "\n",
    "---\n",
    "\n",
    "Esses métodos ajudam a preparar os dados para modelos, melhorando a performance e a estabilidade.\n"
   ]
  },
  {
   "cell_type": "code",
   "execution_count": 61,
   "metadata": {
    "cellView": "form",
    "colab": {
     "base_uri": "https://localhost:8080/",
     "height": 433,
     "referenced_widgets": [
      "a9c5c38b43204f7c9410c527178066b9",
      "09d69c45f83c473b9f28227b727613dd",
      "d0156310d4cc4d04b9838579ec723e1a",
      "8e09fc90f74b4f5a9b213f48406cc1aa",
      "0bea4ab975db4c32a40d82cbb8ca569a",
      "108271b9123742579a1f55f6ce3edc23",
      "909762689ee04593bb98aea66064f66c",
      "539d4600e8c24b7fbf104d086cd72d79",
      "bb2107133324415895c208ed960bf95b",
      "a855e0b9824045799e4a7c369df3cb04",
      "7aefeac58d6a4d4e917b032828636087",
      "92ec5a3f88f14efdba41055db150577d",
      "58bf6560b5aa4730a7ca1eea0563d50b",
      "173075c2cc9446e5a7930774f2c8d1dc"
     ]
    },
    "id": "UKgpX4_HdoZh",
    "outputId": "ddc8aa98-5cf4-4e16-9732-8341de8b59eb"
   },
   "outputs": [
    {
     "data": {
      "application/vnd.jupyter.widget-view+json": {
       "model_id": "3c4ae477ffd4402ca9183c41e9be9183",
       "version_major": 2,
       "version_minor": 0
      },
      "text/plain": [
       "Dropdown(description='Dados:', options=('Idade (Baixa dispersão)', 'Idade (Alta dispersão)', 'Altura (Baixa di…"
      ]
     },
     "metadata": {},
     "output_type": "display_data"
    },
    {
     "data": {
      "application/vnd.jupyter.widget-view+json": {
       "model_id": "7cda80202da545faa454e12097e8f564",
       "version_major": 2,
       "version_minor": 0
      },
      "text/plain": [
       "Dropdown(description='Gráfico:', options=('Histograma', 'Boxplot'), value='Histograma')"
      ]
     },
     "metadata": {},
     "output_type": "display_data"
    },
    {
     "data": {
      "application/vnd.jupyter.widget-view+json": {
       "model_id": "aa022d8b7aec4796914cc1b6e343d6d8",
       "version_major": 2,
       "version_minor": 0
      },
      "text/plain": [
       "Dropdown(description='Normalização:', options=('Min-Max', 'Z-Score'), value='Min-Max')"
      ]
     },
     "metadata": {},
     "output_type": "display_data"
    },
    {
     "data": {
      "application/vnd.jupyter.widget-view+json": {
       "model_id": "aa9d32ab1d81429a82f15e50cb91fd63",
       "version_major": 2,
       "version_minor": 0
      },
      "text/plain": [
       "Button(description='Plotar Gráficos', style=ButtonStyle())"
      ]
     },
     "metadata": {},
     "output_type": "display_data"
    },
    {
     "data": {
      "application/vnd.jupyter.widget-view+json": {
       "model_id": "60a7c8d3ef274437b86be8e745c762aa",
       "version_major": 2,
       "version_minor": 0
      },
      "text/plain": [
       "Output()"
      ]
     },
     "metadata": {},
     "output_type": "display_data"
    }
   ],
   "source": [
    "#@title Exemplo Histograma e Box Plot xom Normalização\n",
    "import numpy as np\n",
    "import matplotlib.pyplot as plt\n",
    "import seaborn as sns\n",
    "import ipywidgets as widgets\n",
    "from IPython.display import display, clear_output\n",
    "\n",
    "# Função para gerar os dados de exemplo\n",
    "def generate_data(dataset_type):\n",
    "    if dataset_type == 'Idade (Baixa dispersão)':\n",
    "        data = np.random.normal(loc=30, scale=5, size=100)  # Média 30, desvio padrão 5\n",
    "    elif dataset_type == 'Idade (Alta dispersão)':\n",
    "        data = np.random.normal(loc=30, scale=15, size=100)  # Média 30, desvio padrão 15\n",
    "    elif dataset_type == 'Altura (Baixa dispersão)':\n",
    "        data = np.random.normal(loc=1.70, scale=0.05, size=100)  # Média 1.70, desvio padrão 0.05\n",
    "    elif dataset_type == 'Altura (Alta dispersão)':\n",
    "        data = np.random.normal(loc=1.70, scale=0.15, size=100)  # Média 1.70, desvio padrão 0.15\n",
    "    elif dataset_type == 'Peso (Baixa dispersão)':\n",
    "        data = np.random.normal(loc=70, scale=5, size=100)  # Média 70, desvio padrão 5\n",
    "    elif dataset_type == 'Peso (Alta dispersão)':\n",
    "        data = np.random.normal(loc=70, scale=20, size=100)  # Média 70, desvio padrão 20\n",
    "\n",
    "    # Limitar os valores negativos a 0\n",
    "    data = np.clip(data, a_min=0, a_max=None)\n",
    "\n",
    "    return data\n",
    "\n",
    "# Função para normalizar os dados\n",
    "def normalize_data(data, method):\n",
    "    if method == 'Min-Max':\n",
    "        return (data - np.min(data)) / (np.max(data) - np.min(data))\n",
    "    elif method == 'Z-Score':\n",
    "        return (data - np.mean(data)) / np.std(data)\n",
    "\n",
    "# Função para gerar os gráficos\n",
    "def plot_histogram_boxplot(original_data, normalized_data, graph_type):\n",
    "    with output:\n",
    "        clear_output(wait=True)\n",
    "        plt.figure(figsize=(14, 5))\n",
    "\n",
    "        # Gráfico dos dados originais\n",
    "        plt.subplot(1, 2, 1)\n",
    "        if graph_type == 'Histograma':\n",
    "            plt.hist(original_data, bins=15, color='skyblue', edgecolor='black')\n",
    "            plt.title('Histograma - Dados Originais')\n",
    "            plt.xlabel('Valores')\n",
    "            plt.ylabel('Frequência')\n",
    "        elif graph_type == 'Boxplot':\n",
    "            sns.boxplot(data=original_data, color='skyblue')\n",
    "            plt.title('Boxplot - Dados Originais')\n",
    "            plt.xlabel('Valores')\n",
    "\n",
    "        # Gráfico dos dados normalizados\n",
    "        plt.subplot(1, 2, 2)\n",
    "        if graph_type == 'Histograma':\n",
    "            plt.hist(normalized_data, bins=15, color='lightgreen', edgecolor='black')\n",
    "            plt.title('Histograma - Dados Normalizados')\n",
    "            plt.xlabel('Valores')\n",
    "            plt.ylabel('Frequência')\n",
    "        elif graph_type == 'Boxplot':\n",
    "            sns.boxplot(data=normalized_data, color='lightgreen')\n",
    "            plt.title('Boxplot - Dados Normalizados')\n",
    "            plt.xlabel('Valores')\n",
    "\n",
    "        plt.tight_layout()\n",
    "        plt.show()\n",
    "\n",
    "# Widgets para seleção de dados, tipo de gráfico e método de normalização\n",
    "dataset_widget = widgets.Dropdown(\n",
    "    options=['Idade (Baixa dispersão)', 'Idade (Alta dispersão)',\n",
    "             'Altura (Baixa dispersão)', 'Altura (Alta dispersão)',\n",
    "             'Peso (Baixa dispersão)', 'Peso (Alta dispersão)'],\n",
    "    description='Dados:',\n",
    "    value='Idade (Baixa dispersão)'\n",
    ")\n",
    "\n",
    "graph_widget = widgets.Dropdown(\n",
    "    options=['Histograma', 'Boxplot'],\n",
    "    description='Gráfico:',\n",
    "    value='Histograma'\n",
    ")\n",
    "\n",
    "normalization_widget = widgets.Dropdown(\n",
    "    options=['Min-Max', 'Z-Score'],\n",
    "    description='Normalização:',\n",
    "    value='Min-Max'\n",
    ")\n",
    "\n",
    "# Botão de plotar\n",
    "plot_button = widgets.Button(description='Plotar Gráficos')\n",
    "\n",
    "# Saída para o gráfico e as estatísticas\n",
    "output = widgets.Output()\n",
    "\n",
    "# Função de callback\n",
    "def on_button_click(b):\n",
    "    original_data = generate_data(dataset_widget.value)\n",
    "    normalized_data = normalize_data(original_data, normalization_widget.value)\n",
    "    plot_histogram_boxplot(original_data, normalized_data, graph_widget.value)\n",
    "\n",
    "plot_button.on_click(on_button_click)\n",
    "\n",
    "# Exibir os widgets e a saída do gráfico\n",
    "display(dataset_widget, graph_widget, normalization_widget, plot_button, output)\n"
   ]
  },
  {
   "cell_type": "code",
   "execution_count": 64,
   "metadata": {},
   "outputs": [
    {
     "data": {
      "text/html": [
       "\n",
       "        <iframe\n",
       "            width=\"560\"\n",
       "            height=\"315\"\n",
       "            src=\"https://www.youtube.com/embed/Iit8WMYyglY\"\n",
       "            frameborder=\"0\"\n",
       "            allowfullscreen\n",
       "            \n",
       "        ></iframe>\n",
       "        "
      ],
      "text/plain": [
       "<IPython.lib.display.YouTubeVideo at 0x749db10b2e70>"
      ]
     },
     "execution_count": 64,
     "metadata": {},
     "output_type": "execute_result"
    }
   ],
   "source": [
    "# Tarefa 4\n",
    "YouTubeVideo('Iit8WMYyglY', width=560, height=315) "
   ]
  },
  {
   "cell_type": "markdown",
   "metadata": {
    "id": "E-dlALm8-TGv"
   },
   "source": [
    "## **TAREFA 4**\n",
    "\n",
    "* Usar o código do exemplo 1\n",
    "* Verificar a acurácia para os métodos aplicados ao dataset spam se aplicarmos as normalização antes de chamar o método.\n",
    "\n",
    "\n"
   ]
  },
  {
   "cell_type": "code",
   "execution_count": 63,
   "metadata": {
    "colab": {
     "base_uri": "https://localhost:8080/",
     "height": 975,
     "referenced_widgets": [
      "0d16f316b3d14a05bbf2079c00f7259f",
      "9c7b74d0a5d944a6b657e8f9e03cc95a",
      "3c86bb399b40496c811affbe7f4ac6dd",
      "04aea571491e4be3b6bf631f35e3698f",
      "ff5eb45c46444b129ecab1081df65a27",
      "7944201e9a5c4659a97efebd4094e029",
      "6c3cd6cd7f7c4701a867f923639fdc3f",
      "48d4a6cd766141cd8bd8b76d10d39a58",
      "d34900bbab824d4983d12e9da69ebfda",
      "d739d8bd275c4a7b8e10e8d41800cc2d",
      "d0ff6fc2ebce44e6b44a41f21bfd7f99",
      "0cbda42611dc49f6ad4f1fda83017e3f",
      "2796184b17364f9e86bf8347ed8cdda3",
      "9386c442f6ad4c469412654de75008c0",
      "6b967faef92f47ba95d1ae5f4dabe067"
     ]
    },
    "id": "8mt93FZm-Sv3",
    "outputId": "d24cccef-4001-4fe6-fa3a-cd50bd1a2767"
   },
   "outputs": [
    {
     "data": {
      "application/vnd.jupyter.widget-view+json": {
       "model_id": "fa068214945d4545acb3c6883b5afb17",
       "version_major": 2,
       "version_minor": 0
      },
      "text/plain": [
       "VBox(children=(HBox(children=(Dropdown(description='Classificador:', options=('Naive Bayes', 'KNN', 'Regressão…"
      ]
     },
     "metadata": {},
     "output_type": "display_data"
    }
   ],
   "source": [
    "# complete aqui"
   ]
  },
  {
   "cell_type": "code",
   "execution_count": null,
   "metadata": {},
   "outputs": [],
   "source": [
    "# Tarefa 5\n",
    "YouTubeVideo('g7b5WMLV', width=560, height=315) "
   ]
  },
  {
   "cell_type": "markdown",
   "metadata": {
    "id": "97vVvkVpbW7O"
   },
   "source": [
    "## **TAREFA 5**\n",
    "\n",
    "Fazer uma tabela com 6 colunas com a acuracia em função da normalização e nas linhas as três técnicas\n",
    "\n",
    "Tecnica | Sem normalização | MinMax | Zscore | Decimal | Log | Robust\n",
    "--|--|--|--|--|--|--\n",
    "Naive Bayes |\n",
    "Knn |\n",
    "Regressão Logística |\n"
   ]
  },
  {
   "cell_type": "code",
   "execution_count": 65,
   "metadata": {
    "scrolled": true
   },
   "outputs": [
    {
     "name": "stderr",
     "output_type": "stream",
     "text": [
      "/home/jupyterhub/jupyterhub/lib/python3.12/site-packages/sklearn/linear_model/_logistic.py:473: ConvergenceWarning: lbfgs failed to converge after 1000 iteration(s) (status=1):\n",
      "STOP: TOTAL NO. OF ITERATIONS REACHED LIMIT\n",
      "\n",
      "Increase the number of iterations to improve the convergence (max_iter=1000).\n",
      "You might also want to scale the data as shown in:\n",
      "    https://scikit-learn.org/stable/modules/preprocessing.html\n",
      "Please also refer to the documentation for alternative solver options:\n",
      "    https://scikit-learn.org/stable/modules/linear_model.html#logistic-regression\n",
      "  n_iter_i = _check_optimize_result(\n"
     ]
    },
    {
     "data": {
      "text/html": [
       "<div>\n",
       "<style scoped>\n",
       "    .dataframe tbody tr th:only-of-type {\n",
       "        vertical-align: middle;\n",
       "    }\n",
       "\n",
       "    .dataframe tbody tr th {\n",
       "        vertical-align: top;\n",
       "    }\n",
       "\n",
       "    .dataframe thead th {\n",
       "        text-align: right;\n",
       "    }\n",
       "</style>\n",
       "<table border=\"1\" class=\"dataframe\">\n",
       "  <thead>\n",
       "    <tr style=\"text-align: right;\">\n",
       "      <th></th>\n",
       "      <th>Sem</th>\n",
       "      <th>MinMax</th>\n",
       "      <th>Z-Score</th>\n",
       "      <th>Decimal</th>\n",
       "      <th>Log</th>\n",
       "      <th>Robust</th>\n",
       "    </tr>\n",
       "  </thead>\n",
       "  <tbody>\n",
       "    <tr>\n",
       "      <th>Naive Bayes</th>\n",
       "      <td>0.824</td>\n",
       "      <td>0.8197</td>\n",
       "      <td>0.8197</td>\n",
       "      <td>0.8197</td>\n",
       "      <td>0.8364</td>\n",
       "      <td>0.8197</td>\n",
       "    </tr>\n",
       "    <tr>\n",
       "      <th>KNN</th>\n",
       "      <td>0.7915</td>\n",
       "      <td>0.8993</td>\n",
       "      <td>0.8993</td>\n",
       "      <td>0.895</td>\n",
       "      <td>0.9247</td>\n",
       "      <td>0.9022</td>\n",
       "    </tr>\n",
       "    <tr>\n",
       "      <th>Regressão Logística</th>\n",
       "      <td>0.9283</td>\n",
       "      <td>0.8827</td>\n",
       "      <td>0.9283</td>\n",
       "      <td>0.8038</td>\n",
       "      <td>0.9413</td>\n",
       "      <td>0.9283</td>\n",
       "    </tr>\n",
       "  </tbody>\n",
       "</table>\n",
       "</div>"
      ],
      "text/plain": [
       "                        Sem  MinMax Z-Score Decimal     Log  Robust\n",
       "Naive Bayes           0.824  0.8197  0.8197  0.8197  0.8364  0.8197\n",
       "KNN                  0.7915  0.8993  0.8993   0.895  0.9247  0.9022\n",
       "Regressão Logística  0.9283  0.8827  0.9283  0.8038  0.9413  0.9283"
      ]
     },
     "execution_count": 65,
     "metadata": {},
     "output_type": "execute_result"
    }
   ],
   "source": [
    "# complete aqui"
   ]
  },
  {
   "cell_type": "code",
   "execution_count": 13,
   "metadata": {
    "colab": {
     "base_uri": "https://localhost:8080/",
     "height": 300
    },
    "id": "SLPU2Zb_cecc",
    "outputId": "d5f4edcc-6aa8-4c57-8b62-90eeacf338ba"
   },
   "outputs": [
    {
     "name": "stderr",
     "output_type": "stream",
     "text": [
      "/home/jupyterhub/jupyterhub/lib/python3.12/site-packages/sklearn/linear_model/_logistic.py:473: ConvergenceWarning: lbfgs failed to converge after 1000 iteration(s) (status=1):\n",
      "STOP: TOTAL NO. OF ITERATIONS REACHED LIMIT\n",
      "\n",
      "Increase the number of iterations to improve the convergence (max_iter=1000).\n",
      "You might also want to scale the data as shown in:\n",
      "    https://scikit-learn.org/stable/modules/preprocessing.html\n",
      "Please also refer to the documentation for alternative solver options:\n",
      "    https://scikit-learn.org/stable/modules/linear_model.html#logistic-regression\n",
      "  n_iter_i = _check_optimize_result(\n"
     ]
    },
    {
     "data": {
      "text/html": [
       "<style type=\"text/css\">\n",
       "</style>\n",
       "<table id=\"T_4ea3c\">\n",
       "  <caption>Acurácia em função da normalização</caption>\n",
       "  <thead>\n",
       "    <tr>\n",
       "      <th class=\"blank level0\" >&nbsp;</th>\n",
       "      <th id=\"T_4ea3c_level0_col0\" class=\"col_heading level0 col0\" >Nenhuma</th>\n",
       "      <th id=\"T_4ea3c_level0_col1\" class=\"col_heading level0 col1\" >Min-Max</th>\n",
       "      <th id=\"T_4ea3c_level0_col2\" class=\"col_heading level0 col2\" >Z-Score</th>\n",
       "      <th id=\"T_4ea3c_level0_col3\" class=\"col_heading level0 col3\" >Decimal Scaling</th>\n",
       "      <th id=\"T_4ea3c_level0_col4\" class=\"col_heading level0 col4\" >Log Transformation</th>\n",
       "      <th id=\"T_4ea3c_level0_col5\" class=\"col_heading level0 col5\" >Robust Scaler</th>\n",
       "    </tr>\n",
       "  </thead>\n",
       "  <tbody>\n",
       "    <tr>\n",
       "      <th id=\"T_4ea3c_level0_row0\" class=\"row_heading level0 row0\" >Naive Bayes</th>\n",
       "      <td id=\"T_4ea3c_row0_col0\" class=\"data row0 col0\" >0.824000</td>\n",
       "      <td id=\"T_4ea3c_row0_col1\" class=\"data row0 col1\" >0.819700</td>\n",
       "      <td id=\"T_4ea3c_row0_col2\" class=\"data row0 col2\" >0.819700</td>\n",
       "      <td id=\"T_4ea3c_row0_col3\" class=\"data row0 col3\" >0.819700</td>\n",
       "      <td id=\"T_4ea3c_row0_col4\" class=\"data row0 col4\" >0.836400</td>\n",
       "      <td id=\"T_4ea3c_row0_col5\" class=\"data row0 col5\" >0.819700</td>\n",
       "    </tr>\n",
       "    <tr>\n",
       "      <th id=\"T_4ea3c_level0_row1\" class=\"row_heading level0 row1\" >KNN</th>\n",
       "      <td id=\"T_4ea3c_row1_col0\" class=\"data row1 col0\" >0.791500</td>\n",
       "      <td id=\"T_4ea3c_row1_col1\" class=\"data row1 col1\" >0.899300</td>\n",
       "      <td id=\"T_4ea3c_row1_col2\" class=\"data row1 col2\" >0.899300</td>\n",
       "      <td id=\"T_4ea3c_row1_col3\" class=\"data row1 col3\" >0.883400</td>\n",
       "      <td id=\"T_4ea3c_row1_col4\" class=\"data row1 col4\" >0.924700</td>\n",
       "      <td id=\"T_4ea3c_row1_col5\" class=\"data row1 col5\" >0.902200</td>\n",
       "    </tr>\n",
       "    <tr>\n",
       "      <th id=\"T_4ea3c_level0_row2\" class=\"row_heading level0 row2\" >Regressão Logística</th>\n",
       "      <td id=\"T_4ea3c_row2_col0\" class=\"data row2 col0\" >0.928300</td>\n",
       "      <td id=\"T_4ea3c_row2_col1\" class=\"data row2 col1\" >0.882700</td>\n",
       "      <td id=\"T_4ea3c_row2_col2\" class=\"data row2 col2\" >0.928300</td>\n",
       "      <td id=\"T_4ea3c_row2_col3\" class=\"data row2 col3\" >0.810300</td>\n",
       "      <td id=\"T_4ea3c_row2_col4\" class=\"data row2 col4\" >0.941300</td>\n",
       "      <td id=\"T_4ea3c_row2_col5\" class=\"data row2 col5\" >0.928300</td>\n",
       "    </tr>\n",
       "  </tbody>\n",
       "</table>\n"
      ],
      "text/plain": [
       "<pandas.io.formats.style.Styler at 0x749db149a5d0>"
      ]
     },
     "metadata": {},
     "output_type": "display_data"
    }
   ],
   "source": [
    "## Complete aqui\n",
    "#@title Comparação de normalizações - tabela de acurácia\n",
    "import numpy as np\n",
    "import pandas as pd\n",
    "from sklearn.model_selection import train_test_split\n",
    "from sklearn.naive_bayes import GaussianNB\n",
    "from sklearn.neighbors import KNeighborsClassifier\n",
    "from sklearn.linear_model import LogisticRegression\n",
    "from sklearn.metrics import accuracy_score\n",
    "from sklearn.preprocessing import MinMaxScaler, StandardScaler, RobustScaler\n",
    "\n",
    "# ---------------- Normalizações ---------------- #\n",
    "def apply_normalization(X, method):\n",
    "    if method == \"Nenhuma\":\n",
    "        return X.values\n",
    "    elif method == \"Min-Max\":\n",
    "        scaler = MinMaxScaler()\n",
    "        return scaler.fit_transform(X)\n",
    "    elif method == \"Z-Score\":\n",
    "        scaler = StandardScaler()\n",
    "        return scaler.fit_transform(X)\n",
    "    elif method == \"Robust Scaler\":\n",
    "        scaler = RobustScaler()\n",
    "        return scaler.fit_transform(X)\n",
    "    elif method == \"Decimal Scaling\":\n",
    "        j = np.ceil(np.log10(X.abs().max())).astype(int)\n",
    "        return X / (10**j)\n",
    "    elif method == \"Log Transformation\":\n",
    "        return np.log1p(X)  # log(1+x) para evitar log(0)\n",
    "    else:\n",
    "        return X.values\n",
    "\n",
    "# ---------------- Treino e Avaliação ---------------- #\n",
    "def evaluate_accuracy(model_name, normalization):\n",
    "    X_proc = apply_normalization(X, normalization)\n",
    "    X_train, X_test, y_train, y_test = train_test_split(\n",
    "        X_proc, y, test_size=0.3, random_state=42, stratify=y)\n",
    "\n",
    "    if model_name == 'Naive Bayes':\n",
    "        model = GaussianNB()\n",
    "    elif model_name == 'KNN':\n",
    "        model = KNeighborsClassifier(n_neighbors=5)\n",
    "    elif model_name == 'Regressão Logística':\n",
    "        model = LogisticRegression(max_iter=1000)\n",
    "\n",
    "    model.fit(X_train, y_train)\n",
    "    y_pred = model.predict(X_test)\n",
    "    return accuracy_score(y_test, y_pred)\n",
    "\n",
    "# ---------------- Geração da Tabela ---------------- #\n",
    "normalizations = ['Nenhuma', 'Min-Max', 'Z-Score', 'Decimal Scaling', 'Log Transformation', 'Robust Scaler']\n",
    "classifiers = ['Naive Bayes', 'KNN', 'Regressão Logística']\n",
    "\n",
    "results = pd.DataFrame(index=classifiers, columns=normalizations)\n",
    "\n",
    "for clf in classifiers:\n",
    "    for norm in normalizations:\n",
    "        acc = evaluate_accuracy(clf, norm)\n",
    "        results.loc[clf, norm] = round(acc, 4)\n",
    "\n",
    "import ipywidgets as widgets\n",
    "from IPython.display import display\n",
    "\n",
    "# Mostrar tabela formatada\n",
    "display(results.style.set_caption(\"Acurácia em função da normalização\").background_gradient(cmap=\"Blues\"))\n"
   ]
  },
  {
   "cell_type": "markdown",
   "metadata": {},
   "source": [
    "# Envio para Google Colab"
   ]
  },
  {
   "cell_type": "code",
   "execution_count": 66,
   "metadata": {},
   "outputs": [
    {
     "data": {
      "text/html": [
       "\n",
       "        <iframe\n",
       "            width=\"560\"\n",
       "            height=\"315\"\n",
       "            src=\"https://www.youtube.com/embed/Iham7R_e7mU\"\n",
       "            frameborder=\"0\"\n",
       "            allowfullscreen\n",
       "            \n",
       "        ></iframe>\n",
       "        "
      ],
      "text/plain": [
       "<IPython.lib.display.YouTubeVideo at 0x749db10b1550>"
      ]
     },
     "execution_count": 66,
     "metadata": {},
     "output_type": "execute_result"
    }
   ],
   "source": [
    "# Envio\n",
    "YouTubeVideo('Iham7R_e7mU', width=560, height=315) "
   ]
  }
 ],
 "metadata": {
  "colab": {
   "provenance": []
  },
  "kernelspec": {
   "display_name": "Python 3 (ipykernel)",
   "language": "python",
   "name": "python3"
  },
  "language_info": {
   "codemirror_mode": {
    "name": "ipython",
    "version": 3
   },
   "file_extension": ".py",
   "mimetype": "text/x-python",
   "name": "python",
   "nbconvert_exporter": "python",
   "pygments_lexer": "ipython3",
   "version": "3.12.3"
  },
  "widgets": {
   "application/vnd.jupyter.widget-state+json": {
    "01975ef6f3384d2296249409be928703": {
     "model_module": "@jupyter-widgets/controls",
     "model_module_version": "1.5.0",
     "model_name": "DescriptionStyleModel",
     "state": {
      "_model_module": "@jupyter-widgets/controls",
      "_model_module_version": "1.5.0",
      "_model_name": "DescriptionStyleModel",
      "_view_count": null,
      "_view_module": "@jupyter-widgets/base",
      "_view_module_version": "1.2.0",
      "_view_name": "StyleView",
      "description_width": ""
     }
    },
    "04aea571491e4be3b6bf631f35e3698f": {
     "model_module": "@jupyter-widgets/base",
     "model_module_version": "1.2.0",
     "model_name": "LayoutModel",
     "state": {
      "_model_module": "@jupyter-widgets/base",
      "_model_module_version": "1.2.0",
      "_model_name": "LayoutModel",
      "_view_count": null,
      "_view_module": "@jupyter-widgets/base",
      "_view_module_version": "1.2.0",
      "_view_name": "LayoutView",
      "align_content": null,
      "align_items": null,
      "align_self": null,
      "border": null,
      "bottom": null,
      "display": null,
      "flex": null,
      "flex_flow": null,
      "grid_area": null,
      "grid_auto_columns": null,
      "grid_auto_flow": null,
      "grid_auto_rows": null,
      "grid_column": null,
      "grid_gap": null,
      "grid_row": null,
      "grid_template_areas": null,
      "grid_template_columns": null,
      "grid_template_rows": null,
      "height": null,
      "justify_content": null,
      "justify_items": null,
      "left": null,
      "margin": null,
      "max_height": null,
      "max_width": null,
      "min_height": null,
      "min_width": null,
      "object_fit": null,
      "object_position": null,
      "order": null,
      "overflow": null,
      "overflow_x": null,
      "overflow_y": null,
      "padding": null,
      "right": null,
      "top": null,
      "visibility": null,
      "width": null
     }
    },
    "059b65c91b7049afbdc55e0965188e50": {
     "model_module": "@jupyter-widgets/controls",
     "model_module_version": "1.5.0",
     "model_name": "ButtonStyleModel",
     "state": {
      "_model_module": "@jupyter-widgets/controls",
      "_model_module_version": "1.5.0",
      "_model_name": "ButtonStyleModel",
      "_view_count": null,
      "_view_module": "@jupyter-widgets/base",
      "_view_module_version": "1.2.0",
      "_view_name": "StyleView",
      "button_color": null,
      "font_weight": ""
     }
    },
    "09d69c45f83c473b9f28227b727613dd": {
     "model_module": "@jupyter-widgets/base",
     "model_module_version": "1.2.0",
     "model_name": "LayoutModel",
     "state": {
      "_model_module": "@jupyter-widgets/base",
      "_model_module_version": "1.2.0",
      "_model_name": "LayoutModel",
      "_view_count": null,
      "_view_module": "@jupyter-widgets/base",
      "_view_module_version": "1.2.0",
      "_view_name": "LayoutView",
      "align_content": null,
      "align_items": null,
      "align_self": null,
      "border": null,
      "bottom": null,
      "display": null,
      "flex": null,
      "flex_flow": null,
      "grid_area": null,
      "grid_auto_columns": null,
      "grid_auto_flow": null,
      "grid_auto_rows": null,
      "grid_column": null,
      "grid_gap": null,
      "grid_row": null,
      "grid_template_areas": null,
      "grid_template_columns": null,
      "grid_template_rows": null,
      "height": null,
      "justify_content": null,
      "justify_items": null,
      "left": null,
      "margin": null,
      "max_height": null,
      "max_width": null,
      "min_height": null,
      "min_width": null,
      "object_fit": null,
      "object_position": null,
      "order": null,
      "overflow": null,
      "overflow_x": null,
      "overflow_y": null,
      "padding": null,
      "right": null,
      "top": null,
      "visibility": null,
      "width": null
     }
    },
    "0bea4ab975db4c32a40d82cbb8ca569a": {
     "model_module": "@jupyter-widgets/base",
     "model_module_version": "1.2.0",
     "model_name": "LayoutModel",
     "state": {
      "_model_module": "@jupyter-widgets/base",
      "_model_module_version": "1.2.0",
      "_model_name": "LayoutModel",
      "_view_count": null,
      "_view_module": "@jupyter-widgets/base",
      "_view_module_version": "1.2.0",
      "_view_name": "LayoutView",
      "align_content": null,
      "align_items": null,
      "align_self": null,
      "border": null,
      "bottom": null,
      "display": null,
      "flex": null,
      "flex_flow": null,
      "grid_area": null,
      "grid_auto_columns": null,
      "grid_auto_flow": null,
      "grid_auto_rows": null,
      "grid_column": null,
      "grid_gap": null,
      "grid_row": null,
      "grid_template_areas": null,
      "grid_template_columns": null,
      "grid_template_rows": null,
      "height": null,
      "justify_content": null,
      "justify_items": null,
      "left": null,
      "margin": null,
      "max_height": null,
      "max_width": null,
      "min_height": null,
      "min_width": null,
      "object_fit": null,
      "object_position": null,
      "order": null,
      "overflow": null,
      "overflow_x": null,
      "overflow_y": null,
      "padding": null,
      "right": null,
      "top": null,
      "visibility": null,
      "width": null
     }
    },
    "0cbda42611dc49f6ad4f1fda83017e3f": {
     "model_module": "@jupyter-widgets/controls",
     "model_module_version": "1.5.0",
     "model_name": "DescriptionStyleModel",
     "state": {
      "_model_module": "@jupyter-widgets/controls",
      "_model_module_version": "1.5.0",
      "_model_name": "DescriptionStyleModel",
      "_view_count": null,
      "_view_module": "@jupyter-widgets/base",
      "_view_module_version": "1.2.0",
      "_view_name": "StyleView",
      "description_width": ""
     }
    },
    "0d16f316b3d14a05bbf2079c00f7259f": {
     "model_module": "@jupyter-widgets/controls",
     "model_module_version": "1.5.0",
     "model_name": "VBoxModel",
     "state": {
      "_dom_classes": [],
      "_model_module": "@jupyter-widgets/controls",
      "_model_module_version": "1.5.0",
      "_model_name": "VBoxModel",
      "_view_count": null,
      "_view_module": "@jupyter-widgets/controls",
      "_view_module_version": "1.5.0",
      "_view_name": "VBoxView",
      "box_style": "",
      "children": [
       "IPY_MODEL_9c7b74d0a5d944a6b657e8f9e03cc95a",
       "IPY_MODEL_3c86bb399b40496c811affbe7f4ac6dd"
      ],
      "layout": "IPY_MODEL_04aea571491e4be3b6bf631f35e3698f"
     }
    },
    "0de81fd8c33c4f5a97c42bf5bd0eea66": {
     "model_module": "@jupyter-widgets/controls",
     "model_module_version": "1.5.0",
     "model_name": "DropdownModel",
     "state": {
      "_dom_classes": [],
      "_model_module": "@jupyter-widgets/controls",
      "_model_module_version": "1.5.0",
      "_model_name": "DropdownModel",
      "_options_labels": [
       "feature_0",
       "feature_1",
       "feature_2",
       "feature_3",
       "feature_4",
       "feature_5",
       "feature_6",
       "feature_7",
       "feature_8",
       "feature_9",
       "feature_10",
       "feature_11",
       "feature_12",
       "feature_13",
       "feature_14",
       "feature_15",
       "feature_16",
       "feature_17",
       "feature_18",
       "feature_19",
       "feature_20",
       "feature_21",
       "feature_22",
       "feature_23",
       "feature_24",
       "feature_25",
       "feature_26",
       "feature_27",
       "feature_28",
       "feature_29",
       "feature_30",
       "feature_31",
       "feature_32",
       "feature_33",
       "feature_34",
       "feature_35",
       "feature_36",
       "feature_37",
       "feature_38",
       "feature_39",
       "feature_40",
       "feature_41",
       "feature_42",
       "feature_43",
       "feature_44",
       "feature_45",
       "feature_46",
       "feature_47",
       "feature_48",
       "feature_49",
       "feature_50",
       "feature_51",
       "feature_52",
       "feature_53",
       "feature_54",
       "feature_55",
       "feature_56"
      ],
      "_view_count": null,
      "_view_module": "@jupyter-widgets/controls",
      "_view_module_version": "1.5.0",
      "_view_name": "DropdownView",
      "description": "Numérica:",
      "description_tooltip": null,
      "disabled": false,
      "index": 51,
      "layout": "IPY_MODEL_7f4c38a971db4086a0f618378a22cf80",
      "style": "IPY_MODEL_01975ef6f3384d2296249409be928703"
     }
    },
    "0e58d218d77a4434baade0f903c78c25": {
     "model_module": "@jupyter-widgets/base",
     "model_module_version": "1.2.0",
     "model_name": "LayoutModel",
     "state": {
      "_model_module": "@jupyter-widgets/base",
      "_model_module_version": "1.2.0",
      "_model_name": "LayoutModel",
      "_view_count": null,
      "_view_module": "@jupyter-widgets/base",
      "_view_module_version": "1.2.0",
      "_view_name": "LayoutView",
      "align_content": null,
      "align_items": null,
      "align_self": null,
      "border": null,
      "bottom": null,
      "display": null,
      "flex": null,
      "flex_flow": null,
      "grid_area": null,
      "grid_auto_columns": null,
      "grid_auto_flow": null,
      "grid_auto_rows": null,
      "grid_column": null,
      "grid_gap": null,
      "grid_row": null,
      "grid_template_areas": null,
      "grid_template_columns": null,
      "grid_template_rows": null,
      "height": null,
      "justify_content": null,
      "justify_items": null,
      "left": null,
      "margin": null,
      "max_height": null,
      "max_width": null,
      "min_height": null,
      "min_width": null,
      "object_fit": null,
      "object_position": null,
      "order": null,
      "overflow": null,
      "overflow_x": null,
      "overflow_y": null,
      "padding": null,
      "right": null,
      "top": null,
      "visibility": null,
      "width": null
     }
    },
    "108271b9123742579a1f55f6ce3edc23": {
     "model_module": "@jupyter-widgets/controls",
     "model_module_version": "1.5.0",
     "model_name": "DescriptionStyleModel",
     "state": {
      "_model_module": "@jupyter-widgets/controls",
      "_model_module_version": "1.5.0",
      "_model_name": "DescriptionStyleModel",
      "_view_count": null,
      "_view_module": "@jupyter-widgets/base",
      "_view_module_version": "1.2.0",
      "_view_name": "StyleView",
      "description_width": ""
     }
    },
    "112ea6a3abfc4aeaa11c902b4b4e7e11": {
     "model_module": "@jupyter-widgets/base",
     "model_module_version": "1.2.0",
     "model_name": "LayoutModel",
     "state": {
      "_model_module": "@jupyter-widgets/base",
      "_model_module_version": "1.2.0",
      "_model_name": "LayoutModel",
      "_view_count": null,
      "_view_module": "@jupyter-widgets/base",
      "_view_module_version": "1.2.0",
      "_view_name": "LayoutView",
      "align_content": null,
      "align_items": null,
      "align_self": null,
      "border": null,
      "bottom": null,
      "display": null,
      "flex": null,
      "flex_flow": null,
      "grid_area": null,
      "grid_auto_columns": null,
      "grid_auto_flow": null,
      "grid_auto_rows": null,
      "grid_column": null,
      "grid_gap": null,
      "grid_row": null,
      "grid_template_areas": null,
      "grid_template_columns": null,
      "grid_template_rows": null,
      "height": null,
      "justify_content": null,
      "justify_items": null,
      "left": null,
      "margin": null,
      "max_height": null,
      "max_width": null,
      "min_height": null,
      "min_width": null,
      "object_fit": null,
      "object_position": null,
      "order": null,
      "overflow": null,
      "overflow_x": null,
      "overflow_y": null,
      "padding": null,
      "right": null,
      "top": null,
      "visibility": null,
      "width": null
     }
    },
    "140df6981af7473eace2e3a258c87984": {
     "model_module": "@jupyter-widgets/controls",
     "model_module_version": "1.5.0",
     "model_name": "DropdownModel",
     "state": {
      "_dom_classes": [],
      "_model_module": "@jupyter-widgets/controls",
      "_model_module_version": "1.5.0",
      "_model_name": "DropdownModel",
      "_options_labels": [
       "Uniforme (1,10) - 1M",
       "Normal (μ=10, σ=2) - 500k",
       "Exponencial - 50k"
      ],
      "_view_count": null,
      "_view_module": "@jupyter-widgets/controls",
      "_view_module_version": "1.5.0",
      "_view_name": "DropdownView",
      "description": "Arquivo:",
      "description_tooltip": null,
      "disabled": false,
      "index": 1,
      "layout": "IPY_MODEL_a2a39f69e1d24ed39d3124729017dce7",
      "style": "IPY_MODEL_5a3b539d90be44a6a0a381f5988cba73"
     }
    },
    "173075c2cc9446e5a7930774f2c8d1dc": {
     "model_module": "@jupyter-widgets/base",
     "model_module_version": "1.2.0",
     "model_name": "LayoutModel",
     "state": {
      "_model_module": "@jupyter-widgets/base",
      "_model_module_version": "1.2.0",
      "_model_name": "LayoutModel",
      "_view_count": null,
      "_view_module": "@jupyter-widgets/base",
      "_view_module_version": "1.2.0",
      "_view_name": "LayoutView",
      "align_content": null,
      "align_items": null,
      "align_self": null,
      "border": null,
      "bottom": null,
      "display": null,
      "flex": null,
      "flex_flow": null,
      "grid_area": null,
      "grid_auto_columns": null,
      "grid_auto_flow": null,
      "grid_auto_rows": null,
      "grid_column": null,
      "grid_gap": null,
      "grid_row": null,
      "grid_template_areas": null,
      "grid_template_columns": null,
      "grid_template_rows": null,
      "height": null,
      "justify_content": null,
      "justify_items": null,
      "left": null,
      "margin": null,
      "max_height": null,
      "max_width": null,
      "min_height": null,
      "min_width": null,
      "object_fit": null,
      "object_position": null,
      "order": null,
      "overflow": null,
      "overflow_x": null,
      "overflow_y": null,
      "padding": null,
      "right": null,
      "top": null,
      "visibility": null,
      "width": null
     }
    },
    "1bb9dd8814d241a989e22f0724c47ef6": {
     "model_module": "@jupyter-widgets/base",
     "model_module_version": "1.2.0",
     "model_name": "LayoutModel",
     "state": {
      "_model_module": "@jupyter-widgets/base",
      "_model_module_version": "1.2.0",
      "_model_name": "LayoutModel",
      "_view_count": null,
      "_view_module": "@jupyter-widgets/base",
      "_view_module_version": "1.2.0",
      "_view_name": "LayoutView",
      "align_content": null,
      "align_items": null,
      "align_self": null,
      "border": null,
      "bottom": null,
      "display": null,
      "flex": null,
      "flex_flow": null,
      "grid_area": null,
      "grid_auto_columns": null,
      "grid_auto_flow": null,
      "grid_auto_rows": null,
      "grid_column": null,
      "grid_gap": null,
      "grid_row": null,
      "grid_template_areas": null,
      "grid_template_columns": null,
      "grid_template_rows": null,
      "height": null,
      "justify_content": null,
      "justify_items": null,
      "left": null,
      "margin": null,
      "max_height": null,
      "max_width": null,
      "min_height": null,
      "min_width": null,
      "object_fit": null,
      "object_position": null,
      "order": null,
      "overflow": null,
      "overflow_x": null,
      "overflow_y": null,
      "padding": null,
      "right": null,
      "top": null,
      "visibility": null,
      "width": null
     }
    },
    "1c04c250c6aa458daece1191d811bd5a": {
     "model_module": "@jupyter-widgets/controls",
     "model_module_version": "1.5.0",
     "model_name": "VBoxModel",
     "state": {
      "_dom_classes": [],
      "_model_module": "@jupyter-widgets/controls",
      "_model_module_version": "1.5.0",
      "_model_name": "VBoxModel",
      "_view_count": null,
      "_view_module": "@jupyter-widgets/controls",
      "_view_module_version": "1.5.0",
      "_view_name": "VBoxView",
      "box_style": "",
      "children": [
       "IPY_MODEL_2b57248336614bbdb2e0543df57143ca",
       "IPY_MODEL_3c7e456ac8df431e9aa1f818842c3284"
      ],
      "layout": "IPY_MODEL_ffc186a3540e4ea790eb4856692d4ae3"
     }
    },
    "1ddbe25a399749278e8cb243da0b4721": {
     "model_module": "@jupyter-widgets/base",
     "model_module_version": "1.2.0",
     "model_name": "LayoutModel",
     "state": {
      "_model_module": "@jupyter-widgets/base",
      "_model_module_version": "1.2.0",
      "_model_name": "LayoutModel",
      "_view_count": null,
      "_view_module": "@jupyter-widgets/base",
      "_view_module_version": "1.2.0",
      "_view_name": "LayoutView",
      "align_content": null,
      "align_items": null,
      "align_self": null,
      "border": null,
      "bottom": null,
      "display": null,
      "flex": null,
      "flex_flow": null,
      "grid_area": null,
      "grid_auto_columns": null,
      "grid_auto_flow": null,
      "grid_auto_rows": null,
      "grid_column": null,
      "grid_gap": null,
      "grid_row": null,
      "grid_template_areas": null,
      "grid_template_columns": null,
      "grid_template_rows": null,
      "height": null,
      "justify_content": null,
      "justify_items": null,
      "left": null,
      "margin": null,
      "max_height": null,
      "max_width": null,
      "min_height": null,
      "min_width": null,
      "object_fit": null,
      "object_position": null,
      "order": null,
      "overflow": null,
      "overflow_x": null,
      "overflow_y": null,
      "padding": null,
      "right": null,
      "top": null,
      "visibility": null,
      "width": null
     }
    },
    "1f436f831b004a238d59a6cb32cdad42": {
     "model_module": "@jupyter-widgets/controls",
     "model_module_version": "1.5.0",
     "model_name": "ButtonModel",
     "state": {
      "_dom_classes": [],
      "_model_module": "@jupyter-widgets/controls",
      "_model_module_version": "1.5.0",
      "_model_name": "ButtonModel",
      "_view_count": null,
      "_view_module": "@jupyter-widgets/controls",
      "_view_module_version": "1.5.0",
      "_view_name": "ButtonView",
      "button_style": "",
      "description": "Treinar e Avaliar",
      "disabled": false,
      "icon": "",
      "layout": "IPY_MODEL_a2440eae805e4d4098114d53d8c57f19",
      "style": "IPY_MODEL_059b65c91b7049afbdc55e0965188e50",
      "tooltip": ""
     }
    },
    "200f24e7ec9244558f6af5ab0cd816ac": {
     "model_module": "@jupyter-widgets/base",
     "model_module_version": "1.2.0",
     "model_name": "LayoutModel",
     "state": {
      "_model_module": "@jupyter-widgets/base",
      "_model_module_version": "1.2.0",
      "_model_name": "LayoutModel",
      "_view_count": null,
      "_view_module": "@jupyter-widgets/base",
      "_view_module_version": "1.2.0",
      "_view_name": "LayoutView",
      "align_content": null,
      "align_items": null,
      "align_self": null,
      "border": null,
      "bottom": null,
      "display": null,
      "flex": null,
      "flex_flow": null,
      "grid_area": null,
      "grid_auto_columns": null,
      "grid_auto_flow": null,
      "grid_auto_rows": null,
      "grid_column": null,
      "grid_gap": null,
      "grid_row": null,
      "grid_template_areas": null,
      "grid_template_columns": null,
      "grid_template_rows": null,
      "height": null,
      "justify_content": null,
      "justify_items": null,
      "left": null,
      "margin": null,
      "max_height": null,
      "max_width": null,
      "min_height": null,
      "min_width": null,
      "object_fit": null,
      "object_position": null,
      "order": null,
      "overflow": null,
      "overflow_x": null,
      "overflow_y": null,
      "padding": null,
      "right": null,
      "top": null,
      "visibility": null,
      "width": null
     }
    },
    "2796184b17364f9e86bf8347ed8cdda3": {
     "model_module": "@jupyter-widgets/base",
     "model_module_version": "1.2.0",
     "model_name": "LayoutModel",
     "state": {
      "_model_module": "@jupyter-widgets/base",
      "_model_module_version": "1.2.0",
      "_model_name": "LayoutModel",
      "_view_count": null,
      "_view_module": "@jupyter-widgets/base",
      "_view_module_version": "1.2.0",
      "_view_name": "LayoutView",
      "align_content": null,
      "align_items": null,
      "align_self": null,
      "border": null,
      "bottom": null,
      "display": null,
      "flex": null,
      "flex_flow": null,
      "grid_area": null,
      "grid_auto_columns": null,
      "grid_auto_flow": null,
      "grid_auto_rows": null,
      "grid_column": null,
      "grid_gap": null,
      "grid_row": null,
      "grid_template_areas": null,
      "grid_template_columns": null,
      "grid_template_rows": null,
      "height": null,
      "justify_content": null,
      "justify_items": null,
      "left": null,
      "margin": null,
      "max_height": null,
      "max_width": null,
      "min_height": null,
      "min_width": null,
      "object_fit": null,
      "object_position": null,
      "order": null,
      "overflow": null,
      "overflow_x": null,
      "overflow_y": null,
      "padding": null,
      "right": null,
      "top": null,
      "visibility": null,
      "width": null
     }
    },
    "2b57248336614bbdb2e0543df57143ca": {
     "model_module": "@jupyter-widgets/controls",
     "model_module_version": "1.5.0",
     "model_name": "HBoxModel",
     "state": {
      "_dom_classes": [],
      "_model_module": "@jupyter-widgets/controls",
      "_model_module_version": "1.5.0",
      "_model_name": "HBoxModel",
      "_view_count": null,
      "_view_module": "@jupyter-widgets/controls",
      "_view_module_version": "1.5.0",
      "_view_name": "HBoxView",
      "box_style": "",
      "children": [
       "IPY_MODEL_9400ef3296b945f1a7655b39a598efbc",
       "IPY_MODEL_1f436f831b004a238d59a6cb32cdad42"
      ],
      "layout": "IPY_MODEL_112ea6a3abfc4aeaa11c902b4b4e7e11"
     }
    },
    "32f78041edc94f1f8258374f65c54a7e": {
     "model_module": "@jupyter-widgets/output",
     "model_module_version": "1.0.0",
     "model_name": "OutputModel",
     "state": {
      "_dom_classes": [],
      "_model_module": "@jupyter-widgets/output",
      "_model_module_version": "1.0.0",
      "_model_name": "OutputModel",
      "_view_count": null,
      "_view_module": "@jupyter-widgets/output",
      "_view_module_version": "1.0.0",
      "_view_name": "OutputView",
      "layout": "IPY_MODEL_b7990b2bba03435da2681ada3620e59a",
      "msg_id": "",
      "outputs": [
       {
        "name": "stdout",
        "output_type": "stream",
        "text": [
         "Precisão: 0.9681\n"
        ]
       },
       {
        "data": {
         "text/latex": "Precisão: \\frac{TP}{TP + FP}",
         "text/plain": "<IPython.core.display.Latex object>"
        },
        "metadata": {},
        "output_type": "display_data"
       }
      ]
     }
    },
    "3607b35e05da4d98928a1bdd9f5b5f10": {
     "model_module": "@jupyter-widgets/controls",
     "model_module_version": "1.5.0",
     "model_name": "IntSliderModel",
     "state": {
      "_dom_classes": [],
      "_model_module": "@jupyter-widgets/controls",
      "_model_module_version": "1.5.0",
      "_model_name": "IntSliderModel",
      "_view_count": null,
      "_view_module": "@jupyter-widgets/controls",
      "_view_module_version": "1.5.0",
      "_view_name": "IntSliderView",
      "continuous_update": true,
      "description": "Amostras",
      "description_tooltip": null,
      "disabled": false,
      "layout": "IPY_MODEL_6543fcd018dc4443ac4de04917db3ceb",
      "max": 2000,
      "min": 50,
      "orientation": "horizontal",
      "readout": true,
      "readout_format": "d",
      "step": 50,
      "style": "IPY_MODEL_cfa17254e4f645ac91618ba514259a24",
      "value": 200
     }
    },
    "3779b067764541f4a37e0294eaee4610": {
     "model_module": "@jupyter-widgets/controls",
     "model_module_version": "1.5.0",
     "model_name": "ButtonModel",
     "state": {
      "_dom_classes": [],
      "_model_module": "@jupyter-widgets/controls",
      "_model_module_version": "1.5.0",
      "_model_name": "ButtonModel",
      "_view_count": null,
      "_view_module": "@jupyter-widgets/controls",
      "_view_module_version": "1.5.0",
      "_view_name": "ButtonView",
      "button_style": "",
      "description": "Mostrar Métrica",
      "disabled": false,
      "icon": "",
      "layout": "IPY_MODEL_1bb9dd8814d241a989e22f0724c47ef6",
      "style": "IPY_MODEL_fceba70468f34c3590e2cf168bcd5d14",
      "tooltip": ""
     }
    },
    "3c7e456ac8df431e9aa1f818842c3284": {
     "model_module": "@jupyter-widgets/output",
     "model_module_version": "1.0.0",
     "model_name": "OutputModel",
     "state": {
      "_dom_classes": [],
      "_model_module": "@jupyter-widgets/output",
      "_model_module_version": "1.0.0",
      "_model_name": "OutputModel",
      "_view_count": null,
      "_view_module": "@jupyter-widgets/output",
      "_view_module_version": "1.0.0",
      "_view_name": "OutputView",
      "layout": "IPY_MODEL_afacd9ea9de0428ca3941305fe4750af",
      "msg_id": "",
      "outputs": [
       {
        "name": "stdout",
        "output_type": "stream",
        "text": [
         "Classificador escolhido: Naive Bayes\n",
         "Total de amostras: 4601\n",
         "Número de atributos: 57\n"
        ]
       },
       {
        "data": {
         "image/png": "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\n",
         "text/plain": "<Figure size 600x400 with 1 Axes>"
        },
        "metadata": {},
        "output_type": "display_data"
       },
       {
        "data": {
         "image/png": "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\n",
         "text/plain": "<Figure size 1500x600 with 3 Axes>"
        },
        "metadata": {},
        "output_type": "display_data"
       }
      ]
     }
    },
    "3c86bb399b40496c811affbe7f4ac6dd": {
     "model_module": "@jupyter-widgets/output",
     "model_module_version": "1.0.0",
     "model_name": "OutputModel",
     "state": {
      "_dom_classes": [],
      "_model_module": "@jupyter-widgets/output",
      "_model_module_version": "1.0.0",
      "_model_name": "OutputModel",
      "_view_count": null,
      "_view_module": "@jupyter-widgets/output",
      "_view_module_version": "1.0.0",
      "_view_name": "OutputView",
      "layout": "IPY_MODEL_6b967faef92f47ba95d1ae5f4dabe067",
      "msg_id": "",
      "outputs": [
       {
        "name": "stdout",
        "output_type": "stream",
        "text": [
         "Classificador: Naive Bayes\n",
         "Normalização: Robust Scaler\n",
         "Total de amostras: 4601\n",
         "Número de atributos: 57\n"
        ]
       },
       {
        "data": {
         "image/png": "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\n",
         "text/plain": "<Figure size 600x400 with 1 Axes>"
        },
        "metadata": {},
        "output_type": "display_data"
       },
       {
        "data": {
         "image/png": "iVBORw0KGgoAAAANSUhEUgAABdEAAAJOCAYAAABYwk4SAAAAOnRFWHRTb2Z0d2FyZQBNYXRwbG90bGliIHZlcnNpb24zLjEwLjAsIGh0dHBzOi8vbWF0cGxvdGxpYi5vcmcvlHJYcgAAAAlwSFlzAAAPYQAAD2EBqD+naQAAv4JJREFUeJzs3XdYVNfWx/Hf0BEFFBF7jxILGju2GHvvGsUeNdbYY0mMMSaRqLEbjSZG7L3Erhhj743Ygl3svSsgMO8fvsx1Aijo4Ch+P88zz4W99zl7ncMkN6xZrGMwGo1GAQAAAAAAAACAGGysHQAAAAAAAAAAAG8rkugAAAAAAAAAAMSBJDoAAAAAAAAAAHEgiQ4AAAAAAAAAQBxIogMAAAAAAAAAEAeS6AAAAAAAAAAAxIEkOgAAAAAAAAAAcSCJDgAAAAAAAABAHEiiAwAAAAAAAAAQB5LoAN4JgwcPlsFgSNQ9DAaDBg8enKh7vGkjRoxQ9uzZZWtrq4IFCybKHn369FGKFCnUqlUr3b59W3ny5NGhQ4cSZS8AAAAAAIA3jSQ6ADMBAQEyGAwyGAzatm1bjHmj0ahMmTLJYDCoZs2ar7TH0KFDtWzZsteM9N0QGRmpadOmqVy5ckqVKpUcHR2VNWtWtWnTRvv27UvUvdevX6++ffuqVKlSmjZtmoYOHWrxPR4+fKhJkyZpyJAhOnr0qFKnTq3kyZPLx8fH4nsBAAAAAABYA0l0ALFycnLSnDlzYoxv3rxZFy9elKOj4yuf+1WS6AMHDtSTJ09eeU9rePLkiWrWrKnPPvtMRqNRX331lSZNmqSWLVtq586dKlasmC5evJho+2/cuFE2NjaaOnWqWrZsqerVq1t8DycnJx07dkw9e/bUvn37dPHiRe3atUs2NvzfCwAAAAAASBrsrB0AgLdT9erVtXDhQo0bN052dv/7V8WcOXNUuHBh3bx5843E8ejRI7m4uMjOzs4sjnfBl19+qbVr12r06NHq0aOH2dy3336r0aNHJ+r+169fl7OzsxwcHBJtDzs7O2XJksX0ffr06RNtLwAAAAAAAGugVBBArJo2bapbt24pMDDQNBYeHq5FixbJz88v1mN+/vlnlSxZUh4eHnJ2dlbhwoW1aNEiszUGg0GPHj3S9OnTTW1jWrduLel/fc+PHTsmPz8/pUyZUqVLlzabi9a6dWvT8f99vayveVhYmHr27ClPT0+lSJFCtWvXjrMi/NKlS/rss8/k5eUlR0dH5c2bV3/88cfLbp8uXryoyZMnq1KlSjES6JJka2urPn36KGPGjKaxgwcPqlq1anJ1dVXy5MlVoUIF7dq1y+y46HY727dvV69eveTp6SkXFxfVq1dPN27cMK0zGAyaNm2aHj16ZLovAQEBOnfunOnr//rvvXvw4IF69OihrFmzytHRUWnSpFGlSpV04MAB05pNmzapYcOGypw5sxwdHZUpUyb17Nkz1r8a2Lhxo8qUKSMXFxe5u7urTp06On78+EvvJQAAAAAAgDW9W2WdAN6YrFmzytfXV3PnzlW1atUkSWvWrNG9e/fUpEkTjRs3LsYxY8eOVe3atdWsWTOFh4dr3rx5atSokVauXKkaNWpIkmbOnKl27dqpWLFi+vzzzyVJOXLkMDtPo0aN9MEHH2jo0KEyGo2xxtehQwdVrFjRbGzt2rWaPXu20qRJ88Jra9eunWbNmiU/Pz+VLFlSGzduNMX3vGvXrqlEiRIyGAzq2rWrPD09tWbNGrVt21b379+PNTkebc2aNYqIiFCLFi1eGEu0o0ePqkyZMnJ1dVXfvn1lb2+vyZMnq1y5ctq8ebOKFy9utv6LL75QypQp9e233+rcuXMaM2aMunbtqvnz50t6dp+nTJmiPXv26Pfff5cklSxZMl6xROvYsaMWLVqkrl27Kk+ePLp165a2bdum48ePq1ChQpKkBQsW6MmTJ+rcubNSpUqlPXv2aPz48bp48aIWLlxoOteGDRtUrVo1Zc+eXYMHD9aTJ080fvx4lSpVSgcOHFDWrFkTFBsAAAAAAMAbYwSA50ybNs0oybh3717jhAkTjClSpDA+fvzYaDQajY0aNTJ+8sknRqPRaMySJYuxRo0aZsdGr4sWHh5uzJcvn7F8+fJm4y4uLsZWrVrF2Pvbb781SjI2bdo0zrm4nDx50ujm5masVKmSMSIiIs51hw4dMkoydu7c2Wzcz8/PKMn47bffmsbatm1rTJcunfHmzZtma5s0aWJ0c3OLcb3P69mzp1GS8eDBg3GueV7dunWNDg4OxtOnT5vGLl++bEyRIoWxbNmyprHon0/FihWNUVFRZvvZ2toa7969axpr1aqV0cXFxWyfs2fPGiUZp02bFiOG/16/m5ubsUuXLi+M+9GjRzHG/P39jQaDwXj+/HnTWMGCBY1p0qQx3rp1yzQWFBRktLGxMbZs2fKFewAAAAAAAFgT7VwAxKlx48Z68uSJVq5cqQcPHmjlypVxtnKRJGdnZ9PXd+7c0b1791SmTBmz9h/x0bFjxwStf/TokerVq6eUKVNq7ty5srW1jXPt6tWrJUndunUzG/9vVbnRaNTixYtVq1YtGY1G3bx50/SqUqWK7t2798Lrun//viQpRYoUL40/MjJS69evV926dZU9e3bTeLp06eTn56dt27aZzhft888/N2tvU6ZMGUVGRur8+fMv3S++3N3dtXv3bl2+fDnONcmSJTN9/ejRI928eVMlS5aU0WjUwYMHJUlXrlzRoUOH1Lp1a6VKlcq03sfHR5UqVTL9TAAAAAAAAN5GtHMBECdPT09VrFhRc+bM0ePHjxUZGamGDRvGuX7lypX64YcfdOjQIYWFhZnGn0/2xke2bNkStL59+/Y6ffq0duzYIQ8PjxeuPX/+vGxsbGK0kMmdO7fZ9zdu3NDdu3c1ZcoUTZkyJdZzXb9+Pc59XF1dJT3rK/4yN27c0OPHj2PEIEkffvihoqKidOHCBeXNm9c0njlzZrN1KVOmlPTswwtLGT58uFq1aqVMmTKpcOHCql69ulq2bGmW6A8JCdGgQYO0fPnyGHvfu3dPkkyJ/biub926daYHyAIAAAAAALxtSKIDeCE/Pz+1b99eV69eVbVq1eTu7h7ruq1bt6p27doqW7asJk6cqHTp0sne3l7Tpk3TnDlzErTn8xXtLzN27FjNnTtXs2bNUsGCBRO0z4tERUVJkpo3b65WrVrFusbHxyfO4729vSVJhw8ftmhc0eKqtjfG0UM+WlwfaERGRsYYa9y4scqUKaOlS5dq/fr1GjFihIYNG6YlS5aoWrVqioyMVKVKlXT79m3169dP3t7ecnFx0aVLl9S6dWvTPQQAAAAAAHiXkUQH8EL16tVThw4dtGvXLtNDK2OzePFiOTk5ad26dXJ0dDSNT5s2LcbahFamx2Xr1q3q06ePevTooWbNmsXrmCxZsigqKkqnT582q4wODg42W+fp6akUKVIoMjIyxgNM46NatWqytbXVrFmzXvpwUU9PTyVLlixGDJL077//ysbGRpkyZUpwDLGJrli/e/eu2XhcbWDSpUunzp07q3Pnzrp+/boKFSqkH3/8UdWqVdPhw4d14sQJTZ8+XS1btjQdExgYaHaOLFmySIp5j6Vn15c6dWqq0AEAAAAAwFuLnugAXih58uSaNGmSBg8erFq1asW5ztbWVgaDwayi+dy5c1q2bFmMtS4uLjGSuAl15coVNW7cWKVLl9aIESPifVy1atUkSePGjTMbHzNmjNn3tra2atCggRYvXqwjR47EOM+NGzdeuE+mTJnUvn17rV+/XuPHj48xHxUVpZEjR+rixYuytbVV5cqV9eeff+rcuXOmNdeuXdOcOXNUunRpU3uY1+Xq6qrUqVNry5YtZuMTJ040+z4yMtLUjiVamjRplD59elOrnuhq+Oer341Go8aOHWt2XLp06VSwYEFNnz7d7Od+5MgRrV+/XtWrV3/t6wIAAAAAAEgsVKIDeKm42pk8r0aNGho1apSqVq0qPz8/Xb9+Xb/88oty5sypf/75x2xt4cKFtWHDBo0aNUrp06dXtmzZVLx48QTF1K1bN924cUN9+/bVvHnzzOZ8fHzibLVSsGBBNW3aVBMnTtS9e/dUsmRJ/fXXXzp16lSMtT/99JP+/vtvFS9eXO3bt1eePHl0+/ZtHThwQBs2bNDt27dfGOPIkSN1+vRpdevWTUuWLFHNmjWVMmVKhYSEaOHChfr333/VpEkTSdIPP/ygwMBAlS5dWp07d5adnZ0mT56ssLAwDR8+PEH35mXatWunn376Se3atVORIkW0ZcsWnThxwmzNgwcPlDFjRjVs2FAFChRQ8uTJtWHDBu3du1cjR46U9KxlTY4cOdSnTx9dunRJrq6uWrx4cax92UeMGKFq1arJ19dXbdu21ZMnTzR+/Hi5ublp8ODBFr0+AAAAAAAASyKJDsAiypcvr6lTp+qnn35Sjx49lC1bNg0bNkznzp2LkUQfNWqUPv/8cw0cOFBPnjxRq1atEpxEv3HjhiIjI9WrV68Yc99+++0L+5X/8ccf8vT01OzZs7Vs2TKVL19eq1atitEyxcvLS3v27NGQIUO0ZMkSTZw4UR4eHsqbN6+GDRv20hiTJUumNWvWKCAgQNOnT9f333+vx48fK3369Cpfvrxmz56tDBkySJLy5s2rrVu3asCAAfL391dUVJSKFy+uWbNmJfjevMygQYN048YNLVq0SAsWLFC1atW0Zs0apUmTxiz2zp07a/369VqyZImioqKUM2dOTZw4UZ06dZIk2dvba8WKFerWrZv8/f3l5OSkevXqqWvXripQoIDZnhUrVtTatWv17bffatCgQbK3t9fHH3+sYcOGJfhBsgAAAAAAAG+Swfiyp9ABAAAAAAAAAPCeoic6AAAAAAAAAABxIIkOAAAAAAAAAEAcSKIDAAAAAAAAABAHkugAAAAAAAAAAMSBJDoAAAAAAAAAAHEgiQ4AAAAAAAAAQBxIogMAAAAAAAAAEAc7aweQGJw/6mrtEAC8h2YHfG3tEAC8Z+oXSGftEMy8if8Ge3JwQqLvAQAAAADPoxIdAAAAAAAAAIA4JMlKdAAAAFiBgfoMAAAAAEkPv+kAAAAAAAAAABAHKtEBAABgGQaDtSMAAAAAAIujEh0AAAAAAAAAgDhQiQ4AAADLoCc6AAAAgCSI33QAAAAAAAAAAIgDlegAAACwDHqiAwAAAEiCqEQHAAAAAAAAACAOJNEBAABgGQabxH8l0KVLl9S8eXN5eHjI2dlZ+fPn1759+0zzRqNRgwYNUrp06eTs7KyKFSvq5MmTZue4ffu2mjVrJldXV7m7u6tt27Z6+PDha98uAAAAAO8GkugAAABIku7cuaNSpUrJ3t5ea9as0bFjxzRy5EilTJnStGb48OEaN26cfv31V+3evVsuLi6qUqWKQkNDTWuaNWumo0ePKjAwUCtXrtSWLVv0+eefW+OSAAAAAFgBPdEBAABgGW9ZT/Rhw4YpU6ZMmjZtmmksW7Zspq+NRqPGjBmjgQMHqk6dOpKkGTNmyMvLS8uWLVOTJk10/PhxrV27Vnv37lWRIkUkSePHj1f16tX1888/K3369G/2ogAAAAC8cVSiAwAA4J0RFham+/fvm73CwsJiXbt8+XIVKVJEjRo1Upo0afTRRx/pt99+M82fPXtWV69eVcWKFU1jbm5uKl68uHbu3ClJ2rlzp9zd3U0JdEmqWLGibGxstHv37kS6SgAAAABvE5LoAAAAsIw30BPd399fbm5uZi9/f/9Ywzlz5owmTZqkDz74QOvWrVOnTp3UrVs3TZ8+XZJ09epVSZKXl5fZcV5eXqa5q1evKk2aNGbzdnZ2SpUqlWkNAAAAgKSNdi4AAAB4ZwwYMEC9evUyG3N0dIx1bVRUlIoUKaKhQ4dKkj766CMdOXJEv/76q1q1apXosQIAAABIGqhEBwAAgGUYDIn+cnR0lKurq9krriR6unTplCdPHrOxDz/8UCEhIZKktGnTSpKuXbtmtubatWumubRp0+r69etm8xEREbp9+7ZpDQAAAICkjSQ6AAAAkqRSpUopODjYbOzEiRPKkiWLpGcPGU2bNq3++usv0/z9+/e1e/du+fr6SpJ8fX119+5d7d+/37Rm48aNioqKUvHixd/AVQAAAACwNtq5AAAAwDIMb1d9Rs+ePVWyZEkNHTpUjRs31p49ezRlyhRNmTJFkmQwGNSjRw/98MMP+uCDD5QtWzZ98803Sp8+verWrSvpWeV61apV1b59e/366696+vSpunbtqiZNmih9+vRWvDoAAAAAbwpJdAAAACRJRYsW1dKlSzVgwAANGTJE2bJl05gxY9SsWTPTmr59++rRo0f6/PPPdffuXZUuXVpr166Vk5OTac3s2bPVtWtXVahQQTY2NmrQoIHGjRtnjUsCAAAAYAUGo9FotHYQlub8UVdrhwDgPTQ74GtrhwDgPVO/QDprh2DGuVTi/3vwyfYfE30PAAAAAHje2/U3twAAAAAAAAAAvEVo5wIAAADLeMt6ogMAAACAJfCbDgAAAAAAAAAAcaASHQAAAJZhMFg7AgAAAACwOCrRAQAAAAAAAACIA5XoAAAAsAx6ogMAAABIgvhNBwAAAAAAAACAOFCJDgAAAMugEh0AAABAEsRvOgAAAAAAAAAAxIFKdAAAAFiGjcHaEQAAAACAxVGJDgAAAAAAAABAHKhEBwAAgGXQEx0AAABAEsRvOgAAAAAAAAAAxIFKdAAAAFiGgZ7oAAAAAJIeKtEBAAAAAAAAAIgDlegAAACwDHqiAwAAAEiC+E0HAAAAAAAAAIA4UIkOAAAAy6AnOgAAAIAkiEp0AAAAAAAAAADiQCU6AAAALIOe6AAAAACSIH7TAQAAAAAAAAAgDlSiAwAAwDLoiQ4AAAAgCaISHQAAAAAAAACAOFCJDgAAAMugJzoAAACAJIjfdAAAAAAAAAAAiAOV6AAAALAMeqIDAAAASIKoRAcAAAAAAAAAIA5UogMAAMAy6IkOAAAAIAniNx0AAAAAAAAAAOJAJToAAAAsg57oAAAAAJIgKtEBAAAAAAAAAIgDlegAAACwDHqiAwAAAEiC+E0HAAAAAAAAAIA4UIkOAAAAy6ASHQAAAEASxG86AAAAAAAAAADEgUp0AAAAWIbBYO0IAAAAAMDiSKIDAADAMmjnAgAAACAJ4jcdAAAAAAAAAADiQCU6AAAALIN2LgAAAACSICrRAQAAAAAAAACIA5XoAAAAsAx6ogMAAABIgvhNBwAAAAAAAACAOFCJDgAAAMugJzoAAACAJIhKdAAAAAAAAAAA4kAlOgAAACzCQCU6AAAAgCSISnQAAAAAAAAAAOJAJToAAAAsgkp0AAAAAEkRlegAAAAAAAAAAMSBSnQAAABYBoXoAAAAAJIgKtEBAAAAAAAAAIgDlegAAACwCHqiAwAAAEiKqEQHAAAAAAAAACAOVKIDAADAIqhEBwAAAJAUUYkOAAAAAAAAAEAcqEQHAACARVCJDgAAACApohIdAAAAAAAAAIA4UIkOAAAAi6ASHQAAAEBSRCU6AAAAAAAAAABxoBIdAAAAlkEhOgAAAIAkiEp0AAAAAAAAAADiQCU6AAAALIKe6AAAAACSIirRAQAAAAAAAACIA5XoAAAAsAgq0QEAAAAkRVSiAwAAAAAAAAAQByrRAQAAYBFUogMAAABIiqhEBwAAAAAAAAAgDlSiAwAAwCKoRAcAAACQFFGJDgAAAAAAAABAHKhEBwAAgGVQiA4AAAAgCaISHQAAAAAAAACAOFCJDgAAAIugJzoAAACApOitSKJfvnxZ27Zt0/Xr1xUVFWU2161bNytFBQAAAAAAAAB431k9iR4QEKAOHTrIwcFBHh4eZhVMBoOBJDoAAMA7gkp0AAAAAEmR1ZPo33zzjQYNGqQBAwbIxoYW7QAAAAAAAACAt4fVs9aPHz9WkyZNSKADAAC84wwGQ6K/EmLw4MExjvf29jbNh4aGqkuXLvLw8FDy5MnVoEEDXbt2zewcISEhqlGjhpIlS6Y0adLoyy+/VEREhEXuFwAAAIB3g9Uz123bttXChQutHQYAAACSoLx58+rKlSum17Zt20xzPXv21IoVK7Rw4UJt3rxZly9fVv369U3zkZGRqlGjhsLDw7Vjxw5Nnz5dAQEBGjRokDUuBQAAAICVWL2di7+/v2rWrKm1a9cqf/78sre3N5sfNWqUlSIDAABAgryFLdHt7OyUNm3aGOP37t3T1KlTNWfOHJUvX16SNG3aNH344YfatWuXSpQoofXr1+vYsWPasGGDvLy8VLBgQX3//ffq16+fBg8eLAcHhzd9OQAAAACswOqV6P7+/lq3bp2uXbumw4cP6+DBg6bXoUOHrB0eAAAA3mEnT55U+vTplT17djVr1kwhISGSpP379+vp06eqWLGiaa23t7cyZ86snTt3SpJ27typ/Pnzy8vLy7SmSpUqun//vo4ePfpmLwQAAACA1Vi9En3kyJH6448/1Lp1a2uHAgAAgNeQ0J7lryIsLExhYWFmY46OjnJ0dIyxtnjx4goICFDu3Ll15coVfffddypTpoyOHDmiq1evysHBQe7u7mbHeHl56erVq5Kkq1evmiXQo+ej5wAAAAC8H6xeie7o6KhSpUpZOwwAAAC8A/z9/eXm5mb28vf3j3VttWrV1KhRI/n4+KhKlSpavXq17t69qwULFrzhqAEAAAC8y6yeRO/evbvGjx9v7TAAAADwmgwGQ6K/BgwYoHv37pm9BgwYEK/43N3dlStXLp06dUpp06ZVeHi47t69a7bm2rVrph7qadOm1bVr12LMR88BAAAAeD9YvZ3Lnj17tHHjRq1cuVJ58+aN8WDRJUuWWCkyAAAAvG3iat0SHw8fPtTp06fVokULFS5cWPb29vrrr7/UoEEDSVJwcLBCQkLk6+srSfL19dWPP/6o69evK02aNJKkwMBAubq6Kk+ePJa5IAAAAABvPasn0d3d3VW/fn1rhwEAAIDX9CZ6oidEnz59VKtWLWXJkkWXL1/Wt99+K1tbWzVt2lRubm5q27atevXqpVSpUsnV1VVffPGFfH19VaJECUlS5cqVlSdPHrVo0ULDhw/X1atXNXDgQHXp0uWVE/kAAAAA3j1WT6JPmzbN2iEAAAAgCbp48aKaNm2qW7duydPTU6VLl9auXbvk6ekpSRo9erRsbGzUoEEDhYWFqUqVKpo4caLpeFtbW61cuVKdOnWSr6+vXFxc1KpVKw0ZMsRalwQAAADACgxGo9Fo7SAszfmjrtYOAcB7aHbA19YOAcB7pn6BdNYOwUz6Donfhu/yZP6CEQAAAMCbZfVKdElatGiRFixYoJCQEIWHh5vNHThwwEpRAQAAAAAAAADedzbWDmDcuHFq06aNvLy8dPDgQRUrVkweHh46c+aMqlWrZu3wAAAAEF+GN/ACAAAAgDfM6kn0iRMnasqUKRo/frwcHBzUt29fBQYGqlu3brp37561wwMAAAAAAAAAvMesnkQPCQlRyZIlJUnOzs568OCBJKlFixaaO3euNUMDAABAAhgMhkR/AQAAAMCbZvUketq0aXX79m1JUubMmbVr1y5J0tmzZ5UEn3kKAAAAAAAAAHiHWD2JXr58eS1fvlyS1KZNG/Xs2VOVKlXSp59+qnr16lk5OgAAAMQXlegAAAAAkiI7awcwZcoURUVFSZK6dOkiDw8P7dixQ7Vr11aHDh2sHB0AAAAAAAAA4H1m9SS6jY2NbGz+VxDfpEkTNWnSxIoRAQAA4FVQKQ4AAAAgKbJ6El2S7ty5o6lTp+r48eOSpDx58qhNmzZKlSqVlSMDAAAAAAAAALzPrN4TfcuWLcqWLZvGjRunO3fu6M6dOxo3bpyyZcumLVu2WDs8AAAAxJfhDbwAAAAA4A2zeiV6ly5d1LhxY02aNEm2traSpMjISHXu3FldunTR4cOHrRwhAAAAAAAAAOB9ZfVK9FOnTql3796mBLok2draqlevXjp16pQVIwMAAEBCGAyGRH8BAAAAwJtm9SR6oUKFTL3Qn3f8+HEVKFDAChEBAAAAAAAAAPCM1du5dOvWTd27d9epU6dUokQJSdKuXbv0yy+/6KefftI///xjWuvj42OtMAEAAPASVIoDAAAASIqsnkRv2rSpJKlv376xzhkMBhmNRhkMBkVGRr7p8JAEpPd00w/d66hyqbxK5mSv0xduqsPgWTpwLESSVKd8AbVrWFoffZhZHu4uKv6pv/45cSnGeYr7ZNPgLjVVNH9WRUZG6Z8Tl1Sr8y8KDXv6pi8JwFtu09LZOrJni25cCpG9g6Oy5Mqrqs07yDN9ZknS44f3tWHBNJ0M2qe7N6/JxdVdeYqWVuUmn8kpWXLTeZb/MU7ng4/o2oWzSpMhs7qNmGqtSwIAAAAA4L1l9ST62bNnrR0CkjD3FM7aGNBLm/eeVN2uE3XjzkPlzOypO/cfm9Ykc3bQjkOntTjwgCYNahbreYr7ZNOfEzrr52nr1WvYQkVERsknVwZFRRnf1KUAeIecOXZIvlXqKmMOb0VFRmrd3N/1xw9fqueoADk4Oev+7Zu6f/uWqrfopDQZs+juzWta+tsoPbhzU816DzE7V5FPqunCqeO6ev60la4GiD8q0QEAAAAkRVZPomfJksXaISAJ692mki5evaMOg2eZxs5fvmW2Zu6qvZKkzOlSxXme4b3ra+K8Tfp5WqBp7OT56xaOFkBS8dnXI8y+b9ilv35sV1eXzpxQtjwFlDZzdjXv879kuUfaDKrSpJ3mj/9RkZERsrV99n/PtT/rJkl6tOAuSXS8E0iiAwAAAEiKrPZg0RMnTmjPnj1mY3/99Zc++eQTFStWTEOHDrVSZEhKanycXweOhWj28M90/i9/7ZzbT23qlUzQOTxTJlcxn2y6cfuh/g7opXMbhmr9791VsmD2RIoaQFIT+vihJMk5eYoXrnFyTmZKoAMAAAAAgLeD1ZLo/fr108qVK03fnz17VrVq1ZKDg4N8fX3l7++vMWPGWCs8JBHZMqRW+0ZldCrkhmp3/kW/LdymkX0bqlmt4vE/R8bUkqSvO1TXH0t2qE6XiTp0/IJWT/5COTJ7JlboAJKIqKgorQyYoCy58ylt5tg/fHt0/642Lp6pohVrveHoAAszvIEXAAAAALxhVit327dvn9nDRGfPnq1cuXJp3bp1kiQfHx+NHz9ePXr0eOF5wsLCFBYWZjZmjIqUwcbW4jHj3WNjY9CBYyH6dsIKSVJQ8EXlzZlO7RuW1uwVu+N9DkmaunibZi7fZTpPuWK51aqOrwaNX544wQNIEpZPHaNrF86q45Dxsc6HPn6kgJ8GKE3GLKrYqPWbDQ4AAAAAALyU1SrRb968qYwZM5q+//vvv1Wr1v8q8MqVK6dz58699Dz+/v5yc3Mze0Vc258YIeMddPXmfR0/c9Vs7N+zV5Upbcp4n+PKjfuSFOM8wQk8D4D3z59Tx+jfAzvV/tsxcvNIE2M+7MljTRvaV47Ozmre53vZ2tHKBe82g8GQ6C8AAAAAeNOslkRPlSqVrly5IunZn7rv27dPJUqUMM2Hh4fLaDS+9DwDBgzQvXv3zF52XoUTLW68W3YeOqNcWcwTVx9kTqOQK7fjfY7zl2/p8vW7ypXV/Dw5syTsPADeH0ajUX9OHaNje7ap3aDRSpUmXYw1oY8faeoPfWRrZ6eWfYfK3sHRCpECAAAAAICXsVrJW7ly5fT9999r4sSJWrhwoaKiolSuXDnT/LFjx5Q1a9aXnsfR0VGOjuaJB1q5INr4WRv1d0BvfflZZS0OPKCiebPqswal1PX7uaY1KV2TKVPalEqXxk2SlCurlyTp2q37unbrgSRp9PQNGtixhg6fuKSg4ItqXqu4cmf1kt+XU9/8RQF46/05dYyCtm1Qi74/ytHZWQ/u3pIkOSVLLnsHR4U+fqQ/fuyjp2Fh+vSLrxX25JHCnjySJLm4usvm//9/7ObViwoPfaIHd2/raXi4Lp87KUlKkzGr7OzsrXNxwAtQKQ4AAAAgKTIY41PunQjOnTunSpUq6fTp07K1tdW4cePUqVMn03zdunWVLVs2jR49OsHndv6oqyVDxTuuWpl8GvJFbeXM7Klzl25p3KyNmrZ0h2m+ea3i+m1IixjH/fDrav04ebXp+z5tKqlD47JK6ZZMh09c0tdjlmnHoTNv5Brwbpgd8LW1Q8BbYkDjcrGON+zcT4XLVdOZowf123c9Y13Td8Jcpfz/yvUpg7vr7LGgF67B+61+gbfrfZCj95pE3+P0yGqJvgcAAAAAPM9qSXRJioiI0NGjR+Xp6an06dObzQUFBSljxozy8PBI8HlJogOwBpLoAN60ty2JnrNP4ifRT/1MEh0AAADAm2XVJ5jZ2dmpQIECsc7FNQ4AAAAAAAAAwJti1SQ6AAAAkg56ogMAAABIimysHQAAAAAAAAAAAG8rKtEBAABgERSiAwAAAEiKqEQHAAAAAAAAACAOb0Ul+t27dzV16lQdP35ckpQ3b1599tlncnNzs3JkAAAAiC96ogMAAABIiqxeib5v3z7lyJFDo0eP1u3bt3X79m2NGjVKOXLk0IEDB6wdHgAAAAAAAADgPWb1SvSePXuqdu3a+u2332Rn9yyciIgItWvXTj169NCWLVusHCEAAADig0J0AAAAAEmR1ZPo+/btM0ugS5KdnZ369u2rIkWKWDEyAAAAAAAAAMD7zurtXFxdXRUSEhJj/MKFC0qRIoUVIgIAAMCrsLExJPoLAAAAAN40qyfRP/30U7Vt21bz58/XhQsXdOHCBc2bN0/t2rVT06ZNrR0eAAAAAAAAAOA9ZvV2Lj///LMMBoNatmypiIgISZK9vb06deqkn376ycrRAQAAIL7oiQ4AAAAgKbJ6Et3BwUFjx46Vv7+/Tp8+LUnKkSOHkiVLZuXIAAAAAAAAAADvO6sn0aMlS5ZM+fPnt3YYAAAAeEUGStEBAAAAJEFvRRJ93759WrBggUJCQhQeHm42t2TJEitFBQAAAAAAAAB431nlwaJdu3bV/v37JUnz5s1TyZIldfz4cS1dulRPnz7V0aNHtXHjRrm5uVkjPAAAALwCgyHxXwAAAADwplkliV63bl01bdpUkjR06FCNHj1aK1asMPVH//fff9W4cWNlzpzZGuEBAAAAAAAAACDJSkn0rVu36uOPP5YknT59WjVq1JD07CGjjx49ksFgUM+ePTVlyhRrhAcAAIBXYDAYEv0FAAAAAG+aVZLo48aNU7169SRJKVOm1IMHDyRJGTJk0JEjRyRJd+/e1ePHj60RHgAAAAAAAAAAkqyURJ86darmzZsnSSpbtqwCAwMlSY0aNVL37t3Vvn17NW3aVBUqVLBGeAAAAHgFVKIDAAAASIrsrLFp/fr1Vb9+fUnShAkTFBoaKkn6+uuvZW9vrx07dqhBgwYaOHCgNcIDAAAAAAAAAECSlZLoz0uVKpXpaxsbG/Xv39+K0QAAAOBVUSgOAAAAICmySjsXAAAAAAAAAADeBVarRLexsXlpX0uDwaCIiIg3FBEAAABeBz3LAQAAACRFVkuiL126NM65nTt3aty4cYqKinqDEQEAAAAAAAAAYM5qSfQ6derEGAsODlb//v21YsUKNWvWTEOGDLFCZAAAAHgVFKIDAAAASIreip7oly9fVvv27ZU/f35FRETo0KFDmj59urJkyWLt0AAAAAAAAAAA7zGrVaJL0r179zR06FCNHz9eBQsW1F9//aUyZcpYMyQAAAC8InqiAwAAAEiKrJZEHz58uIYNG6a0adNq7ty5sbZ3AQAAAAAAAADAmqyWRO/fv7+cnZ2VM2dOTZ8+XdOnT4913ZIlS95wZAAAAHgVFKIDsTt//rymTZumTJkyqW3bttYOBwAAAAlktSR6y5Yt+ZNfAAAAAElaRESE/Pz8FBQUpG3btlk7HAAAALwCqz1YNCAgQNOmTXvpCwAAAO8Gg8GQ6C8gsTz/Ptu5c2ec6xYsWGBalzVr1peed/Dgwdq1a5dmz56tggULWi7g/+xhMBgUEBCQKOe3poCAABkMBg0ePPiN7fn8z3jGjBlvbN/YxPY+O3funAwGg8qVK2eVmPr37y9XV1d5e3tr8uTJCg4OVooUKbR8+XKrxAMAwJtgtSQ6AAAAALyNZs+eHefcrFmz4n2eTZs2yd/fX/7+/nE+A8oaSWK82MyZM01fJ+Tn/T44c+aMhg0bpuLFi8vJyUkdO3aUt7e30qZNqwoVKlg7PAAAEo3V2rkAAAAgaaFQHO86W1tb5cmTR/Pnz9eYMWNkZ2f+69KtW7e0du1aFSpUSAcOHHjp+U6dOqXx48erc+fOiRWyJKlr165q0qSJ0qVLl6j7vA9u3LihtWvXKlmyZLKzs9Nff/2ly5cvK3369NYOzSRDhgw6fvy4kiVL9sb39vDw0N9//62yZcvKxsZGZ86c0Y0bN+Tj4yNnZ+c3Hg8AAG8KlegAAAAA8P+aNWummzdvat26dTHm5s+fr6dPn6p58+bxOle7du0SPYEuSalTp5a3t7fc3NwSfa+kbt68eYqIiFC9evXUsGFDRUVFac6cOdYOy4y9vb28vb2VOXPmN763m5ubypUrJxubZ6mE7Nmzq3jx4iTQAQBJHkl0AAAAWAQ90ZEU+Pn5yWAwxNrGY9asWUqePHmcrVmiHT9+XK1bt1amTJnk6OgoLy8vNWnSREePHjVbV65cObVp00aS9N1335m916P7m2/atEkGg0GtW7fW1atX1a5dO2XMmFF2dnYaM2aMpBf3RH/69Kl+/fVXlS5dWu7u7nJ2dlbOnDnVpk0b7d+/37TOaDRq7ty5atKkiXLlyiUXFxelSJFCxYoV08SJExUVFRXj3EajUbNnz1bp0qXl5eUlJycnZcqUSRUrVtQvv/zywnv0X9u3b1fFihWVIkUKubu7q0qVKtq9e/cLj4mIiNCkSZPk6+srV1dXOTs7q2DBghozZowiIiIStH+06J978+bNTR+WPN/eRZKWLFkig8GgTz/9NM7z9O7dWwaDQePGjTONHTp0SH379lXhwoXl6ekpR0dHZc+eXZ07d9bly5fjHWNcPdFDQ0M1depU1alTR9mzZ5ezs7Pc3d1VtmxZzZs3L87zRf/sK1WqJA8PDzk5OSlr1qxq3Lix/vrrL7O1a9euVbt27ZQnTx65urrKxcVFPj4++vHHHxUWFhbnHjNnzlTp0qXl6uqqZMmSycfHR/7+/goNDY33dQMAYE20cwEAAACA/5cpUyaVLVtWy5cv18OHD5U8eXJJz3pB79y5Uy1atHhhG41ly5apSZMmCgsLU8GCBVWiRAlduHBBCxYs0IoVK7RmzRqVLVtWklS1alVFRERo+/btKlCggNmDR3PmzGl23hs3bqho0aKKiIhQ6dKlFRoa+tJ2Ho8ePVL16tW1ZcsWubi4mBLp586d0+zZs+Xm5qbChQtLksLCwuTn5ycPDw/lyZNHhQoV0q1bt7Rjxw516dJFe/bsiZGk79u3r37++Wc5OjqqbNmySp06ta5evap//vlHp06dUpcuXeJ1z1euXKl69eopIiJCxYoVU/bs2RUUFKSyZcuqdevWsR7z5MkT1ahRQ3///bdSpUqlEiVKyMnJSbt371bPnj31999/a+nSpaaK6fg4ceKE9uzZIy8vL1WqVEk2NjbKmDGj/vnnHx0+fFj58+eXJNWoUUNubm5asWKF2XskWlRUlObNmydbW1s1adLENP7TTz9p8eLF8vHxUenSpSU9S6xPmjRJy5Yt0759+16rbcy5c+fUrl07pU+fXrlz51axYsV09epV7dixQ1u3btW///4bo/d+ZGSkmjZtqoULF8rBwUGlSpWSl5eXLly4oFWrVik8PNys13nHjh1169Yt5c+fX/ny5dODBw+0Z88eDRw4UBs3btT69etla2trtkeHDh00ZcoUOTk5qXz58kqWLJk2bdqkr776SitWrNCGDRtivJejPzQ9e/ZsvB7gCwBAYiOJDgAAAIugUBxJRfPmzbV582YtWbJELVu2lPS/h42+qJXLuXPn1Lx5c9nb22vlypWqWLGiaW7t2rWqXbu2mjdvrlOnTsnBwUH9+/dX2rRptX37dtWtW/eFDxddvXq16tWrpzlz5sjJySle19G9e3dt2bJFZcuW1aJFi+Tp6Wmau3btms6dO2f63s7OTkuXLlWNGjVkb29vGr9x44aqV6+u6dOn67PPPjN9ABAaGqrx48crRYoUCgoKUrZs2UzHREREaOfOnfGK8cGDB/rss88UERGhP/74w1SZbzQaNWDAAA0bNizW4/r06aO///5bn376qSZPnmxqZfPgwQM1adJEy5cv15QpU9SxY8d4xSH9r+K8SZMmpkSwn5+fhg8frpkzZ2r48OGSJEdHRzVs2FBTp07V0qVL1aJFC7Pz/P3337p8+bKqVq2qNGnSmMY7dOigsWPHysvLyzQWFRWlH374Qd9++60GDhyoP/74I97x/penp6cCAwNVoUIFs7/cOXv2rMqXL6/vv/9erVu3NktK+/v7a+HChcqTJ49Wrlxp9nO8d++eDh06ZLbHuHHjVKFCBbm4uJjGHj58qGbNmmn58uWaPXu26Z8ZSVq8eLGmTJmi9OnTa9OmTfrggw9M565Zs6a2bdumQYMG6eeff37l6wYA4E2gnQsAAAAAPKdhw4ZydHQ0Jc6lZ0n0dOnSmVXl/teYMWP06NEj+fv7myXQpWdV5506dTJV+CaUo6Ojxo8fH+8E+uXLlxUQECBHR0fNmDHDLIEuSV5eXipevLjpezs7O9WtW9csgS49S8z6+/tLkv7880/T+P379xUWFqYcOXKYJV6jz1WmTJl4xblo0SLduHFDZcuWNSXQpWeVyN9//70yZswY45jr16/rt99+U6ZMmTRt2jSzXvApUqTQ1KlT5eDgoEmTJsUrBul/rWkk8w9Kor+eM2eOWUub6PHn3yPRoseaNWtmNv7JJ5+YJdAlycbGRoMGDVKGDBm0fPnyeMcbGw8PD1WsWDFG66ts2bLp66+/VlRUlFasWGEaDw8P18iRIyVJf/zxR4yfo5ubmz7++GOzsdq1a5sl0CUpefLkpvM8/x6RZGpn8+2335oS6NHn/uWXX2QwGDR58uQYbV1y586t3Llzx3g/AgBgLVSiAwAAwCLoWY6kwt3dXTVq1NCff/6pq1ev6sKFCwoODlbPnj1jtKp43vr16yVJ9evXj3W+TJkyGjdunPbs2aN69eolKKZChQopQ4YM8V6/adMmRUZGqmbNmsqSJUu8jzt06JDWr1+v8+fP6/HjxzIajXrw4IEk6eTJk6Z1adKkUcaMGXXo0CH1799fn3/+ubJnzx7/C/p/W7dulSSztifR7O3t1bBhQ1Pv9+ev7enTp6patWqsD7RMmzatPvjgAx0+fFhPnjyJ10Mvt2/frrNnz8rb21tFihQxjefPn18FChRQUFCQNm7caPpwpGzZssqYMaP++usvXb9+3VRxHhoaqsWLF8vFxSXWn/GtW7e0fPlyHTlyRHfv3lVkZKSkZ73rb926pdu3bytVqlQvjfdFtm3bpk2bNunSpUsKDQ2V0WjUlStXJJn/DPft26e7d++qQIECZh+ovMzJkye1evVqnTp1So8ePVJUVJSMRmOM8z99+lS7du2SFPMDBUny8fGRj4+PgoKCdOjQIZUoUcI09++//ybsogEASGQk0QEAAADgP5o3b64lS5Zo3rx5Onv2rGnsRaLbo7ws2X3z5s0Ex5M5c+YErb9w4YIkKUeOHPFaHx4ertatW2vu3LlxrolOpkebPn26mjRpomHDhmnYsGHKkiWLPv74YzVp0kTVqlWL177RD9SMK9EfWz/s6Pv822+/6bfffnvh+W/fvh2vDx+iW7nE9jNu3ry5goKCNGvWLFMS3cbGRk2bNtWIESM0f/58ffHFF5Ke9Xe/f/++/Pz8YlRsz507V59//rkePnwYZxwPHjx45ST6vXv3VL9+fW3cuPGF54+W0PeI0WhUnz59NHr0aFPS/EXnv3XrlsLDw5U6deoY9yJa1qxZFRQUpEuXLsUrBgAArIUkOgAAACyCQnQkJdWrV5e7u7tmzJihy5cv68MPP1ShQoVeeEx0u49WrVq9cF1Cqn6jxbeNy6saNWqU5s6dq/z582v48OEqVKiQUqZMKXt7e504cUK5c+eOkTgtX768Tp06pZUrV2rt2rXatGmTZsyYoRkzZqhBgwZatGhRosQafZ8LFiyoAgUKvHCto6PjS88XFhamBQsWSJLmzZunNWvWmM1HJ4YXL16siRMnmh6C2bx5c40YMUJz5swxJdHjauVy/vx500NSx4wZoxo1aihDhgymKvmSJUtq586dcSan46Nfv37auHGjPv74Y3333XfKly+f3N3dZWtrq/Xr16tKlSqvdf758+dr1KhRypQpk0aPHi1fX195enrK3t5e4eHhcnR0TPD5+QsmAMC7giQ6AAAAAPyHo6OjGjVqZKp07tat20uPyZgxo06fPq2RI0fKw8MjsUN8oUyZMkmSTp8+Ha/1S5culfSsWjpv3rxmc2fOnInzOFdXV/n5+cnPz0+StGvXLjVq1EiLFy/W6tWrVb169Rfumy5dOknPksyxiW08uk966dKlNX78+BeePz5Wrlypu3fvSpKOHDkS57qHDx9q2bJlpmv18fFRvnz5tGvXLp05c0YpU6bU6tWr5enpqcqVK5sdu3r1aoWHh6tPnz7q3r17jHO/6B7H19KlS2Vra6vly5fL1dX1ped/1ffIpEmTVKNGjZee38PDQw4ODrp586YePXoUazV6fP96AwAAa+PBogAAALAIg8GQ6C/gTWrRooU8PDyUOnXqWHs6/1elSpUk/S/ZGB8ODg6SpIiIiFcLMg7lypWTra2t1q1bZ2rb8SJ37tyRpFgf5BldpR0fJUqUUIsWLSS9OCEdLfoBpLHtERERocWLF8cY/+STT2Rra6uVK1fq6dOn8Y4tLrNmzZIkTZgwQUajMdZXQECApP+1fYkW/b6YM2eOFi1apPDwcH366aeyszOvV3vR/d2yZYuuXbv22tdx584dubq6xkigS7Hf38KFC8vd3V1BQUHas2dPvM4vxf89Ym9vb+pzPm/evBjzR44cUVBQkJInT66CBQu+dH8AAKyJJDoAAAAAxKJMmTK6efOmbty4Ea+Hc/bu3VvOzs7q06ePlixZEmM+LCxMixYt0sWLF01j6dOnlyQFBwdbLvD/P2/Lli0VGhqqVq1a6datW2bz169f1+7du03f58qVS5L066+/mq1btGiRZsyYEeP8ISEhCggI0OPHj83GQ0ND9ffff0v6X6XzizRq1EgeHh7atGmTpk+fbho3Go369ttvFRISEuOYDBky6LPPPtO5c+fUtGnTWBPQp06dijUB/1+3b9/W6tWrZWtrq0aNGsW5rl69enJyclJgYKDZfn5+fjIYDJozZ06crVyk/93fWbNm6dGjR6bxS5cuqWPHji+NMz5y5cqlO3fuaP78+Wbjo0ePNv1Mnufo6KiePXtKktq2bRuj6v/evXvavHlzjGuYMmWKWduWrVu3asSIEbHGFN3mZvDgwWbV6g8ePFDXrl1lNBrVoUOHGO2KvL295e3tTa90AMBbgyQ6AAAALMJgSPwX8DbLmTOn5s6dq6dPn6pBgwb64IMPVLt2bTVt2lRly5aVh4eHGjVqZPZg0RIlSihNmjRatGiRypUrp88++0zt2rXTjh07XjuesWPHqmTJkvr777+VJUsWVa9eXU2aNJGvr68yZcpk9hDRvn37ytbWVv3791eRIkXk5+enokWLqlGjRqZE6/Nu376tNm3ayNPTUx9//LGaNWumunXrKnPmzNq1a5eKFCmi+vXrvzTGFClSaOrUqbK1tVXr1q1VokQJ+fn5KV++fBoxYoTat28f57VVqlRJixcvVo4cOVS6dGn5+fmpTp06+uCDD/TBBx/EqBqPzfz58xUeHq4KFSooTZo0ca5zdXVV9erVFRkZaXbfMmfOrDJlyuj48ePavHmzcuTIYaq+fl7t2rWVN29e7du3Tzlz5lTDhg1Vs2ZN5cqVSylTplTJkiVfGuvLDBgwQJLUpEkTlS1bVn5+fsqbN6/69OkT689Qkr766ivVrVtXR44cUa5cuVSxYkX5+fmpTJkySp8+vUaPHm1a261bN7m4uGjixInKly+f6X398ccfx/lBQMOGDfX555/r4sWLypcvn2rWrKnGjRsrR44c2rx5s0qUKKEhQ4bEOC44OFjBwcEW+UsDAAAsgSQ6AAAAAFhInTp19M8//6hz584yGAwKDAzUqlWrdP36ddWqVUsLFixQnjx5TOudnJy0atUqVapUSYcOHVJAQICmTp2qEydOvHYsKVKk0N9//62xY8cqb9682rp1q5YvX64bN26oWbNmatmypWlt2bJltW3bNpUvX15nzpzRypUr5eDgoMWLF6tLly4xzp0jRw6NHDlS5cqVU0hIiJYsWaJt27YpS5YsGj16tDZv3hyvh3pG37O///5bn3zyiY4cOaJVq1YpXbp02rx5c5zJZWdnZ61Zs0bTp09X8eLFdfz4cS1atEj79u2Tp6envvvuOw0fPvyle0cn2ps2bfrStdFr4mrp8t+vn+fg4KCtW7eqU6dOcnJy0sqVK3X8+HF98cUXCgwMlL29/Uv3f5lmzZpp1apVKlGihA4dOqQ1a9Yoffr02rhxo2rXrh3rMXZ2dlq8eLECAgJUokQJ7dy5U3PnztXx48dVs2ZN9ejRw7Q2V65c2rdvn2rVqqWbN29q+fLlevjwoSZPnhxnJbokTZ48WTNmzNBHH32kzZs3a8WKFUqTJo1+/PFHbdy40fSgVgAA3mYG4+s8nvst5fxRV2uHAOA9NDvga2uHAOA9U79AOmuHYKbMyG2JvsfW3qUTfQ8AeJ+1adNGDg4Omjx5srVDAQDgrUElOgAAAAAAkPSs9cy0adP08OFDa4cCAMBbw+7lSwAAAICXM9C0HADeSbdv31adOnWUOXNmbdmyRZGRkdYOCQCAtwqV6AAAAEjyfvrpJxkMBrP+vqGhoerSpYs8PDyUPHlyNWjQQNeuXTM7LiQkRDVq1FCyZMmUJk0affnll4qIiHjD0QNA4rK3t9etW7e0aNEiRUVFafz48UqePLm1wwIA4K1BJToAAAAs4m0tRN+7d68mT54sHx8fs/GePXtq1apVWrhwodzc3NS1a1fVr19f27dvlyRFRkaqRo0aSps2rXbs2KErV66oZcuWsre319ChQ61xKQCQKFKkSKFjx45ZOwwAAN5aVKIDAAAgyXr48KGaNWum3377TSlTpjSN37t3T1OnTtWoUaNUvnx5FS5cWNOmTdOOHTu0a9cuSdL69et17NgxzZo1SwULFlS1atX0/fff65dfflF4eLi1LgkAAADAG0YSHQAAABZhMBgS/ZVQXbp0UY0aNVSxYkWz8f379+vp06dm497e3sqcObN27twpSdq5c6fy588vLy8v05oqVaro/v37Onr06CveJQAAAADvGtq5AAAA4J0RFhamsLAwszFHR0c5OjrGWDtv3jwdOHBAe/fujTF39epVOTg4yN3d3Wzcy8tLV69eNa15PoEePR89BwAAAOD9QCU6AAAALMJgSPyXv7+/3NzczF7+/v4xYrlw4YK6d++u2bNny8nJyQp3AwAAAEBSQRIdAAAA74wBAwbo3r17Zq8BAwbEWLd//35dv35dhQoVkp2dnezs7LR582aNGzdOdnZ28vLyUnh4uO7evWt23LVr15Q2bVpJUtq0aXXt2rUY89FzAAAAAN4PJNEBAABgEW+iJ7qjo6NcXV3NXrG1cqlQoYIOHz6sQ4cOmV5FihRRs2bNTF/b29vrr7/+Mh0THByskJAQ+fr6SpJ8fX11+PBhXb9+3bQmMDBQrq6uypMnT+LfUAAAAABvBXqiAwAAwCJe4bmfiSZFihTKly+f2ZiLi4s8PDxM423btlWvXr2UKlUqubq66osvvpCvr69KlCghSapcubLy5MmjFi1aaPjw4bp69aoGDhyoLl26xJq4BwAAAJA0kUQHAADAe2n06NGysbFRgwYNFBYWpipVqmjixImmeVtbW61cuVKdOnWSr6+vXFxc1KpVKw0ZMsSKUQMAAAB40wxGo9Fo7SAszfmjrtYOAcB7aHbA19YOAcB7pn6BdNYOwUylCbsSfY/AriUSfQ8AAAAAeB490QEAAAAAAAAAiAPtXAAAAGARb1NPdAAAAACwFCrRAQAAAAAAAACIA5XoAAAAsAgDpegAAAAAkiAq0QEAAAAAAAAAiAOV6AAAALAIGwrRAQAAACRBVKIDAAAAAAAAABAHKtEBAABgEfREBwAAAJAUUYkOAAAAAAAAAEAcqEQHAACARVCIDgAAACApohIdAAAAAAAAAIA4UIkOAAAAizCIUnQAAAAASQ+V6AAAAAAAAAAAxIFKdAAAAFiEDYXoAAAAAJIgKtEBAAAAAAAAAIgDlegAAACwCIOBUnQAAAAASQ+V6AAAAADeWwaDIUGvrFmzSpLOnTsXY87W1lapU6dW5cqVtXjxYovFWK5cuRfGtHbt2hjHXLhwQRMnTlTr1q314YcfysbGRgaDQZs2bYrXnsuWLVPVqlXl6ekpJycnZcqUSfXq1dO2bdte61qyZs2a4HseLfp7d3d33b17N9bz//TTTzIYDBo8ePBrxflfDx8+1HfffScfHx8lT55cbm5uypcvn7p06aKHDx+arX306JFmzpypL774QsWLF5ejo2OCYgoKClKLFi2UMWNGOTo6ysvLS+XKldO0adMsci2tW7d+6T0/d+7cC9c7OzvL29tbPXv21NWrVy0S17///qthw4bpk08+UerUqWVvb6+0adOqfv362rp1a6zHXLt2TVOnTlW9evWUMWNGOTg4yN3dXR9//LGmT58uo9EY63H79+/XTz/9pPr16ytjxowx3muWMnjw4Jfe6+f/mXx+/YveL05OThaL9/z58xo/fryqVq2qtGnTyt7eXqlTp1bVqlW1fPnyFx4bGBioGjVqyNPTU/b29vLw8FDlypW1dOlSi8QGAG8TKtEBAABgERSi413UqlWrGGPbtm3T6dOnVaBAARUsWNBsLnXq1Gbfu7i4qGHDhpKkp0+f6vjx4woMDFRgYKD69eunn376yWKxNmjQQMmTJ48xniFDhhhjixcvVs+ePRO8R1RUlNq3b68//vhDLi4uKl26tNzd3RUSEqLVq1ercOHCKl269CvFL0kNGzbUzZs3zcYOHTqkoKAg5ciRI17nvnfvnkaNGqUhQ4a8chwJcfbsWVWoUEFnz55V9uzZVa1aNYWFhSk4OFgTJ07UgAEDzH4uJ0+eVMuWLV9pr99//12dOnWS0WhUiRIlVKZMGV27dk2HDh3S7Nmz1aZNG0tdlkqVKqWcOXPGOhfb++z59devX9euXbs0ZswYzZs3Tzt37jR9wPSqKlasqEuXLil58uQqUaKEUqVKpWPHjmnp0qVatmyZRo0apR49epgd07t3b82ePVt2dnYqUqSISpcurUuXLmnbtm3asmWLVq5cqXnz5snW1tbsuO+//15//vnna8WbELH9uyRa2rRpYx0fM2aMunfvrpQpUyZiZFKzZs20fft2OTo6qkSJEkqbNq3OnDmjdevWad26derZs6dGjRoVa3w9e/aUwWCQr6+vMmXKpAsXLmjDhg0KDAzUV199pR9//DFRYweAN4kkOgAAAID3VkBAQIyx1q1b6/Tp06pbt+5Lq4dTp04d4xwBAQFq06aNhg8frmbNmil//vwWifXnn3+Od6Iye/bs6tGjh4oWLaqiRYuqa9euWr9+/UuPGzJkiP744w/VqlVLAQEBSpUqlWnuzp07MRLgCfXzzz/HGBs8eLCCgoJUunTpWH8ezzMYDHJ0dNTYsWPVs2fPRE8whoWFqVq1agoJCdGvv/6qDh06mM0fOXLE7B5JUooUKdS2bVvTvV+1apUGDRr00r02btyozz//XDly5NDy5cv14YcfmubCw8N19OhRy1zU/2vXrp1at279yutv3Lih6tWra9++ferTp48WLVr0WvF4e3vL399fjRo1kpOTk2l88uTJ6tixo/r06aPKlSsrT548pjkPDw/9+OOPat++vTw9PU3je/fuVcWKFbVo0SJNnTpVn3/+udlevr6+8vHxMf2MsmbNqrCwsNeK/0Xi8++S5zk7O5s+LPr+++8TLS5Jypgxo8aPH69WrVopRYoUpvFVq1apbt26Gj16tKpWrarKlSub5m7cuKH+/fvL3t5egYGB+vjjj01zW7ZsUeXKleXv76+2bdsqe/bsiRo/ALwptHMBAACARdgYDIn+At4FrVu31ieffCKj0fhGq12fV7t2bY0ePVp+fn764IMP4tX64eLFi/L391fmzJk1f/78GMnhlClT6oMPPkiskOPFxsZGn3/+ue7fvx9rQt7Sxo4dq+DgYPXq1StGAl2S8uXLp2TJkpmN5ciRQ7///rs6dOigQoUKyd7ePl57ffHFFzIYDFqyZIlZAl2SHBwc9NFHH736hSQCT09PjRw5UtKzhOvTp09f63wbNmxQixYtzBLoktShQwdVrlxZkZGRWrhwodnc2LFj9dVXX5kl0CWpaNGi6t+/vyRp7ty5Mfbq16+fhgwZolq1asVZCW5NrVu3lpOTk8aOHavbt28n6l7z5s1T165dzRLoklSjRg199tlnkmLew927dyssLEzly5c3S6BLUtmyZVWlShUZjUbt27cvUWMHgDeJJDoAAAAAWFh0wvPChQtWjiT+pk+frvDwcLVr107Ozs7WDidO/fv3l7Ozs8aPH69bt24l6l6//fabpGcJ7sS0fft2HTt2TOXKlbPYXy68CdHv89DQ0Nf+K4UXKVCggCTp8uXLiXrM2yJ9+vTq0KGDHjx4oBEjRlgtjrjuoaOjY7yO9/DwsHhMAGAtJNEBAABgEQZD4r+Ad8WDBw8kmSebnn8Y6auYOnWqOnfurK5du2rcuHEKCQmxSKzRNm7cKEkqWbKkrly5op9//lkdO3ZUv379tHbt2jgf0vimpUuXTh07dkxwgjG2h2a+yIULF3Tq1CllzJhRmTJl0vbt29WvXz917NhRw4YN06lTp17xCmJ6/t4/efJE06ZNU9euXdW9e3fNmDFDT548sdhelhT9PpfM3+vRDyO11ANez5w5Iynu/uGWOuZtEv1h0YQJE+L9AUX0g0kT0qbnReK6h8WKFZO7u7s2btyozZs3m81t2bJF69at0wcffKAyZcpYJA4AeBvQEx0AAAAALCg0NFSBgYGSJB8fH4ud94cffjD7vk+fPvrmm2/0zTffWOT8x44dM/1vgwYNdO/ePdPc8OHDVa5cOS1dulTu7u4W2e919OvXT5MnT9aECRPUu3fvGO08LCH6fqRPn15dunTRxIkTzeYHDhyon376Sb1797bYXlFRUfroo48UHBxsNv/NN99o5cqVb12V+ooVKyQ9e7jtf9v/WMrp06e1cuVKSc/aFMXH06dPTT+vOnXqJEpciS1t2rTq1KmTRo0apeHDh2v48OFvdP+7d+9qxowZkmLeQzc3N02dOlV+fn765JNPVLJkSWXMmFEXL17Ujh07VKpUKc2YMUMODg5vNGYASExUogMAAMAioqs8E/MFvM2ePn2qw4cPq2HDhjp37pw8PDzUqFEj07y9vb1y586t3LlzJ+i8ZcuW1cyZM3X69Gk9fvxYwcHB+vHHH2VnZ6dBgwZp7NixFon/zp07kqRevXrJx8dHBw4c0P3797VhwwZly5ZNmzZtUvv27S2y1+vy8vJSp06d9OjRIw0bNixex0Tf+/j2KI++HwcOHNCvv/6qwYMH68KFC7py5Yppzz59+mjVqlWvdhGx7DV8+HA9evRIq1ev1r1793T48GFVqlRJISEhqlWrlh4/fvzae0Vr06ZNrP+ejU/1+I0bNzRt2jT17dtXktSpUyez+XTp0il37txKnTr1a8UYERGh1q1bKywsTJ9++qkKFy4cr+O++eYbHT9+XNmyZVPHjh1fKwZL+O6772K91y+rGO/Xr5+SJUumX375RdevX3/pPqlTp1bu3LmVLl261465Y8eOunHjhkqUKKF69erFmK9fv77WrFkjDw8Pbd++XfPnz9f27duVIkUKVa5cWRkyZHjtGADgbUIlOgAAAAC8ovPnz8f6AY+Xl5cWL14sNzc301iGDBn077//JniPIUOGmH2fK1cuffXVVypSpIiqVKmiwYMH6/PPP3/tPuZRUVGSnj1AdM2aNXJxcZEkVahQQcuXL5ePj48WLVqkEydOKFeuXK+1lyX069dPv/76qyZNmqQvv/xSXl5eL1yf0HsffT8iIiLUqVMnffvtt6a5vn376ubNmxoxYoSGDh2qGjVqJPwC4thr8eLFKlasmKRnDy5dsWKFcubMqfPnz2v27NkW+yCjVKlSypkzZ4zxggULxrq+TZs2atOmTYzxVq1amR7iGc3f31/+/v6vHWO3bt20bds2Zc+ePcZfAsRl3rx5Gj58uJycnDRnzpwYD361hgIFCsR6X0uXLv3C49KkSaMuXbpoxIgRGjZsmOlBrnHp2rWrunbt+jqhSpKGDRtmerjw7NmzY/133MiRI9W3b1/VrVtXgwcPVvbs2XXmzBkNGjRIgwYN0u7du01/QQAASQFJdAAAAFgEheJ4H7m4uKhhw4aSJFtbW7m7u6tQoUKqV69eoifvKleurCJFimjfvn3avXu3ypUr91rnS548ue7cuaNGjRqZEujR8uXLp6JFi2rPnj3asmXLW5FE9/T0VJcuXTR8+HD99NNPGj16tEXPnzx5ctPXsSWP27RpoxEjRmj37t0KDQ2Vk5PTa++VJ08eUwI9mqOjo/z8/DR8+HBt3rzZYkn0du3aJah39vNJdycnJ2XJkkXVqlWLM+n+un788UdNmjRJXl5eWrduXbzaxWzcuFGtW7eWjY2N5s6dqxIlSiRKbAkVnWh+FV9++aUmTpxo+rAosXu8z5o1SwMGDJCLi4tWrVql7Nmzx1izadMm9enTR4UKFdLChQtlY/OsyUH+/Pm1aNEiFSlSRKtWrdKaNWtUrVq1RI0XAN4UkugAAAAA8IpSp06tgIAAq+3/wQcfaN++fbpy5cprnytLliy6c+eOsmbNGut81qxZtWfPnni1lXhTohOMv/76q6m1iKVkyZLF9HVs9yR6LDIyUrdv31b69Olfe68X3XtJVr33CU26v45ff/1VAwcOlJubm9auXRtrxfx/7d27V3Xq1FF4eLimTp2qunXrJn6gb4Cnp6e6du2qYcOGyd/f32Ltm2KzcuVKtWnTRvb29lqyZEmcH0LMnDlTklSvXj1TAj2ara2t6tevr0OHDmnLli0k0QEkGfREBwAAgEXYGAyJ/gJgLrqX9n8rx1/FRx99ZHbO/7p9+7Yk8wpta0udOrW++OILhYaGWqR9yPO8vb1N1eWx3ZPo+yG9/j15F+99Ypk3b566dOmiZMmSadWqVfGqdD927JiqVaumhw8fatSoUbH+5cC77Msvv1SKFCk0ZcoUXb58OVH22Lx5sxo1aiSj0ag5c+aocuXKca69ePGiJJm1q3pe9Hhc72cAeBeRRAcAAACAd9CNGze0detWSVKhQoVe+3y1a9eW9CyZ9l8PHz7UgQMHJP0v4fu26N27tynBeOnSJYud19HRUVWqVJH0rH3Ff0Xfp+zZs8vV1fW19qpevbrs7Ox0+PBhs+T8f/d62+69pa1evVotW7aUnZ2dli5dqlKlSr30mHPnzqly5cq6deuWBg8erB49eiR+oG+Yh4eH6cOioUOHWvz8Bw4cUO3atRUWFqbff/9dDRo0eOH66JYy+/bti3V+7969kuL+ywoAeBeRRAcAAIBFGN7AC3iXXbp0Sd7e3vL29o73MTt27NCyZcsUGRlpNn7u3DnVq1dPjx49Uu3atZUxY8bXjq9WrVr68MMPtWPHDrOHOEZGRqpXr166ffu28uXLF+NhiK1bt5bBYHjlns+vy8PDQ926dVNYWJimTp0a57roe5+QRHt0i5jvv/9eJ06cMI2fPXtW33zzjSSpY8eOrxj5/6ROnVpt2rTRw4cP1a1bN4WHh5vmpk+frsDAQDk5OcVopxIQECCDwfDa/fAtbcCAAfL29taECRPifcz27dvVsGFDGY1GzZ8//4WV0NGuX7+uypUr69KlS+rdu7fZw18tbdOmTTIYDFZLDPfu3Vuurq76/fff9fTp01jXTJgwQd7e3howYEC8zxscHKyqVavq/v37Gjt2bLxa9kS3ypk9e3aMh4f++eefmjNnjmxsbFSvXr14xwEAbzt6ogMAAADAG/D06VMFBwcn6JgTJ06oTZs2Sps2rQoVKiR3d3edP39e+/fvV2hoqPLmzavffvstxnFXrlwxS2D9+++/kqTOnTubqqZr1KhhSgRLz3oZz5kzRx9//LG6dOmiKVOmKGfOnDp48KDOnDkjDw8PzZkzR4b/tFaKioqSJNnb2yfo2iypd+/eGj9+vO7fvx/nmuh7H1cCMjYlS5bUoEGDNGTIEH300UcqVaqUbG1ttX37dj148EDVqlVTr169YhxXr149U5/66PYbv//+u9auXStJSpcunZYuXWp2zIgRI7Rr1y7Nnj1bW7duVZEiRRQSEqJ9+/bJ1tZWU6ZMUaZMmcyOeRvufWyuXLmi4OBg3bx5M97H1KxZU0+ePFG2bNm0bNkyLVu2LMaa0qVLq127dqbvO3TooJMnTypZsmS6efNmrAng1KlT6+effzYbW7Vqlb7//nvT99EfWjzfA/ybb75RjRo1TN9b+16nSpVK3bt3N4v7v27evKng4OAEPSOhSZMmunHjhjw9PbV///5Y76G3t7f69+9v+r5u3bpq1KiRFi5cqFq1aqlIkSLKli2bzp49a6pO//HHH5U7d+74XyAAvOVIogMAAMAi/ptYA/D6ihcvrk6dOmn37t3au3ev7ty5IxcXFxUsWFCNGjVSp06d5OzsHOO4sLAw7d69O8b48ePHTV/HVhFfsGBBHTp0SIMHD9b69et17NgxeXl5qV27dho4cKDZwzajBQUFyc7OTk2bNn3Nq311KVOmVI8ePTRkyBCLn/u7775TgQIFNGbMGO3atUsRERHKnTu3WrVqpa5du8rW1jbGMQcPHtT58+fNxi5dumSqgo/tPrq5uWnnzp0aOnSoFixYoJUrVyp58uSqWbOm+vfvH2trk6CgIElSy5YtLXGpVnX37l1Jz6r8z549G+e655Po0T23Hz9+rOnTp8e6PkuWLDGS6Ddu3Ij1n4/nx27cuGE29zbc6169emncuHG6d++exc4ZfQ9v3LgR5z38+OOPzZLoBoNB8+fPV9WqVTV9+nT9888/OnTokNzd3VW9enV98cUXqlq1qsViBIC3gcFoNBqtHYSlOX/U1dohAHgPzQ742tohAHjP1C+QztohmGk641Ci7zG3ZcFE3wNA/N26dUuenp5q27ZtrBXxSFw+Pj4KDw/X0aNHY03mw3Jq166t7du369y5c0qRIoW1wwEAvGFUogMAAMAibChEB947mzZtkr29vQYOHGjtUN47N2/e1JEjRzR79mwS6IksMjJSW7ZsUb9+/UigA8B7iiQ6AAAAAOCVNGjQQGFhYdYO472UOnVqU59uJC5bW1tTuxkAwPuJJDoAAAAsgp7oAAAAAJIiG2sHAAAAAAAAAADA24pKdAAAAFgEhegAAAAAkiIq0QEAAAAAAAAAiAOV6AAAALAIeqIDAAAASIqoRAcAAAAAAAAAIA5UogMAAMAibChEBwAAAJAEUYkOAAAAAAAAAEAcqEQHAACARdATHQAAAEBSRCU6AAAAAAAAAABxoBIdAAAAFkEdOgAAAICkiEp0AAAAAAAAAADiQCU6AAAALMKGnugAAAAAkiAq0QEAAAAAAAAAiAOV6AAAALAICtEBAAAAJEXxTqLXr18/3iddsmTJKwUDAAAAAAAAAMDbJN5JdDc3t8SMAwAAAO84A6XoAAAAAJKgeCfRp02blphxAAAAAAAAAADw1qEnOgAAACyCQnQAAAAASdErJ9EXLVqkBQsWKCQkROHh4WZzBw4ceO3AAAAAAAAAAACwNptXOWjcuHFq06aNvLy8dPDgQRUrVkweHh46c+aMqlWrZukYAQAA8A6wMRgS/QUAAAAAb9orJdEnTpyoKVOmaPz48XJwcFDfvn0VGBiobt266d69e5aOEQAAAAAAAAAAq3ilJHpISIhKliwpSXJ2dtaDBw8kSS1atNDcuXMtFx0AAADeGQZD4r8AAAAA4E17pSR62rRpdfv2bUlS5syZtWvXLknS2bNnZTQaLRcdAAAAAAAAAABW9EpJ9PLly2v58uWSpDZt2qhnz56qVKmSPv30U9WrV8+iAQIAAODdYDAYEv0FAAAAAG+a3ascNGXKFEVFRUmSunTpIg8PD+3YsUO1a9dWhw4dLBogAAAAAAAAAADWYjAmwf4roRHWjgDA+yh9mznWDgHAe+b2TD9rh2Dmi6XHE32P8fU+TPQ9gKRg5cqV2rdvn2rVqqXChQtbOxwAAIB32iu1c5GkrVu3qnnz5vL19dWlS5ckSTNnztS2bdssFhwAAADeHbRzAd4Ox44dU+PGjbVx40b5+PhYOxwAAIB33isl0RcvXqwqVarI2dlZBw8eVFhYmCTp3r17Gjp0qEUDBAAAAIA3ac+ePaYPboYMGWLtcBIkLCxMfn5+8vLy0pIlS2Rvb//a52zdurUMBoM2bdr0+gG+hqNHj6pRo0by9PSUs7Oz8ufPrzFjxphajSZEWFiYhg0bpkKFCil58uRydHRUtmzZ1L59e505cybG+sjISC1YsEB9+vRR2bJl5eLiIoPBoNatW790r127dqlOnTpKnTq1nJyclCtXLn399dd69OhRrOvj84Fi+fLlE3zNAADg1b1ST/QffvhBv/76q1q2bKl58+aZxkuVKqUffvjBYsEBAADg3WFDoTiSiJkzZ5q+nj17tgYNGmTFaBJmwIABOn36tHbs2KHUqVNbOxyL2blzpypUqKAnT56oWLFiypo1q7Zs2aKePXtqx44dmj9/frz/WiU0NFSffPKJdu3aJXd3d3388cdycnLSgQMH9Pvvv2v+/Pn6+++/zdrgPHjwQJ9++mmC4549e7ZatWqlyMhIFSpUSFmyZNH+/fs1dOhQrVy5Ulu3bpWrq6vZMa1atYrzfKtWrdLNmzdVpkyZBMcCAABe3Ssl0YODg1W2bNkY425ubrp79+7rxgQAAAAAVvH06VNToVDatGl14sQJ7d69W8WLF7dyZC/38OFDubu7a8WKFcqfP7/Fzuvv76/+/fsrc+bMFjtnQjx9+lTNmjXTkydPNGrUKPXs2VPSs+utXLmyFi5cqOrVq8erKlySpkyZol27dqlo0aIKDAyUm5ubpGfV5j169NCECRPUq1cvbd682XSMvb29WrRooSJFiqho0aIKDg5WmzZtXrjPxYsX1a5dO0VGRmrq1Kn67LPPJEnh4eFq3bq15s6dqy+//FKTJ082Oy4gICDW8929e9f03mzevHm8rhUAAFjGK7VzSZs2rU6dOhVjfNu2bcqePftrBwUAAIB3j40h8V9AYlu7dq1u3rypUqVKqXPnzpLMK9PfZsmTJ9egQYNUrlw5i543Xbp08vb2VrJkySx63vhaunSpzp49qwIFCpgS6NKz650wYYIkaeTIkfE+35YtWyRJvXr1MiXQJcnW1tbUvmfv3r1mx7i4uGjGjBnq1q2bfH195eTk9NJ9AgICFBoaqkqVKpkS6JLk4OCgCRMmKEWKFPrjjz9069ateMW9cOFChYWFqUSJEvrggw/idQwAALCMV0qit2/fXt27d9fu3btlMBh0+fJlzZ49W71791anTp0sHSMAAAAAvBGzZs2S9KzSN7rad/78+Xr69Gmcxxw/flxt27ZV1qxZ5ejoqDRp0qhUqVL6+eefFRERYVqXNWvWOFuObNq0KdYe28/3I1+3bp0++eQTubu7y2AwmP4KeOvWreratat8fHyUMmVKOTs7y9vbW/3793/hXwrHN+64eqIfOnRIffv2VeHCheXp6SlHR0dlz55dnTt31uXLl+PcN6FWrVolSWrYsGGMuUKFCil79uw6cuSIzp07F6/zOTo6vnSNh4dHgmKMzf79+yUp1g81UqVKJR8fH0VERJiu72Wi35stWrR47dgAAEDCvFISvX///vLz81OFChX08OFDlS1bVu3atVOnTp3Url07S8cIAACAd0B8Hob3ui8gMd27d0/Lly+Xg4ODGjdurGzZsqlkyZK6efOm1q5dG+sxCxcu1EcffaQ//vhDyZIlU7169VS4cGFduHBBX375pR4+fGiR2ObMmaNq1arp0aNHqlatmooWLWr6Z+LLL7/Ub7/9JgcHB5UvX14VKlTQ3bt3NWzYMJUuXTrWGCwR908//aTRo0dLkkqXLq3q1avLaDRq0qRJKlKkSKyJ9MGDB8f7gZzRgoKCJD1LmMcmevyff/6J1/kqV64sSRo1apTu3btnGo+MjDT1v2/btm2844tL9INDU6ZMGet8dKI++vpeJCQkRFu3bpW9vf0r9WYHAACv55V6ohsMBn399df68ssvderUKT18+FB58uTR5MmTlS1bNl29etXScQIAAABAolq0aJFCQ0NVp04dpUqVStKzivQdO3Zo5syZqlWrltn6kydPqmXLloqMjNTs2bPl5+dnmjMajQoMDJSzs7NFYvvtt980b968WBOo/fr1U5kyZcweJBoaGqoOHTpoxowZGjVqlNnDUS0Vd4cOHTR27Fh5eXmZxqKiovTDDz/o22+/1cCBA/XHH3+86iWbhISESJIyZswY63z0+Pnz5+N1vubNm2vt2rWaN2+esmbNqlKlSsnJyUn79+/XtWvX9OWXX+qbb7557bg9PT1fGNfZs2fjHffs2bNlNBpVrVo1i1TJAwCAhElQJXpYWJgGDBigIkWKqFSpUlq9erXy5Mmjo0ePKnfu3Bo7dqxZjzoAAAC8P+iJjndddO/z5x/a2LhxY9nb22vFihVmVcuSNHr0aIWGhqpdu3ZmiWjpWeFR5cqV49U6JD5q1KgRZwVyvXr1zBLokuTk5KRffvlFNjY2+vPPPxMl7k8++cQsgS5JNjY2GjRokDJkyKDly5fHOCZ16tTKnTu30qVL99LzR4uuio+rJ7uLi4sk6cGDB/E6n62trWbNmqW+ffvq7t27WrVqlRYvXqxz587pww8/VIUKFWRraxvv+OJStmxZSdLcuXMVHh5uNrdv3z4dPnw43nHTygUAAOtKUCX6oEGDNHnyZFWsWFE7duxQo0aN1KZNG+3atUsjR45Uo0aNLPIfGwAAAADwJoWEhGjLli1yd3c3qzj38PBQ9erV9eeff2rhwoVm7Ss3bNgg6VlFdmKrXbv2C+efPHmiTZs2KTg4WPfv31dUVJSkZwnmkydPmq21ZNy3bt3S8uXLdeTIEd29e1eRkZGSpKdPn+rWrVu6ffu2qapfkrp27aquXbu+9r6v486dO6pXr5727t2rsWPHqkGDBkqWLJm2bNmiL774QtWrV9ecOXNeu21Ks2bN9MMPPygkJES1a9fWzz//rCxZsmjnzp1q37697OzsFBERIRubF9e2HThwQMeOHYvx3gQAAG9OgpLoCxcu1IwZM1S7dm0dOXLE9CCUoKAgelQCAAC85/jPQbzLottlNGzYMEYVdvPmzfXnn39q1qxZZkn0CxcuSJJy5MiR6PFlzpw5zrm5c+eqS5cuunPnTrzOZam4586dq88///yF/dMfPHhglkR/FcmTJ9edO3f0+PHjWOeje4+nSJEiXufr2bOnNm/erNGjR6tbt26m8Tp16ihDhgwqVqyYevfurfr168ve3v614l65cqVq1qypdevWad26daa5nDlzqnfv3ho2bFicPdOjRVehN2rUyGJ/2QAAABImQUn0ixcvqnDhwpKkfPnyydHRUT179iSBDgAAAOCdFt3KZdOmTSpdurTZXHQrji1btuj8+fPKkiWLxfePrhyPi5OTU6zjQUFBat68uVKkSKGAgACVK1dOadOmNSVb06dPrytXrlg83vPnz5seDjpmzBjVqFFDGTJkMPVSL1mypHbu3Cmj0fjae2XOnFl37tzRxYsX5ePjE2P+4sWLkhSvn0tkZKTmzp0rSWrYsGGM+SJFiihbtmw6c+aMzpw5o9y5c79W7AUKFFBwcLAWLFigAwcOKDIyUoUKFVKTJk3k7+8vScqbN+8L4503b54k8zZDAADgzUpQEj0yMlIODg7/O9jOTsmTJ7d4UAAAAHj32FBYgXfU/v37dfz4cUnSqVOndOrUqVjXGY1GzZ49W1999ZUkKVOmTDp58qROnz6tggULvnSf6N+lHj58GOP3qOjq8IRasGCBoqKi9OOPP6pVq1Zmc0+ePNHVq1djHJPQuGOzevVqhYeHq0+fPurevXuM+TNnzrzSeWNToEABBQUF6cCBA6pevXqM+QMHDkhSrAn2/7p+/brpQxE3N7dY10SPx7ey/2WSJUum1q1bmz50iLZjxw5JUrly5eI89q+//tKVK1eUJUsWlSlTxiLxAACAhEvQg0WNRqNat26t+vXrq379+goNDVXHjh1N30e/AAAAAGubNGmSfHx85OrqKldXV/n6+mrNmjWm+dDQUHXp0kUeHh5Knjy5GjRooGvXrpmdIyQkRDVq1FCyZMmUJk0affnll4qIiHjTl4JEFt0uo0+fPjIajbG+Nm3aZLZWkipWrChJmjJlSrz2iX6Y5okTJ2LMBQYGvlLsN27ckCRlzJgxxtzChQtjrQRPaNyxiU4wx7bvli1bYvyz9Dpq1KghSVq0aFGMuYMHD+rMmTPKly+fsmbN+tJzpUqVyvRhxr59+2LM379/X8HBwZLiV9n+qv755x9t3rxZefPmValSpeJcF/1+a968OX8BDgCAFSUoid6qVSulSZNGbm5ucnNzU/PmzZU+fXrT99EvAAAAvH9s3sArITJmzKiffvpJ+/fv1759+1S+fHnVqVNHR48elfSsL/KKFSu0cOFCbd68WZcvXzYrCImMjFSNGjUUHh6uHTt2aPr06QoICNCgQYNe4e7gbfV8e4+mTZvGua5MmTLKkCGDjh8/rv3790uSevToIScnJ/3222+aP3++2Xqj0ajAwECFhYWZxj7++GNJkr+/v+kBnNKz3uLRMSRUdF/zqVOn6unTp6bxY8eOqV+/frEek9C4Y5MrVy5Jz5K80T3JJenSpUvq2LFjnMdNmDBB3t7eGjBgwIsv7Dn16tVTtmzZFBQUpNGjR5vGHz16pC5dukiSevfuHeO4ChUqyNvbW3v27DGNOTo6qmrVqpKkXr16mbW6CQ0NVefOnfX48WOVKlXK9KHH6zh06FCMD96OHz+uBg0ayGg0avz48XEe+/jxYy1dulSS1KJFi9eOBQAAvLoEtXOZNm1aYsUBAAAAWFStWrXMvv/xxx81adIk7dq1SxkzZtTUqVM1Z84clS9fXtKz/9b98MMPtWvXLpUoUULr16/XsWPHtGHDBnl5ealgwYL6/vvv1a9fPw0ePNiszSHeXevXr9e1a9eUK1cuFSpUKM51NjY2+vTTTzVq1CjNnDlThQsXVq5cuTRt2jS1bNlSTZo00ZAhQ+Tj46N79+7pyJEjunDhgu7cuWPqT96lSxf9+uuvWrRokfLkySMfHx+dPHlSR44cUffu3c0SxPH12WefadSoUVqxYoVy586tokWL6vbt29q8ebPq1q2rPXv26Pz582bHJDTu2NSuXVt58+bVvn37lDNnTpUqVUqhoaH6+++/VbBgQZUsWdLUruR5N2/eVHBwcIL6tNvb22vWrFmqWLGievXqpfnz5ytLlizaunWrrly5ooYNG8ZoZSNJp0+f1vnz52M8kHTUqFHavXu3Dh06pNy5c8vX11fOzs7au3evLl++rFSpUunXX3+Ncb7OnTubWsfcunVLkrRq1SqVKFHCtGbXrl1mx/To0UPHjh1TgQIF5OnpqQsXLmjnzp0yGAyaPHmyPvnkkzive9myZXr48KGKFi362r3ZAQDA60loQQ8AAAAQK4Mh8V9hYWG6f/++2etlFbPS/x7O9+jRI/n6+mr//v16+vSpqa2FJHl7eytz5szauXOnJGnnzp3Knz+/vLy8TGuqVKmi+/fvm6rZ8e6LfqDoi6rQo0WvmTt3rqm6uEmTJtq3b5+aN2+ue/fuafHixdq/f78yZ86skSNHmvU+9/Ly0pYtW1SzZk1duXJFa9askZubmwIDA1W7du1Xit/T01N79+5V06ZNFRYWpuXLl+vSpUv6/vvvX1jdnpC4Y+Pg4KCtW7eqU6dOcnJy0sqVK3X8+HF98cUXCgwMlL29/StdT1xKliypvXv3qkGDBjp16pSWL1+uVKlSadSoUZo/f36CWp3kyJFDQUFB6tmzpzJkyKAtW7Zo7dq1SpYsmbp06aKgoCDly5cvxnHHjh3T7t27tXv3blPf/Js3b5rGdu/eHeOY5s2bK0+ePAoKCtKiRYt05swZffrpp9q7d6/at2//wjifb+UCAACsy2C0xOPS3zKhtKkEYAXp28yxdggA3jO3Z/pZOwQzX6+J2efZ0ux3z9F3331nNvbtt99q8ODBsa4/fPiwfH19FRoaquTJk2vOnDmqXr265syZozZt2sRIwBcrVkyffPKJhg0bps8//1znz5/XunXrTPOPHz+Wi4uLVq9erWrVqln8+gAAAAC8fRLUzgUAAACIi80beOjdgAED1KtXL7OxF7WcyJ07tw4dOqR79+5p0aJFatWqlTZv3pzYYQIAAABIQkiiAwAA4J3h6Oj4wqT5fzk4OChnzpySpMKFC2vv3r0aO3asPv30U4WHh+vu3btyd3c3rb927ZrSpk0rSUqbNq3ZAwmj56PnAAAAALwf6IkOAAAAi3gTPdFfV1RUlMLCwlS4cGHZ29vrr7/+Ms0FBwcrJCREvr6+kiRfX18dPnxY169fN60JDAyUq6ur8uTJ8/rBAAAAAHgnUIkOAACAJGnAgAGqVq2aMmfOrAcPHmjOnDnatGmT1q1bJzc3N7Vt21a9evVSqlSp5Orqqi+++EK+vr4qUaKEJKly5crKkyePWrRooeHDh+vq1asaOHCgunTpkqBqeAAAAADvNpLoAAAAsAibxG+JniDXr19Xy5YtdeXKFbm5ucnHx0fr1q1TpUqVJEmjR4+WjY2NGjRooLCwMFWpUkUTJ040HW9ra6uVK1eqU6dO8vX1lYuLi1q1aqUhQ4ZY65IAAAAAWIHBaDQarR2EpYVGWDsCAO+j9G3mWDsEAO+Z2zP9rB2CmcHrTyb+HpU/SPQ9AAAAAOB59EQHAACARdgYDIn+AhKLwWAwe9nY2Mjd3V1lypTR77//rret9iggIEAGg0GDBw9+rfNs3bpVWbNmVcqUKdWxY0edOHFCjRs3Vv369S0T6Gvavn27qlevrlSpUil58uQqVqyYZsyYkeDzZM2aNcbP+L+v7Nmzx3rs0aNH1ahRI3l6esrZ2Vn58+fXmDFjFBUVFed+d+7cUffu3ZUlSxY5OjoqS5Ys6tGjh+7evRvr+uDgYI0ePVpNmzZVjhw5TDGdO3cuwdcKAAAsj3YuAAAAAPD/WrVqJUmKjIzU6dOntX37dm3btk1//fWX5s6da+XoLG/gwIGytbVVyZIlFRAQoMmTJ8vOzk5Lly61dmhavHixPv30U0VFRals2bJKnTq1/vrrL7Vq1Ur//POPfv7553ifq2HDhrp582asc5s3b9a5c+dUpkyZGHM7d+5UhQoV9OTJExUrVkxZs2bVli1b1LNnT+3YsUPz58+X4T8f8N28eVO+vr46deqUsmfPrrp16+ro0aMaO3as1qxZo507dypVqlRmx0yaNEljx46N9/UAAIA3i3YuAGAhtHMB8Ka9be1cvt9wKtH3+KZizkTfA++n6ETof389CgwMVPXq1RUREaEVK1aoZs2a1ggvhnv37unKlStKnTq1UqdO/crn2b17tzJlyqT06dPr/v37Onr0qDJnzqwMGTJYMNqEu337trJly6b79+9r8eLFpsr4a9euqXTp0jp16pT+/vtvlStX7rX2iYqKUsaMGXXlyhUFBgaqYsWKprmnT58qd+7cOnv2rEaNGqWePXtKkh4+fKjKlStr586dmjZtmlq3bm12zubNm2v27NmqX7++5s+fLzu7Z7Vr3bp10/jx49WqVSsFBASYHTN16lSdPHlSRYsWVZEiRVSlShUFBwfr7Nmzypo162tdIwAAeH0k0QHAQkiiA3jTSKIDlhNXEl2SPvvsM02bNk1t27bV77///qZDey8NHz5c/fr1U506dbRs2TKzuaVLl6p+/fqqWbOmVqxY8Vr7BAYGqnLlysqQIYNCQkJkY/O/jqcLFizQp59+qgIFCujQoUNmxx04cECFCxdWvnz5dPjwYdP4lStXlDFjRtnZ2SkkJEReXl6mubCwMGXKlEm3b9/W5cuXlSZNmjjj8vb2JokOAMBbhJ7oAAAAsAgbQ+K/AGv46KOPJEkXLlwwjRkMBmXNmlXh4eEaMmSIvL295ejoqLp165rWPH78WP7+/vroo4+UPHlyJU+eXCVKlND06dPj3OvWrVv6+uuvlT9/frm4uMjV1VX58+dX3759deXKFdO6uHqih4eHa+LEiSpatKg8PDyULFkyZc2aVTVr1tS8efPM1p49e1ZDhgxRyZIllTZtWjk4OChjxoxq2bKlTpw4EWeMx44dU7NmzZQuXTo5ODgoQ4YMatmypYKDg+NzO+Nl1apVkp61YfmvGjVqyMnJSRs2bFBoaOhr7TNr1ixJkp+fn1kC/WUxFCpUSNmzZ9eRI0fM+pavXbtWUVFRKlOmjFkCXZIcHR1Vq1YtRUZGavXq1a8VNwAAeLNIogMAAADACzx48EDSsyTo86KiolS3bl0NHz5cOXLkUJ06dZQuXTpJ0vXr1+Xr66uvvvpKV69e1ccff6yyZcvq33//VevWrfXFF1/E2Of48eMqWLCghg4dqps3b6pKlSqqWLGijEajRowYod27d7801mbNmqlLly4KDg5WiRIlVKdOHWXOnFnbtm3Tr7/+arZ2+vTpGjx4sB48eKAiRYqoTp06cnNz08yZM1W0aFH9888/Mc7/119/qUiRIpozZ47SpUunBg0aKE2aNJo5c6aKFCmirVu3xjimdevWCX4IalBQkKRnyer/cnBwUL58+RQaGvrCZP/LPHnyxNT7vXnz5gmK4fnx5+/TqxwDAADefjxYFAAAABZhEKXiSHqMRqNWrlwpSfLx8TGbu3DhghwdHRUcHByjh3ibNm30zz//qHv37ho2bJgpAX/t2jXVrFlTEyZMUI0aNVS1alVJUkREhOrVq6eLFy+qR48eGjZsmBwcHEznO3r0qJycnF4Y69mzZ7Vo0SJlyZJF+/fvl4eHh2kuNDRUBw8eNFtfvXp1tWjRQjly5DAbnzFjhlq1aqUePXpo48aNpvFHjx6pWbNmevLkiSZMmKAuXbqY5kaPHq1evXrJz89PJ0+efGmsL3L//n3du3dPkpQxY8ZY12TMmFH79u3T+fPnY/xc4mvZsmV68OCBfHx8Yj1HSEjIS2OQpPPnz7/WMQAA4O1HJToAAAAA/EdkZKROnjypzz77TDt37pSjo6PatGkTY52/v3+MBPqhQ4e0evVqFS1aVKNGjTKrYPfy8tKUKVMkSZMmTTKNL1myRMHBwcqbN69+/vlnswS6JOXNmzdGsvu/bty4IelZ+5nnE+iS5OTkJF9fX7OxYsWKxXrOli1bqlSpUtq0aZMpmS096xF+7do1+fr6miXQJalnz54qXLiwLl68qMWLF5vNpUuXTrlz5473A1AfPnxo+jpZsmSxrnFxcZH0v78SeBUzZ86UJLVo0eKFcSQkhlc5BgAAvP2oRAcAAIBF0LMcSUH0A0aflyJFCk2fPj1GwtlgMKhWrVox1q9fv16SVLdu3Rh9tiWZeqTv2bPHNLZhwwZJUrt27WRra/tKsXt7e8vFxUWrVq3SiBEj1KxZM6VPn/6Fxzx8+FArVqzQoUOHdPv2bT19+lTSswdkGo1GnT592tSCJLpVS7NmzWI9V/PmzbV//35t3brVbI2/v7/8/f1f6ZoSy/Xr1xUYGCgbGxv5+b1dD2kGAABvH5LoAAAAAPD/WrVqJUmysbExPdSzfv36SpkyZYy1adKkidEnXZLpQZNff/21vv766zj3ev6hmNEPLX1ZtfmLuLq66rffftPnn3+uvn37qm/fvsqVK5c++eQTtWjRQqVKlTJbv3HjRjVp0sRUwR6b5yumL1++LEnKmjVrrGujxy9duvTK1yBJyZMnN339+PFjubq6xljz6NEjSc8+4HgV8+bNU0REhCpVqhTnBw3JkyfXnTt39Pjx41jnY4shOvaEHAMAAN5+JNEBAABgEVSiIykICAiI99q4+n5HRUVJkkqXLv1aSfFX0bRpU1WsWFF//vmn1q9fr82bN2vy5MmaPHmyevXqpZEjR0p6VoHeuHFj3b59W4MGDVKTJk2UJUsWOTs7y2AwyM/PT3PnzpXRaIz33rFV8b8KV1dXubm56d69e7p48aLy5MkTY83FixclSVmyZHmlPWbNmiUp9geKRsucObPu3LmjixcvxtozPbYYMmfObDZn6bgBAIB1kEQHAAAAAAuKfnhk3bp11bt373gdkylTJknS6dOnX3t/T09PtWvXTu3atZPRaNS6dev06aefatSoUfrss8+UN29ebd26Vbdu3VLDhg313XffxTjHmTNnYoxFV2zH9VDM6Ar8//aIfxUFChTQli1bdODAgRhJ9KdPn+rIkSNycnJSrly5EnzuEydOaO/evUqWLJnq16//whiCgoJ04MABVa9ePcb8gQMHJJk/cLZAgQJmc/E5BgAAvP14sCgAAAAswmAwJPoLeBdUqlRJkrR06dJ4H1OxYkVJ0tSpU02V7JZgMBhUtWpV1ahRQ5J09OhRSdKdO3ck/S/h/7xTp07FmgQuU6aMJGnu3Lmx7hVd3R297nVEx7to0aIYcytXrlRoaKgqVqwY518DvEh0nPXq1TNrHZOQGA4ePKgzZ84oX758Zu1tqlatKhsbG23dulXXr183OyYsLEwrVqyQra1trEl5AADw9iKJDgAAAAAWVLx4cVWqVEnbt29Xly5ddP/+/RhrgoKCtHbtWtP39evXV65cuXTkyBH17dvX9IDPaEePHo21Ovx5Bw8e1JIlSxQeHm42fvv2be3evVvS/yreoyu4lyxZYtYT/e7du2rbtm2M/SWpcePG8vLy0rZt2zRlyhSzuXHjxmnfvn3KkCGDGjRoYDY3YMAAeXt7a8KECS+M/3nt2rWTq6ur/vzzTy1ZssQ0fv36dfXt21eSYq3y9/b2lre39wv7ss+ePVuS1KJFixfGUK9ePWXLlk1BQUEaPXq0afzRo0fq0qVLrDGkS5dOTZs2VXh4uDp37qyIiAjTXN++fXXjxg01b95cadKkeeHeAADg7UI7FwAAAFgEPdGB/5k1a5aqVq2qiRMnas6cOSpYsKDSp0+ve/fu6Z9//tGFCxfUvXt3Va1aVZJkZ2enxYsXq1KlSho5cqTmzJkjX19fGY1GnTx5UkeOHNHSpUuVPXv2OPc8f/68GjRoIDc3NxUpUkRp06bV3bt3tWXLFj148EC1atWSr6+vJKlIkSKqVKmSAgMDlStXLpUrV06StGnTJqVOnVp16tTRn3/+aXZ+FxcXzZ49W7Vq1VKHDh00ZcoU5cqVS//++68OHjyo5MmTa+7cuTGqw69cuaLg4GDdvHkz3vcvVapU+uOPP9S4cWM1bNhQ5cqVk4eHhzZs2KC7d++qV69eppifFxwcLEmxfgggSTt27NCZM2eUNm1aU/V/XOzt7TVr1ixVrFhRvXr10vz585UlSxZt3bpVV65cUcOGDU0Pon3emDFjtGvXLi1evFje3t4qUqSIjh49qiNHjuiDDz7QqFGjYhxz4MABde7c2fR9dMucevXqmR5eG92iBwAAvHlUogMAAACAhaVJk0Y7duzQuHHjlCdPHh08eFCLFi3SP//8o+zZs2vEiBHq06eP2TH58uVTUFCQ+vTpoxQpUmj16tXauHGjDAaD+vXrpxIlSrxwzxIlSuiHH35Q4cKFFRwcrIULF2rfvn3y8fHRH3/8ocWLF5ut//PPP/X111/L09NTa9as+b/27js8yirt4/hvQkiBhIQISUBKQg0gLdQYpShNevFdukRYVKr0onRQEDV0RSkGkV5FEJAFQmgJEJpLb6FIFwgIps/7B5tZZpOBABMGhu9nr7ku5pzznHM/ozuX3LlzP4qOjlarVq0UGRkpT0/PdM94++23tXv3brVu3VoXLlzQ0qVLdfnyZbVr10579uyxSiuXVC1atFBERITq1q2rffv26ddff1WRIkUUFhZmekDq40pt5dK6dWtlyZLlketff/117d69Wy1atNDJkye1atUqeXl5KTQ0VIsWLUq3zVSuXLm0a9cu9ejRQwkJCVqxYoViY2PVs2dP7dq1S15eXmmuuX37tqKiokyvuLg4SdL+/ftNY5YeVgoAADKfwfg4j1t/QcQlPXoNAFhb3vfn2zoEAC+ZG3Pb2DoEM6ERD281YQ19qlmuwgUAAACAzEAlOgAAAAAAAAAAFtATHQAAAFbhkE5bAwAAAAB40VGJDgAAAAAAAACABVSiAwAAwCocKEQHAAAAYIeoRAcAAAAAAAAAwAIq0QEAAGAVtEQHAAAAYI+oRAcAAADw0jMYDGYvBwcHeXh4qGrVqpo4caISExNtHWKGhIWFyWAwaMSIEWbjI0aMkMFgUFhYmNXO+vvvvzVs2DAVK1ZMLi4uyps3rzp27Kg//vjjifaLjIxUkyZNlCtXLrm4uKhYsWL69NNPdffu3QzvUatWLdM/wwsXLqS7Jj4+Xl988YUCAwPl5uYmZ2dn+fv7q3Pnzjp9+nSa9TExMWn+/Xjw5evr+0T3CwAAXhxUogMAAMAqHEQpOl58HTp0kCQlJycrJiZGO3bsUFRUlFavXq1169bJ0ZG/QklSXFyc3nrrLUVGRipPnjxq0qSJYmJi9MMPP2j16tWKjIxUoUKFMrzfvHnz1KFDByUnJyswMFAFCxZUdHS0Pv/8c61evVpbt25Vjhw5HrpHWFiYNm7cKIPBIKPRaDHumjVrKjIyUp6enqpevbpcXFy0d+9ezZw5U4sWLdLmzZtVoUKFNNf6+PioXr16acY9PDwyfJ8AAODFxH8BAgAAAMB//G+ldlRUlGrUqKGNGzdq4cKFateunW0Ce86MGTNGkZGRCgoK0m+//SY3NzdJUmhoqPr27auOHTsqPDw8Q3tduHBB//znP5WcnKxZs2apY8eOkqSEhASFhIRowYIF6t+/v7777juLe1y7dk19+/ZVnTp1dOzYMZ09ezbddd9//70iIyNVqVIlbdiwwZQAT05OVq9evTR16lT16dNHW7ZsSXNtQECAVSv5AQDAi4N2LgAAALAKgyHzX8CzVqVKFYWEhEiS1q9fb9tgnhMJCQmaOnWqJGnatGmmBLok9enTR2XKlNGWLVsUHR2dof3CwsIUFxen2rVrmxLokuTk5KSpU6fK3d1ds2fP1p9//mlxj169eunevXv65ptvHnpWRESEKc4HK8izZMmiUaNGSZJ2796dobgBAMDLgyQ6AAAAADxEqVKlJElXr15NM2c0GrVgwQK99dZbypkzp1xcXFSiRAmNGDFC9+7dS3e/xMRETZ8+XW+88YY8PT3l6uqqIkWK6P333zdLPKfu3apVKxUrVkzZs2eXu7u7KleurG+++UYpKSmZc8OPsH37dsXGxqpw4cIqX758mvl3331XkvTLL79kaL/Ue65Ro0aaOS8vL5UpU0ZJSUlas2ZNutevW7dO8+fP16effqrChQs/9CxnZ+dHxvPKK688OmgAAPBSoZ0LAAAArMKBSnHYqTt37kiSvL29zcZTUlLUrl07LViwQG5ubqpYsaJy5sypPXv2aOTIkVq7dq3Cw8Pl6upquubu3buqX7++IiIilD17dlMiPSYmRvPmzZOHh4epH3d8fLzatGmjV155RSVLllRgYKD+/PNP7dixQ926ddOuXbueur1ITEyM/P39JcliH/H/deDAAUlSYGBguvOp4wcPHszQfqkPDs2ZM2e686lJ7dRz//faLl26KCAgQAMGDHjkWXXq1NH8+fMVGhqqd955x6ydy7BhwyRJnTp1SvfaK1euaPjw4bp06ZI8PDxUpUoVNW7cWE5OTo++SQAA8EIjiQ4AAAAAD7Fu3TpJSvNQya+//loLFixQjRo1tGDBAvn6+kq63+6ka9eumjVrlkaOHKlx48aZrvn4448VERGhatWqaenSpcqdO7dp7sqVK4qJiTG9d3R01IoVK9SgQQNlzZrVNH7t2jXVr19fc+bMUceOHVWtWrXMuG2Lzp07J0nKly9fuvOp45b6kv+v1M/A0vozZ85YnB82bJhiYmIUHh6eoWR2u3bttG7dOi1cuFB+fn4KDg6Wi4uLoqOjdeXKFfXv319Dhw5N99qjR4+aWr6kKlCggJYsWaLKlSs/8mwAAPDiop0LAAAArMLBYMj0F/CspKSk6NSpU+rSpYsiIiLUpEkTtWzZ0jSflJSk8ePHK3v27Fq4cKEpgS7d7+U9ZcoU+fr66vvvvze1Xbl48aLCwsLk7OysH3/80SyBLkk+Pj6qUqWK6b2jo6OaNm1qlkCX7iedx44dK0n6+eefn+o+s2bNquLFi6t48eIZvuavv/6SJGXLli3d+ezZs0v6bwX/o6T+EGDBggVKSEgwm9uzZ49+//33dPfbu3evJk2apA4dOqh69eoZOitLliz66aefNGDAAN26dUtr1qzRsmXLFBMToxIlSujtt99WlixZzK5xdnZWly5dFB4eritXruj27dvauXOn6tevr3Pnzqlu3boZ/oEBAAB4MVGJDgAAAAD/YUjnhzWdO3fWd999Zza3d+9eXb9+XbVr15aPj0+aa1xdXVWhQgWtWbNGJ06cUPHixRUeHq7k5GQ1bNhQBQsWzHBM+/fv12+//aazZ8/q3r17MhqNpoTyiRMnnuAu/+vVV1/V0aNHn2qPp9W2bVuNGTNG586dU+PGjfXVV1+pYMGC2rlzpzp37ixHR0clJSXJweG/NWDJycn65z//KU9PT3311VcZPuvmzZtq1qyZdu/erUmTJqlFixbKli2bIiIi1KNHD9WvX1/z5883+4FJnjx50jywtGrVqlqzZo3atm2r+fPn6/PPP9d333339B8GAAB4LpFEBwAAgFVQKA570KFDB0lSXFycDhw4oKNHj2rGjBl6/fXXFRISYlqX2nZlw4YN6SbeH3T9+nUVL15c58+fl6RHPvwyVUJCgkJCQrRgwQKLazJa7W1Nbm5ukmTxwampPc7d3d0zvN/q1avVsGFDrV+/XuvXrzfNFSlSRH379tUXX3xh1jN94sSJ2rdvn2bNmqVcuXJlOPbevXtry5YtmjBhgnr27Gkab9KkiV599VVVrlxZffv2VfPmzdP8BkB6PvnkE82fP98sZgAAYH9IogMAAADAf/zvgzq//PJLDRgwQN26dVPNmjVNFeSpLVqKFCmi4ODgh+6Z+mDMxxUaGqoFCxaodOnSGj9+vAIDA5UzZ05lzZpVx48fV/HixTP8MFBrKlCggCTpwoUL6c6njj9OtX3ZsmV17NgxLV68WHv37lVycrICAwPVqlUrU+uaUqVKmdb/8ssvMhgMmjNnjn788UezvS5fvixJ+r//+z85Oztr0KBBqlevnpKTk00/kHj33XfTxFCxYkX5+/vr9OnTOn36dIZa3BQtWlSSdOnSpQzfKwAAePGQRAcAAIBV0LMc9qh///7617/+pd9++00jR47U7NmzJf334ZkBAQFpEu+W5M+fX5J06tSpDK1fsWKFpPu9wh9MIEvS6dOnM7RHZihbtqyk+y1t0pM6XqZMmcfaN1u2bAoJCTGr+JekHTt2SJJq1KhhNm40GhUREWFxv8jISEky7Xf16lVTz3UPD490r0kdv3nzZoZiTl2X2gceAADYJx4sCgAAAAAPMW7cOEnS3LlzTQ+QrFSpkjw8PLRlyxbduHEjQ/vUqFFDWbJk0fr1602tXR4mNUGbmrB/0OLFizMavtUFBwfLw8NDp06d0v79+9PML126VJLUqFGjpz7r4MGD2rJli0qVKmVW8R8eHi6j0ZjuK7UC/vz58zIajaYkupeXl5ycnCTdf2Dp/7p9+7aOHTsmKeNV9MuWLZMkBQYGPvE9AgCA5x9JdAAAAFiFwZD5L8AWypcvr6ZNmyopKUnjx4+XJDk7O2vAgAG6c+eOmjdvnm5l+B9//KG5c+ea3ufNm1fvvfee4uLi1KFDB/35559m669evaqoqCjT+2LFikmSpk+fbrZu6dKlaVqYPKk//vhDAQEBCggIyPA1Tk5O6t69uySpW7duph7o0v0WNAcPHlT16tVVoUIFs+umTp2qgIAADR48OM2e+/fvV1JSktnYkSNH1KJFCxmNRk2ZMuVxbitdzs7OqlevniSpT58+Zi1Y4uLi1LVrV927d0/BwcHKkyePaW7GjBnpPnx1+fLlGjRokKT7nwMAALBftHMBAAAAgEcYMWKEfv75Z82ePVtDhw6Vr6+vBg0apKNHj2ru3LkqUaKEypcvL39/fyUkJOjYsWM6fPiwypQpo/bt25v2mTRpko4dO6bNmzerYMGCqlatmnLkyKGzZ89q79696tKli6pUqSJJGjBggNatW6dBgwZpyZIlKlasmE6cOKE9e/aoX79++uqrr576vhITE03V149jyJAh+te//qUdO3aoaNGievPNN3X27FlFRUUpd+7cprY3D7p+/bqOHTuWbv/wXr166fDhwypbtqxy586t8+fPa+fOnTIYDPruu+9Us2bNJ7q//xUaGqqoqCjt379fxYsXV1BQkFxdXbV7925dvHhRXl5eaX5oMW/ePH3wwQcqU6aMihUrppSUFB0+fNiUWO/fv7+aNWtmlfgAAMDziUp0AAAAWIXDM3gBtlK2bFk1a9ZMcXFxCg0NlSQ5ODjoxx9/1M8//6zatWvrzJkzWrZsmbZt2yYXFxf1798/TTLZ3d1dmzdv1qRJk1SqVClt3bpVq1at0rVr19S2bVu99957prXVqlXTtm3b9NZbb+n06dNavXq1nJyctGzZMptXPru4uGjz5s0aOnSosmXLppUrV+rs2bMKCQnR3r17VahQocfar127dipZsqQOHDigpUuX6vTp02rZsqV2796tzp07Wy3uwoUL68CBA+rdu7deffVVRUREaN26dcqWLZu6deumAwcO6LXXXjO7pnPnznr33Xd17949/fbbb/rll190+/ZtNW/eXBs2bDD9dgIAALBfBqMtHueeyeKSHr0GAKwt7/vzbR0CgJfMjbltbB2CmbDd5zL9jJBKBTL9DAAAAAB4EO1cAAAAYBUGmpYDAAAAsEP8ViwAAAAAAAAAABZQiQ4AAACroA4dAAAAgD0iiQ4AAACrcKCdCwAAAAA7RDsXAAAAAAAAAAAsoBIdAAAAVkEdOgAAAAB7RCU6AAAAgJeewWB46KtGjRpm66OjozVu3Dg1b95c+fLlM617GikpKZo9e7Zq1qwpLy8vZc2aVT4+Pipbtqw6d+6sefPmPdX+9uDmzZv6+OOPVbBgQTk7O6tgwYLq1auXbt269UT7LV68WG+99ZZy5sxp+rybNGmi8PBwq8UQEhLy0H+3pk+fbvEso9GosLAwVatWTV5eXnJ1dVWhQoXUpk0bHTp06InuGQAAPD4q0QEAAGAVtESHPejQoUO64wEBAWbvR48erZ9//tlq5yYkJKhJkyZat26dHBwcVLlyZRUsWFDx8fE6cOCAZs6cqblz56pt27ZWO/NFc/36dQUFBenkyZMqVKiQmjZtqkOHDmnSpElau3atdu7cKS8vrwzv17t3b02cOFGOjo568803lTt3bp08eVKrVq3SqlWr9N133+mDDz6wWgx169aVr69vmvHixYunuz4uLk7NmjXTunXr5OXlpeDgYLm6uur06dNavHix6tevr1KlSmX4fgEAwJMjiQ4AAAAA/xEWFpahdUFBQSpTpowqVaqkSpUqyc/PT/Hx8U987tSpU7Vu3Trlz59fv/32W5qk/aFDhzRnzpwn3t8e9OrVSydPnlTz5s21aNEiOTre/+tsz549NWXKFPXp0yfD//wOHjyoiRMnytPTU9u3b1fJkiVNcwsXLlSbNm3Up08ftWnTRm5ublaJYdCgQWl+o+FhPvroI61bt06dO3fWpEmT5Orqapq7dOmSEhMTM7wXAAB4Ogaj0Wi0dRDWFpdk6wgAvIzyvj/f1iEAeMncmNvG1iGYWbDvj0w/o3X5VzP9DLycUluxPOlfj1xcXBQfH//E1wcHB2vHjh2aMWOG/vnPfz7RHvbs0qVLypcvnxwdHXXu3Dn5+PiY5uLj45U/f37duHFDFy9elLe39yP3mzp1qnr06KEPP/ww3XYqZcuW1cGDBxUVFaXKlSs/VQwhISGaM2eONm/enOEk+q5du1SlShVVrlxZkZGRT90qCAAAPB16ogMAAACAjV27dk2SlDt37se+9vz58+rZs6eKFSsmV1dXeXl5qWLFiho5cqRu375ttvbevXsaPXq0XnvtNbm6usrDw0PVqlXTwoUL093bz89PBoNBRqNRU6ZMUdmyZZUtWzaVK1fOtCYpKUnffvutgoKClCNHDrm6uqpcuXKaOHGikpKsU+G0bt06paSk6M033zRLXkuSs7OzGjVqpOTkZP36668Z2s/Z2TlD61555ZVMi+FhZsyYIUnq3r07CXQAAJ4DJNEBAABgFQ7P4AXYq/z580uSZs6c+VhtOrZu3aoyZcpoypQpSkxMVKNGjRQcHKzY2FiNGDFCp0+fNq29c+eOqlWrpmHDhunq1atq2LChgoODtWvXLrVu3Voff/yxxXM++ugj9e3bV97e3mrcuLEKFSokSfr7779Vp04dde3aVcePH1fVqlVVu3ZtXbp0Sb1791aLFi2UkpJitld4eLgMBoP8/PwyfJ8HDhyQJAUGBqY7nzp+8ODBDO1Xs2ZNOTo6atGiRTp8+LDZ3MKFC/X777+revXqKly4sNViWL58uXr06KGuXbvqyy+/1NGjRy3Gt2nTJknS66+/rlOnTmnMmDH68MMPNWTIEG3bti1D9wgAAKyHnugAAAAAYGOdO3fWpk2btHr1ahUpUkTNmzdXUFCQKlSoYJbIfdCNGzfUokUL3bp1S19++aX69OkjB4f//rhp586dyps3r+n9J598oujoaNWsWVM///yz3N3dJUlHjx5V9erVNXnyZNWuXVsNGzZMc9by5cu1b9++NA+y7NevnzZv3qyWLVvqu+++k4eHh6T7CftWrVpp1apV+v777/XRRx891edz7tw5SVK+fPnSnU8dP3v2bIb2K1KkiCZMmKCPP/5YZcuW1Ztvvilvb2+dOHFC+/btU6NGjTR79myrxjBlyhSz9wMHDlSXLl00adIkU2916f4DRVN/+LFp0yb16NHDrN/+Z599ppYtW+rHH3+Uk5NThu4XAAA8HQp6AAAAYBUGgyHTX0Bms/TvXkxMTKae26pVK4WGhip79uw6d+6cJk6cqJYtW6pIkSLy9/fXuHHjFBcXZ3bNzJkzde3aNdWrV0/9+vUzS6BL9x9+mtqb++7du5o1a5YcHBz0zTffmBLokhQQEKAhQ4ZIkiZNmpRufAMHDkyTQL969apmzJih/Pnz64cffjAl0CXJ3d1ds2bNkpOTk7799luz67Jly6bixYtb/OFAev766y/TtenJnj27pPvJ+4zq3r275s+fLycnJ23evFmLFi3S3r175evrq9q1a8vLy8sqMZQvX17Tp0/X8ePHde/ePZ0+fVrTpk2Tp6envvnmG/Xv399s/a1bt0x/7tq1qxo0aKAjR47o1q1bWr58uXLlyqVFixbp008/zfC9AgCAp0MSHQAAAAD+o0OHDum+3NzcMv3s3r1769y5c/r+++/Vpk0bFS1aVJIUExOjwYMHq2bNmvr7779N6//1r39Jkj788MNH7h0dHa2///5bgYGBCggISDPfvn17SdL27dvTtF+RpMaNG6cZCw8PV2JiourVqydXV9c0876+vipatKh+//13s7grV66so0ePauPGjY+MO7MYjUb16tVLrVq10nvvvafjx4/rr7/+UlRUlIoUKaIePXqoe/fuVjnr448/1ocffqiiRYvK1dVV/v7+6tq1q7Zu3SonJydNnTpV58+fN61/8PMPCAjQkiVLFBAQIA8PDzVr1kxz5syRdP/hqP/b8x4AAGQO2rkAAADAKqgThz0ICwvLlH3HjRuXpgd2QECABg0aZDbm5eWlzp07q3PnzpLutwaZNm2aQkNDFRkZqdDQUFMFcmriNSMV3RcvXpQki33IPT095eHhodjYWN28edPsgZqSVKBAgTTXpFbnz5gxw/QgTEtu3LihV1999ZFxWpL6Q4x79+6lO3/37l1JMquwf5g5c+Zo0qRJatKkiVmlfOXKlbVmzRoFBATo22+/VdeuXU0V+NaOoVSpUmrcuLGWLl2qjRs3KiQkxOwcSXrvvffS/IZB/fr15e3tratXr2rXrl2qVatWhs4DAABPjiQ6AAAAAGSydevWacuWLWZj1atXT5NE/18FCxbU+PHjlZSUpAkTJmjNmjWZ1sbjYS2TXFxc0oylVkyXK1dOZcuWfejezs7OTxVbahL/woUL6c6njhcsWDBD+82dO1eS9O6776aZc3d3V7169TR79mxt27bNlES3dgySTL9tcOnSJdNYjhw5lDNnTt28edPiDz38/Px09epVXb16NcNnAQCAJ0cSHQAAAFZBz3LAsvDw8Ke6/q233tKECRN0/fp101j+/Pl19OhRnTp1SqVLl37o9akPGLX00MvY2FjdunVLrq6uypkzZ4ZiSn2Q5htvvJHmoZnWlpqk37t3b7rzqeNlypTJ0H6pCe8H+7g/KHX85s2bmRbDg/un9lNPVa5cOW3evNns/AfduHFDkp5JmyEAAEBPdAAAAACwOaPR+ND5kydPSpJZS5TUNh7ff//9I/evUKGCXF1dFR0drRMnTqSZ/+mnnyRJwcHBadqHWFKzZk1lyZJFq1evVmJiYoaueVL16tWTg4ODtm7dmqb6Oj4+Xr/88ouyZMmi+vXrZ2g/X19fSdKePXvSnU8df7AS3NoxxMfHa82aNZKkwMBAs7nUHvTp/fDl3LlzplY65cuXz9BZAADg6ZBEBwAAgFU4PIMXYK8aN26syZMnmyqMHxQVFaXRo0dLMm8/8s9//lO5cuXS2rVrNXHixDSJ+MjISFOyN3v27OrYsaNSUlLUrVs3U/9uSTp+/LjGjBkjSerZs2eGY3711VfVsWNHxcTEqHXr1rpy5UqaNSdPntSyZcvMxnbt2qWAgAC9/fbbGT4rT548at26tRISEtS1a1clJSWZ5gYMGKBr166pXbt28vb2Nrtu8ODBCggI0NSpU83GmzZtKkkKDQ3Vrl27zOamTp2qrVu3yt3dXXXq1HmqGI4ePaq5c+cqPj7e7Ixr166pVatWOn/+vMqWLavg4GCz+Y4dOypXrlxatGiRVq1aZRq/d++e6ez69esrf/78Gfn4AADAUzIYH1Xy8AKKS3r0GgCwtrzvz7d1CABeMjfmtrF1CGaWH7j06EVPqXnZPJl+Bl5Oqe2IMvrXozVr1pgS29L9xLDRaFSVKlVMY0OHDlWDBg0ytF+5cuV04MABOTo6qly5cvL391dKSopOnTql/fv3S5IaNWqk5cuXy9Hxv105w8PD1bhxY925c0f+/v6qVKmS/v77bx05ckQnT57Uvn37VK5cOUnSnTt3VLNmTUVHR8vb21vVq1fX3bt3tWnTJsXFxalnz56aNGmSWVx+fn46e/asxc/l77//VpMmTbRhwwZlz55d5cqVU4ECBXT37l0dPnxYJ0+eVJMmTbRy5UqzmGvWrKmCBQuaKqoz4vr166patapOnTqlwoULq2LFijp06JD+/e9/q2jRooqMjJSXl5fZNSEhIZozZ46GDx+uESNGmMbj4uJUu3Ztbdu2TQ4ODgoKClLevHl16NAhHT58WFmyZNEPP/yg9u3bP1UMqfeaM2dOVaxYUblz59bFixcVHR2tO3fuKF++fNq4caOKFSuW5n7Xr1+vRo0aKSkpSVWqVFGePHkUFRWlixcvys/PT9u2bXuqh7UCAICMo6AHAAAAVmEwGDL9BTwvrl27pqioKNMrNcn84Ni1a9cyvN/SpUs1efJkvfPOO7p9+7bWrl2rVatW6cqVK2rQoIHmz5+vn3/+2SyBLkk1atTQgQMH9NFHH8loNGrlypXavn27PDw8NGrUKBUuXNi01t3dXVu2bNHIkSOVK1curVq1Slu3blXFihU1f/78NAn0jHB1ddXatWs1Z84cValSRUeOHNHSpUu1Z88e5c6dWyNHjtT48eMfe9/05MqVS7t27VKPHj2UkJCgFStWKDY2Vj179tSuXbvSJNAfxsXFRRs3btTXX3+tihUr6uDBg1qxYoVu3rypd999V9u2bUuTQH+SGIoVK6ZevXqpePHi+v3337VkyRLt2bNHRYsW1fDhw3Xw4MF0E+iSVLduXe3evVvNmjXTyZMntXr1arm4uKh3797avXs3CXQAAJ4hKtEBwEqoRAfwrD1vlegrDl7O9DOalfHN9DMAAAAA4EGOj14CAAAAPBp14gAAAADsEe1cAAAAAAAAAACwgEp0AAAAWAUtywEAAADYIyrRAQAAAAAAAACwgEp0AAAAWIUDXdEBAAAA2CEq0QEAAAAAAAAAsIBKdAAAAFgFPdEBAAAA2CMq0QEAAAAAAAAAsIBKdAAAAFiFgZ7oAAAAAOwQlegAAAAAAAAAAFhAJToAAACsgp7oAAAAAOwRlegAAAAAAAAAAFhAEh0AAABW4SBDpr8ex9ixY1WpUiW5u7vL29tbTZs21bFjx8zWxMXFqVu3bnrllVfk5uamFi1a6MqVK2Zrzp07pwYNGihbtmzy9vZW//79lZSU9NSfFwAAAIAXA0l0AAAA2KUtW7aoW7duioyM1IYNG5SYmKg6dero7t27pjW9e/fWL7/8oiVLlmjLli26ePGimjdvbppPTk5WgwYNlJCQoB07dmjOnDkKCwvTsGHDbHFLAAAAAGzAYDQajbYOwtriKAwCYAN5359v6xAAvGRuzG1j6xDMrD98LdPPqFsy9xNfe+3aNXl7e2vLli2qVq2aYmNjlTt3bs2fP1/vvvuuJOno0aMqUaKEdu7cqapVq2rt2rVq2LChLl68KB8fH0nS9OnTNXDgQF27dk1OTk5WuS8AAAAAzy8q0QEAAPDCiI+P1+3bt81e8fHxGbo2NjZWkuTl5SVJio6OVmJiomrVqmVaExAQoAIFCmjnzp2SpJ07d6p06dKmBLok1a1bV7dv39ahQ4esdVsAAAAAnmMk0QEAAGAVBkPmv8aOHSsPDw+z19ixYx8ZW0pKinr16qXg4GC99tprkqTLly/LyclJnp6eZmt9fHx0+fJl05oHE+ip86lzAAAAAOyfo60DAAAAADJq8ODB6tOnj9mYs7PzI6/r1q2b/v3vf2vbtm2ZFRoAAAAAO0USHQAAAFZhkCHTz3B2ds5Q0vxB3bt31+rVqxUREaF8+fKZxn19fZWQkKBbt26ZVaNfuXJFvr6+pjW7du0y2+/KlSumOQAAAAD2j3YuAAAAsEtGo1Hdu3fXihUrtGnTJvn7+5vNV6hQQVmzZtXGjRtNY8eOHdO5c+cUFBQkSQoKCtLvv/+uq1evmtZs2LBBOXLkUMmSJZ/NjQAAAACwqeeiEn337t3avHmzrl69qpSUFLO50NBQG0UFAACAx+GQ+YXoj6Vbt26aP3++fv75Z7m7u5t6mHt4eMjV1VUeHh7q1KmT+vTpIy8vL+XIkUM9evRQUFCQqlatKkmqU6eOSpYsqfbt22v8+PG6fPmyhgwZom7duj12RTwAAACAF5PNk+iff/65hgwZouLFi8vHx0cGw3//9vXgnwEAAIDH8e2330qSatSoYTb+ww8/KCQkRJI0YcIEOTg4qEWLFoqPj1fdunX1zTffmNZmyZJFq1evVpcuXRQUFKTs2bOrQ4cOGjVq1LO6DQAAAAA2ZjAajUZbBuDj46MvvvjC9BcZa4hLstpWAJBhed+fb+sQALxkbsxtY+sQzGw6+memn/FWwCuZfgYAAAAAPMjmPdEdHBwUHBxs6zAAAAAAAAAAAEjD5kn03r17a9q0abYOAwAAAE/JYMj8FwAAAAA8azbvid6vXz81aNBAhQsXVsmSJZU1a1az+eXLl9soMgAAAAAAAADAy87mSfSePXtq8+bNqlmzpl555RUeJgoAAPCCMoj/jgMAAABgf2yeRJ8zZ46WLVumBg0a2DoUAAAAAAAAAADM2DyJ7uXlpcKFC9s6DAAAADwlBwrRAQAAANghmz9YdMSIERo+fLju3btn61AAAAAAAAAAADBj80r0yZMn69SpU/Lx8ZGfn1+aB4vu3bvXRpEBAADgcdATHQAAAIA9snkSvWnTprYOAQAAAAAAAACAdNk8iT58+HBbh4CXzKwZ32njht905sxpObu4qFy58urVp5/8/AuZ1ly/dk2hX49X5I4dunvvrvz8/NX5g49Uq05dG0YO4EUxsFlpDWxe2mzs+MVYVR24RpLUoWZhtQjyU1k/L7m7ZpXfh0t0+15imn1ql82rAc1eU8n8nopPTNH2o1fUfuLWZ3IPwJMwUIgOAAAAwA7ZPIkOPGt7du9Sy9ZtVap0aSUnJWvKpFB91LmTlq9ao2zZskmSPv1koO7cvq1JU79Vzpw59euaX9S/by/NX7xMJUqUtPEdAHgRHLlwS83GbTK9T0o2mv7s6uSojQcvaePBSxresly61zeqmF8TO1XW6CUHtPXwFTk6GFQin2cmRw0AAAAAAP6XzZPoycnJmjBhghYvXqxz584pISHBbP7GjRs2igz26tvvZ5m9H/XZONV8M0hHDh9ShYqVJEkH9u3Tp8OGq3SZMpKkDz7qqp9+nKMjhw6RRAeQIUnJRl2NjUt3bvr6Y5Kk4ADvdOezOBg0tn0FDV+4Tz9tOW0aP3bxtvUDBayIQnQAAAAA9sjB1gGMHDlSoaGhatmypWJjY9WnTx81b95cDg4OGjFihK3Dw0vgrzt3JEk5PDxMY2XLl9f6dWsVe+uWUlJStPbXNYpPiFfFSpVtFSaAF0whX3cdmtxUe79urO+6vK5XX8mW4WvL+nkpr1c2paRI4aPr6fCUZlrcr4ZK5PN49MUAAAAAAMCqbJ5EnzdvnmbMmKG+ffvK0dFRrVu31syZMzVs2DBFRkbaOjzYuZSUFI3/4nOVKx+ookWLmca//HqikhKTVC24iiqVL60xI4dpwqSpKlCwoA2jBfCiiD51Xd2/36n/+zJc/cJ2q2Du7Pp1SG25uWTsF8D8vN0kSQObl9bXPx9S66/DdetuglZ98rY8sztlZujAU3EwGDL9BQAAAADPms2T6JcvX1bp0vcfvubm5qbY2FhJUsOGDbVmzZpHXh8fH6/bt2+bveLj4zM1ZtiPz8eM1KkTJzT+qwlm49OmTNKdO7f1/awwzV+0TO07vK8BfXvpxPFjNooUwIvkXwcv6edd53X4/C1t+v2S/vFVuDyyZVXTKgUydH1qnjB01b/1y57zOhBzU91nRMpolJpUztgeAAAAAADAOmyeRM+XL58uXbokSSpcuLB+++03SdLu3bvl7Oz8yOvHjh0rDw8Ps9eXX4zN1JhhHz4fM0oRW8I144c58vH1NY2fP3dOC+f/pJFjPleVqkEqHhCgj7p2V8lSr2nhgnk2jBjAi+r2vUSdvHxH/j7uGVp/5dbfkqSjf/y3B3pCUorOXvtL+R6jLQzwrBmewQsAAAAAnjWbJ9GbNWumjRs3SpJ69OihoUOHqmjRonrvvffUsWPHR14/ePBgxcbGmr36Dxyc2WHjBWY0GvX5mFHatHGDZsyeo3z58pvNx8XdT145GMz/7+HgkEXGFOMzixOA/cju7Ch/bzdTcvxRDpy5obiEZBXN89+ku2MWg/Lnyq4Lf97NrDABAAAAAEA6MtacNRONGzfO9OeWLVuqQIEC2rlzp4oWLapGjRo98npnZ+c0FetxSVYPE3bk89EjtfbX1Zo45Rtlz5Zd169dkyS5ubvLxcVFfv6FVKBAQY0eOUx9+g2Up6enNm36lyJ3bteUb76zcfQAXgSjWpfXun1/6Pz1u8qT01WDmpdWcopRy3aelSR5e7jI28NFhf5TmV4yn6f+ikvUhT/v6dbdBN2JS1LYphMa1LyM/vjzns5fv6seDUpIklZGnbPZfQGPRKk4AAAAADtkMBqNdldaSxIdD1O2VPF0x0eNGasmzZpLks6ejdGk0K+1b1+07t27pwL5C+i99zuqUeOmzzBSvGjyvj/f1iHgOTGzW7CCiueWl5uz/rwTr8jj1zRmyQHFXP1LkjSwWWkNbF46zXXdvt+pBVvPSLpfeT7sH+X0j2A/uTo5KvrUdX3y014d/SP2md4Lnm835raxdQhmIk/dyvQzqhb2zPQzAAAAAOBBz0US/dixY5oyZYqOHDkiSSpRooR69Oih4sXTT3Y+Ckl0ALZAEh3As/a8JdGjTmX+D3mqFPbI9DMAAAAA4EE274m+bNkyvfbaa4qOjlbZsmVVtmxZ7d27V6+99pqWLVtm6/AAAAAAAAAAAC8xm/dEHzBggAYPHqxRo0aZjQ8fPlwDBgxQixYtbBQZAAAAHoeBnugAAAAA7JDNK9EvXbqk9957L814u3btdOnSJRtEBAAAAAAAAADAfTZPoteoUUNbt25NM75t2za9+eabNogIAAAAT8LwDF4AAAAA8KzZvJ1L48aNNXDgQEVHR6tq1aqSpMjISC1ZskQjR47UqlWrzNYCAADgOUWWGwAAAIAdMhiNRqMtA3BwyFgxvMFgUHJycobWxiU9TUQA8GTyvj/f1iEAeMncmNvG1iGY2X0mNtPPqOTvkelnAAAAAMCDbF6JnpKSYusQAAAAYAUGStEBAAAA2CGb9UTfuXOnVq9ebTb2448/yt/fX97e3vrggw8UHx9vo+gAAAAAAAAAALBhEn3UqFE6dOiQ6f3vv/+uTp06qVatWho0aJB++eUXjR071lbhAQAA4DEZDJn/AgAAAIBnzWZJ9P379+vtt982vV+4cKGqVKmiGTNmqE+fPpo8ebIWL15sq/AAAAAAAAAAALBdT/SbN2/Kx8fH9H7Lli165513TO8rVaqk8+fP2yI0AAAAPAEKxQEAAADYI5tVovv4+OjMmTOSpISEBO3du1dVq1Y1zd+5c0dZs2a1VXgAAAAAAAAAANguiV6/fn0NGjRIW7du1eDBg5UtWza9+eabpvmDBw+qcOHCtgoPAAAAj8vwDF4AAAAA8IzZrJ3L6NGj1bx5c1WvXl1ubm6aM2eOnJycTPOzZ89WnTp1bBUeAAAAAAAAAAC2S6LnypVLERERio2NlZubm7JkyWI2v2TJErm5udkoOgAAADwuA6XiAAAAAOyQzZLoqTw8PNId9/LyesaRAAAAAAAAAABgzuZJdAAAANgHA4XoAAAAAOyQzR4sCgAAAAAAAADA845KdAAAAFgFhegAAAAA7BGV6AAAAAAAAAAAWEAlOgAAAKyDUnQAAAAAdohKdAAAAAAAAAAALKASHQAAAFZhoBQdAAAAgB2iEh0AAAAAAAAAAAuoRAcAAIBVGChEBwAAAGCHqEQHAAAAAAAAAMACKtEBAABgFRSiAwAAALBHVKIDAAAAAAAAAGABlegAAACwDkrRAQAAANghKtEBAAAAAAAAALCASnQAAABYhYFSdAAAAAB2iEp0AAAAAAAAAAAsoBIdAAAAVmGgEB0AAACAHaISHQAAAAAAAAAAC6hEBwAAgFVQiA4AAADAHlGJDgAAAAAAAACABVSiAwAAwDooRQcAAABgh6hEBwAAAAAAAADAAirRAQAAYBUGStEBAAAA2CEq0QEAAAAAAAAAsIBKdAAAAFiFgUJ0AAAAAHaISnQAAAAAAAAAACygEh0AAABWQSE6AAAAAHtEJToAAAAAAAAAABZQiQ4AAADroBQdAAAAgB2iEh0AAAAAAAAAAAuoRAcAAIBVGChFBwAAAGCHqEQHAAAAAAAAAMACKtEBAABgFQYK0QEAAADYISrRAQAAAAAAAACwgEp0AAAAWAWF6AAAAADsEZXoAAAAAAAAAABYQCU6AAAArINSdAAAAAB2iEp0AAAAAAAAAAAsIIkOAAAAqzA8g/89joiICDVq1Eh58+aVwWDQypUrzeaNRqOGDRumPHnyyNXVVbVq1dKJEyfM1ty4cUNt27ZVjhw55OnpqU6dOumvv/562o8KAAAAwAuEJDoAAADs0t27d1W2bFlNmzYt3fnx48dr8uTJmj59uqKiopQ9e3bVrVtXcXFxpjVt27bVoUOHtGHDBq1evVoRERH64IMPntUtAAAAAHgOGIxGo9HWQVhbXJKtIwDwMsr7/nxbhwDgJXNjbhtbh2DmzPW4Ry96Sv65XJ7oOoPBoBUrVqhp06aS7leh582bV3379lW/fv0kSbGxsfLx8VFYWJhatWqlI0eOqGTJktq9e7cqVqwoSVq3bp3q16+vCxcuKG/evFa5JwAAAADPNyrRAQAA8NI5c+aMLl++rFq1apnGPDw8VKVKFe3cuVOStHPnTnl6epoS6JJUq1YtOTg4KCoq6pnHDAAAAMA2HG0dAAAAAOzD43UsfzLx8fGKj483G3N2dpazs/Nj7XP58mVJko+Pj9m4j4+Pae7y5cvy9vY2m3d0dJSXl5dpDQAAAAD7RyU6AAAAXhhjx46Vh4eH2Wvs2LG2DgsAAACAHaMSHQAAANbxDErRBw8erD59+piNPW4VuiT5+vpKkq5cuaI8efKYxq9cuaJy5cqZ1ly9etXsuqSkJN24ccN0PQAAAAD7RyU6AAAAXhjOzs7KkSOH2etJkuj+/v7y9fXVxo0bTWO3b99WVFSUgoKCJElBQUG6deuWoqOjTWs2bdqklJQUValS5elvBgAAAMALgUp0AAAAWIXhmXRFz7i//vpLJ0+eNL0/c+aM9u/fLy8vLxUoUEC9evXSmDFjVLRoUfn7+2vo0KHKmzevmjZtKkkqUaKE6tWrp86dO2v69OlKTExU9+7d1apVK+XNm9dGdwUAAADgWSOJDgAAALu0Z88e1axZ0/Q+tQ1Mhw4dFBYWpgEDBuju3bv64IMPdOvWLb3xxhtat26dXFxcTNfMmzdP3bt319tvvy0HBwe1aNFCkydPfub3AgAAAMB2DEaj0WjrIKwtLsnWEQB4GeV9f76tQwDwkrkxt42tQzBz7kZ8pp9RwOvxW7cAAAAAwNOgJzoAAAAAAAAAABbQzgUAAABW8Xx1RAcAAAAA66ASHQAAAAAAAAAAC6hEBwAAgFUYKEUHAAAAYIdIogMAAMBKyKIDAAAAsD+0cwEAAAAAAAAAwAIq0QEAAGAVtHMBAAAAYI+oRAcAAAAAAAAAwAIq0QEAAGAVFKIDAAAAsEdUogMAAAAAAAAAYAGV6AAAALAKeqIDAAAAsEdUogMAAAAAAAAAYAGV6AAAALAKA13RAQAAANghKtEBAAAAAAAAALCASnQAAABYB4XoAAAAAOwQlegAAAAAAAAAAFhAJToAAACsgkJ0AAAAAPaISnQAAAAAAAAAACygEh0AAABWYaAUHQAAAIAdohIdAAAAAAAAAAALqEQHAACAVRjoig4AAADADlGJDgAAAAAAAACABVSiAwAAwDooRAcAAABgh6hEBwAAAAAAAADAAirRAQAAYBUUogMAAACwR1SiAwAAAAAAAABgAZXoAAAAsAoDpegAAAAA7BCV6AAAAAAAAAAAWEAlOgAAAKzCQFd0AAAAAHaISnQAAAAAAAAAACygEh0AAABWQU90AAAAAPaISnQAAAAAAAAAACwgiQ4AAAAAAAAAgAUk0QEAAAAAAAAAsICe6AAAALAKeqIDAAAAsEdUogMAAAAAAAAAYAGV6AAAALAKgyhFBwAAAGB/qEQHAAAAAAAAAMACKtEBAABgFfREBwAAAGCPqEQHAAAAAAAAAMACKtEBAABgFRSiAwAAALBHVKIDAAAAAAAAAGABlegAAACwDkrRAQAAANghKtEBAAAAAAAAALCASnQAAABYhYFSdAAAAAB2iEp0AAAAAAAAAAAsoBIdAAAAVmGgEB0AAACAHaISHQAAAAAAAAAAC6hEBwAAgFVQiA4AAADAHlGJDgAAAAAAAACABVSiAwAAwDooRQcAAABgh6hEBwAAAAAAAADAAirRAQAAYBUGStEBAAAA2CEq0QEAAAAAAAAAsIBKdAAAAFiFgUJ0AAAAAHaISnQAAAAAAAAAACwwGI1Go62DAJ4H8fHxGjt2rAYPHixnZ2dbhwPgJcF3DwAAAAAAzzeS6MB/3L59Wx4eHoqNjVWOHDlsHQ6AlwTfPQAAAAAAPN9o5wIAAAAAAAAAgAUk0QEAAAAAAAAAsIAkOgAAAAAAAAAAFpBEB/7D2dlZw4cP58F+AJ4pvnsAAAAAAHi+8WBRAAAAAAAAAAAsoBIdAAAAAAAAAAALSKIDAAAAAAAAAGABSXS8cJYvXy5PT08NHTpUGzZsULdu3WwdEgAAAAAAAAA7RRIdz4WQkBAZDAaNGzfObHzlypUyGAxmY8uXL9fcuXN18eJFdenSRR06dHjq88+cOaM2bdoob968cnFxUb58+dSkSRMdPXr0qfcGYL+uXbumLl26qECBAnJ2dpavr6/q1q2r7du32zo0AAAAAABgJY62DgBI5eLioi+++EIffvihcubMaXHdTz/9JElq1KiRVc5NTExU7dq1Vbx4cS1fvlx58uTRhQsXtHbtWt26dcsqZwCwTy1atFBCQoLmzJmjQoUK6cqVK9q4caP+/PNPW4cGAAAAAACshEp0PDdq1aolX19fjR071uKaP//8U61bt9arr76qbNmyqXTp0lqwYIHZmvj4ePXs2VPe3t5ycXHRG2+8od27d1vc89ChQzp16pS++eYbVa1aVQULFlRwcLDGjBmjqlWrSpJiYmJkMBi0cOFCvf7663JxcdFrr72mLVu2mPZJTk5Wp06d5O/vL1dXVxUvXlyTJk0yOyskJERNmzbV559/Lh8fH3l6emrUqFFKSkpS//795eXlpXz58umHH354ko8QwDN069Ytbd26VV988YVq1qypggULqnLlyho8eLAaN24sSTIYDPr222/1zjvvyNXVVYUKFdLSpUvN9hk4cKCKFSumbNmyqVChQho6dKgSExNN8yNGjFC5cuU0e/ZsFShQQG5uburatauSk5M1fvx4+fr6ytvbW5999tkzvX8AAAAAAF4WJNHx3MiSJYs+//xzTZkyRRcuXEh3TVxcnCpUqKA1a9bo3//+tz744AO1b99eu3btMq0ZMGCAli1bpjlz5mjv3r0qUqSI6tatqxs3bqS7Z+7cueXg4KClS5cqOTn5oTH2799fffv21b59+xQUFKRGjRqZKk5TUlKUL18+LVmyRIcPH9awYcP0ySefaPHixWZ7bNq0SRcvXlRERIRCQ0M1fPhwNWzYUDlz5lRUVJQ++ugjffjhhxY/AwDPBzc3N7m5uWnlypWKj4+3uG7o0KFq0aKFDhw4oLZt26pVq1Y6cuSIad7d3V1hYWE6fPiwJk2apBkzZmjChAlme5w6dUpr167VunXrtGDBAs2aNUsNGjTQhQsXtGXLFn3xxRcaMmSIoqKiMu1+AQAAAAB4WRmMRqPR1kEAISEhunXrllauXKmgoCCVLFlSs2bN0sqVK9WsWTM97F/Thg0bKiAgQF999ZXu3r2rnDlzKiwsTG3atJF0v12Ln5+fevXqpf79+6e7x7Rp0zRgwABlyZJFFStWVM2aNdW2bVsVKlRI0v1KdH9/f40bN04DBw6UJCUlJcnf3189evTQgAED0t23e/fuunz5sqnyNCQkROHh4Tp9+rQcHO7/DCsgIEDe3t6KiIiQdL+i3cPDQzNnzlSrVq2e4NME8KwsW7ZMnTt31t9//63AwEBVr15drVq1UpkyZSTdr0T/6KOP9O2335quqVq1qgIDA/XNN9+ku+dXX32lhQsXas+ePZLuV6J/+eWXunz5stzd3SVJ9erV07Fjx3Tq1Cmz75KQkBANGjQoM28ZAAAAAICXDpXoeO588cUXmjNnjlmlZqrk5GSNHj1apUuXlpeXl9zc3LR+/XqdO3dO0v1qzcTERAUHB5uuyZo1qypXrpzufqm6deumy5cva968eQoKCtKSJUtUqlQpbdiwwWxdUFCQ6c+Ojo6qWLGi2b7Tpk1ThQoVlDt3brm5uen77783xZaqVKlSpqSXJPn4+Kh06dKm91myZNErr7yiq1evPuqjAmBjLVq00MWLF7Vq1SrVq1dP4eHhCgwMVFhYmGnNg98bqe8f/N5YtGiRgoOD5evrKzc3Nw0ZMiTN94afn58pgS7d/94oWbJkmu8SvjcAAAAAALA+kuh47lSrVk1169bV4MGD08x9+eWXmjRpkgYOHKjNmzdr//79qlu3rhISEp76XHd3dzVq1EifffaZDhw4oDfffFNjxozJ8PULFy5Uv3791KlTJ/3222/av3+/3n///TSxZc2a1ey9wWBIdywlJeXJbwbAM+Pi4qLatWtr6NCh2rFjh0JCQjR8+PAMXbtz5061bdtW9evX1+rVq7Vv3z59+umnfG8AAAAAAPAcIYmO59K4ceP0yy+/aOfOnWbj27dvV5MmTdSuXTuVLVtWhQoV0vHjx03zhQsXlpOTk7Zv324aS0xM1O7du1WyZMkMn28wGBQQEKC7d++ajUdGRpr+nJSUpOjoaJUoUcIU2+uvv66uXbuqfPnyKlKkiE6dOvVY9w3gxVeyZEmz744HvzdS36d+b+zYsUMFCxbUp59+qooVK6po0aI6e/bsM40XAAAAAAA8nKOtAwDSU7p0abVt21aTJ082Gy9atKiWLl2qHTt2KGfOnAoNDdWVK1dMCfLs2bOrS5cu6t+/v7y8vFSgQAGNHz9e9+7dU6dOndI9a//+/Ro+fLjat2+vkiVLysnJSVu2bNHs2bNN/c9TTZs2TUWLFlWJEiU0YcIE3bx5Ux07djTF9uOPP2r9+vXy9/fX3LlztXv3bvn7+2fCJwTA1v7880/93//9nzp27KgyZcrI3d1de/bs0fjx49WkSRPTuiVLlqhixYp64403NG/ePO3atUuzZs2SdP9749y5c1q4cKEqVaqkNWvWaMWKFba6JQAAAAAAkA6S6HhujRo1SosWLTIbGzJkiE6fPq26desqW7Zs+uCDD9S0aVPFxsaa1owbN04pKSlq37697ty5o4oVK2r9+vXKmTNnuufky5dPfn5+GjlypGJiYmQwGEzve/fubbZ23LhxGjdunPbv368iRYpo1apVypUrlyTpww8/1L59+9SyZUsZDAa1bt1aXbt21dq1a638yQB4Hri5ualKlSqaMGGC6XkM+fPnV+fOnfXJJ5+Y1o0cOVILFy5U165dlSdPHi1YsMD0g7/GjRurd+/e6t69u+Lj49WgQQMNHTpUI0aMsNFdAQAAAACA/2UwGo1GWwcBPO9iYmLk7++vffv2qVy5crYOB8ALwmAwaMWKFWratKmtQwEAAAAAAE+InugAAAAAAAAAAFhAEh0AAAAAAAAAAAto5wIAAAAAAAAAgAVUogMAAAAAAAAAYAFJdAAAAAAAAAAALCCJDgAAAAAAAACABSTRAQAAAAAAAACwgCQ6AAAAAAAAAAAWkEQHgEwQEhKipk2bmt7XqFFDvXr1slk8AAAAAAAAeDIk0QG8VEJCQmQwGGQwGOTk5KQiRYpo1KhRSkpKytRzly9frtGjR5ve+/n5aeLEiZl6JgAAAAAAAJ6eo60DAIBnrV69evrhhx8UHx+vX3/9Vd26dVPWrFk1ePBgs3UJCQlycnKyypleXl5W2QcAAAAAAADPFpXoAF46zs7O8vX1VcGCBdWlSxfVqlVLq1atMrVg+eyzz5Q3b14VL15cknT+/Hn94x//kKenp7y8vNSkSRPFxMSY9ktOTlafPn3k6empV155RQMGDJDRaDQ788F2LjVq1NDZs2fVu3dvU1V8qmXLlqlUqVJydnaWn5+fvv7660z/PAAAAAAAAGAZSXQALz1XV1clJCRIkjZu3Khjx45pw4YNWr16tRITE1W3bl25u7tr69at2r59u9zc3FSvXj3TNV9//bXCwsI0e/Zsbdu2TTdu3NCKFSssnrd8+XLly5dPo0aN0qVLl3Tp0iVJUnR0tP7xj3+oVatW+v333zVixAgNHTpUYWFhmf4ZAAAAAAAAIH20cwHw0jIajdq4caPWr1+vHj166Nq1a8qePbtmzpxpauPy008/KSUlRTNnzjRVjP/www/y9PRUeHi46tSpo4kTJ2rw4MFq3ry5JGn69Olav369xXO9vLyUJUsWubu7y9fX1zQeGhqqt99+W0OHDpUkFStWTIcPH9aXX36pkJCQTPoUAAAAAAAA8DBUogN46axevVpubm5ycXHRO++8o5YtW2rEiBGSpNKlS5v1QT9w4IBOnjwpd3d3ubm5yc3NTV5eXoqLi9OpU6cUGxurS5cuqUqVKqZrHB0dVbFixceO68iRIwoODjYbCw4O1okTJ5ScnPxkNwsAAAAAAICnQiU6gJdOzZo19e2338rJyUl58+aVo+N/vwqzZ89utvavv/5ShQoVNG/evDT75M6dO9NjBQAAAAAAgG2RRAfw0smePbuKFCmSobWBgYFatGiRvL29lSNHjnTX5MmTR1FRUapWrZokKSkpSdHR0QoMDLS4r5OTU5rq8hIlSmj79u1mY9u3b1exYsWUJUuWDMULAAAAAAAA66KdCwA8RNu2bZUrVy41adJEW7du1ZkzZxQeHq6ePXvqwoULkqSPP/5Y48aN08qVK3X06FF17dpVt27deui+fn5+ioiI0B9//KHr169Lkvr27auNGzdq9OjROn78uObMmaOpU6eqX79+mX2bAAAAAAAAsIAkOgA8RLZs2RQREaECBQqoefPmKlGihDp16qS4uDhTZXrfvn3Vvn17dejQQUFBQXJ3d1ezZs0euu+oUaMUExOjwoULm9rCBAYGavHixVq4cKFee+01DRs2TKNGjeKhogAAAAAAADZkMBqNRlsHAQAAAAAAAADA84hKdAAAAAAAAAAALCCJDgAAAAAAAACABSTRAQAAAAAAAACwgCQ6AAAAAAAAAAAWkEQHAAAAAAAAAMACkugAAAAAAAAAAFhAEh0AAAAAAAAAAAtIogMAAAAAAAAAYAFJdAAAAAAAAAAALCCJDgAAAAAAAACABSTRAQAAAAAAAACwgCQ6AAAAAAAAAAAW/D9G/eUCANkcYQAAAABJRU5ErkJggg==\n",
         "text/plain": "<Figure size 1500x600 with 3 Axes>"
        },
        "metadata": {},
        "output_type": "display_data"
       }
      ]
     }
    },
    "3cc682131eab4cb6a13ef1db8c7df6c0": {
     "model_module": "@jupyter-widgets/controls",
     "model_module_version": "1.5.0",
     "model_name": "SliderStyleModel",
     "state": {
      "_model_module": "@jupyter-widgets/controls",
      "_model_module_version": "1.5.0",
      "_model_name": "SliderStyleModel",
      "_view_count": null,
      "_view_module": "@jupyter-widgets/base",
      "_view_module_version": "1.2.0",
      "_view_name": "StyleView",
      "description_width": "",
      "handle_color": null
     }
    },
    "48d4a6cd766141cd8bd8b76d10d39a58": {
     "model_module": "@jupyter-widgets/base",
     "model_module_version": "1.2.0",
     "model_name": "LayoutModel",
     "state": {
      "_model_module": "@jupyter-widgets/base",
      "_model_module_version": "1.2.0",
      "_model_name": "LayoutModel",
      "_view_count": null,
      "_view_module": "@jupyter-widgets/base",
      "_view_module_version": "1.2.0",
      "_view_name": "LayoutView",
      "align_content": null,
      "align_items": null,
      "align_self": null,
      "border": null,
      "bottom": null,
      "display": null,
      "flex": null,
      "flex_flow": null,
      "grid_area": null,
      "grid_auto_columns": null,
      "grid_auto_flow": null,
      "grid_auto_rows": null,
      "grid_column": null,
      "grid_gap": null,
      "grid_row": null,
      "grid_template_areas": null,
      "grid_template_columns": null,
      "grid_template_rows": null,
      "height": null,
      "justify_content": null,
      "justify_items": null,
      "left": null,
      "margin": null,
      "max_height": null,
      "max_width": null,
      "min_height": null,
      "min_width": null,
      "object_fit": null,
      "object_position": null,
      "order": null,
      "overflow": null,
      "overflow_x": null,
      "overflow_y": null,
      "padding": null,
      "right": null,
      "top": null,
      "visibility": null,
      "width": null
     }
    },
    "4bcd48aefdcd426cb86e1ab847bacaaf": {
     "model_module": "@jupyter-widgets/controls",
     "model_module_version": "1.5.0",
     "model_name": "DropdownModel",
     "state": {
      "_dom_classes": [],
      "_model_module": "@jupyter-widgets/controls",
      "_model_module_version": "1.5.0",
      "_model_name": "DropdownModel",
      "_options_labels": [
       "Matriz de Confusão",
       "Acurácia",
       "Precisão",
       "Recall",
       "F1-Score"
      ],
      "_view_count": null,
      "_view_module": "@jupyter-widgets/controls",
      "_view_module_version": "1.5.0",
      "_view_name": "DropdownView",
      "description": "Métrica:",
      "description_tooltip": null,
      "disabled": false,
      "index": 2,
      "layout": "IPY_MODEL_1ddbe25a399749278e8cb243da0b4721",
      "style": "IPY_MODEL_9b7975f25e974b9eaeb3a8b9fa9c384a"
     }
    },
    "539d4600e8c24b7fbf104d086cd72d79": {
     "model_module": "@jupyter-widgets/base",
     "model_module_version": "1.2.0",
     "model_name": "LayoutModel",
     "state": {
      "_model_module": "@jupyter-widgets/base",
      "_model_module_version": "1.2.0",
      "_model_name": "LayoutModel",
      "_view_count": null,
      "_view_module": "@jupyter-widgets/base",
      "_view_module_version": "1.2.0",
      "_view_name": "LayoutView",
      "align_content": null,
      "align_items": null,
      "align_self": null,
      "border": null,
      "bottom": null,
      "display": null,
      "flex": null,
      "flex_flow": null,
      "grid_area": null,
      "grid_auto_columns": null,
      "grid_auto_flow": null,
      "grid_auto_rows": null,
      "grid_column": null,
      "grid_gap": null,
      "grid_row": null,
      "grid_template_areas": null,
      "grid_template_columns": null,
      "grid_template_rows": null,
      "height": null,
      "justify_content": null,
      "justify_items": null,
      "left": null,
      "margin": null,
      "max_height": null,
      "max_width": null,
      "min_height": null,
      "min_width": null,
      "object_fit": null,
      "object_position": null,
      "order": null,
      "overflow": null,
      "overflow_x": null,
      "overflow_y": null,
      "padding": null,
      "right": null,
      "top": null,
      "visibility": null,
      "width": null
     }
    },
    "58bf6560b5aa4730a7ca1eea0563d50b": {
     "model_module": "@jupyter-widgets/output",
     "model_module_version": "1.0.0",
     "model_name": "OutputModel",
     "state": {
      "_dom_classes": [],
      "_model_module": "@jupyter-widgets/output",
      "_model_module_version": "1.0.0",
      "_model_name": "OutputModel",
      "_view_count": null,
      "_view_module": "@jupyter-widgets/output",
      "_view_module_version": "1.0.0",
      "_view_name": "OutputView",
      "layout": "IPY_MODEL_173075c2cc9446e5a7930774f2c8d1dc",
      "msg_id": "",
      "outputs": [
       {
        "data": {
         "image/png": "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\n",
         "text/plain": "<Figure size 1400x500 with 2 Axes>"
        },
        "metadata": {},
        "output_type": "display_data"
       }
      ]
     }
    },
    "5a3b539d90be44a6a0a381f5988cba73": {
     "model_module": "@jupyter-widgets/controls",
     "model_module_version": "1.5.0",
     "model_name": "DescriptionStyleModel",
     "state": {
      "_model_module": "@jupyter-widgets/controls",
      "_model_module_version": "1.5.0",
      "_model_name": "DescriptionStyleModel",
      "_view_count": null,
      "_view_module": "@jupyter-widgets/base",
      "_view_module_version": "1.2.0",
      "_view_name": "StyleView",
      "description_width": "initial"
     }
    },
    "6543fcd018dc4443ac4de04917db3ceb": {
     "model_module": "@jupyter-widgets/base",
     "model_module_version": "1.2.0",
     "model_name": "LayoutModel",
     "state": {
      "_model_module": "@jupyter-widgets/base",
      "_model_module_version": "1.2.0",
      "_model_name": "LayoutModel",
      "_view_count": null,
      "_view_module": "@jupyter-widgets/base",
      "_view_module_version": "1.2.0",
      "_view_name": "LayoutView",
      "align_content": null,
      "align_items": null,
      "align_self": null,
      "border": null,
      "bottom": null,
      "display": null,
      "flex": null,
      "flex_flow": null,
      "grid_area": null,
      "grid_auto_columns": null,
      "grid_auto_flow": null,
      "grid_auto_rows": null,
      "grid_column": null,
      "grid_gap": null,
      "grid_row": null,
      "grid_template_areas": null,
      "grid_template_columns": null,
      "grid_template_rows": null,
      "height": null,
      "justify_content": null,
      "justify_items": null,
      "left": null,
      "margin": null,
      "max_height": null,
      "max_width": null,
      "min_height": null,
      "min_width": null,
      "object_fit": null,
      "object_position": null,
      "order": null,
      "overflow": null,
      "overflow_x": null,
      "overflow_y": null,
      "padding": null,
      "right": null,
      "top": null,
      "visibility": null,
      "width": null
     }
    },
    "6b967faef92f47ba95d1ae5f4dabe067": {
     "model_module": "@jupyter-widgets/base",
     "model_module_version": "1.2.0",
     "model_name": "LayoutModel",
     "state": {
      "_model_module": "@jupyter-widgets/base",
      "_model_module_version": "1.2.0",
      "_model_name": "LayoutModel",
      "_view_count": null,
      "_view_module": "@jupyter-widgets/base",
      "_view_module_version": "1.2.0",
      "_view_name": "LayoutView",
      "align_content": null,
      "align_items": null,
      "align_self": null,
      "border": null,
      "bottom": null,
      "display": null,
      "flex": null,
      "flex_flow": null,
      "grid_area": null,
      "grid_auto_columns": null,
      "grid_auto_flow": null,
      "grid_auto_rows": null,
      "grid_column": null,
      "grid_gap": null,
      "grid_row": null,
      "grid_template_areas": null,
      "grid_template_columns": null,
      "grid_template_rows": null,
      "height": null,
      "justify_content": null,
      "justify_items": null,
      "left": null,
      "margin": null,
      "max_height": null,
      "max_width": null,
      "min_height": null,
      "min_width": null,
      "object_fit": null,
      "object_position": null,
      "order": null,
      "overflow": null,
      "overflow_x": null,
      "overflow_y": null,
      "padding": null,
      "right": null,
      "top": null,
      "visibility": null,
      "width": null
     }
    },
    "6c3cd6cd7f7c4701a867f923639fdc3f": {
     "model_module": "@jupyter-widgets/controls",
     "model_module_version": "1.5.0",
     "model_name": "ButtonModel",
     "state": {
      "_dom_classes": [],
      "_model_module": "@jupyter-widgets/controls",
      "_model_module_version": "1.5.0",
      "_model_name": "ButtonModel",
      "_view_count": null,
      "_view_module": "@jupyter-widgets/controls",
      "_view_module_version": "1.5.0",
      "_view_name": "ButtonView",
      "button_style": "",
      "description": "Treinar e Avaliar",
      "disabled": false,
      "icon": "",
      "layout": "IPY_MODEL_2796184b17364f9e86bf8347ed8cdda3",
      "style": "IPY_MODEL_9386c442f6ad4c469412654de75008c0",
      "tooltip": ""
     }
    },
    "7944201e9a5c4659a97efebd4094e029": {
     "model_module": "@jupyter-widgets/controls",
     "model_module_version": "1.5.0",
     "model_name": "DropdownModel",
     "state": {
      "_dom_classes": [],
      "_model_module": "@jupyter-widgets/controls",
      "_model_module_version": "1.5.0",
      "_model_name": "DropdownModel",
      "_options_labels": [
       "Nenhuma",
       "Min-Max",
       "Z-Score",
       "Decimal Scaling",
       "Log Transformation",
       "Robust Scaler"
      ],
      "_view_count": null,
      "_view_module": "@jupyter-widgets/controls",
      "_view_module_version": "1.5.0",
      "_view_name": "DropdownView",
      "description": "Normalização:",
      "description_tooltip": null,
      "disabled": false,
      "index": 5,
      "layout": "IPY_MODEL_d0ff6fc2ebce44e6b44a41f21bfd7f99",
      "style": "IPY_MODEL_0cbda42611dc49f6ad4f1fda83017e3f"
     }
    },
    "7aefeac58d6a4d4e917b032828636087": {
     "model_module": "@jupyter-widgets/base",
     "model_module_version": "1.2.0",
     "model_name": "LayoutModel",
     "state": {
      "_model_module": "@jupyter-widgets/base",
      "_model_module_version": "1.2.0",
      "_model_name": "LayoutModel",
      "_view_count": null,
      "_view_module": "@jupyter-widgets/base",
      "_view_module_version": "1.2.0",
      "_view_name": "LayoutView",
      "align_content": null,
      "align_items": null,
      "align_self": null,
      "border": null,
      "bottom": null,
      "display": null,
      "flex": null,
      "flex_flow": null,
      "grid_area": null,
      "grid_auto_columns": null,
      "grid_auto_flow": null,
      "grid_auto_rows": null,
      "grid_column": null,
      "grid_gap": null,
      "grid_row": null,
      "grid_template_areas": null,
      "grid_template_columns": null,
      "grid_template_rows": null,
      "height": null,
      "justify_content": null,
      "justify_items": null,
      "left": null,
      "margin": null,
      "max_height": null,
      "max_width": null,
      "min_height": null,
      "min_width": null,
      "object_fit": null,
      "object_position": null,
      "order": null,
      "overflow": null,
      "overflow_x": null,
      "overflow_y": null,
      "padding": null,
      "right": null,
      "top": null,
      "visibility": null,
      "width": null
     }
    },
    "7f4c38a971db4086a0f618378a22cf80": {
     "model_module": "@jupyter-widgets/base",
     "model_module_version": "1.2.0",
     "model_name": "LayoutModel",
     "state": {
      "_model_module": "@jupyter-widgets/base",
      "_model_module_version": "1.2.0",
      "_model_name": "LayoutModel",
      "_view_count": null,
      "_view_module": "@jupyter-widgets/base",
      "_view_module_version": "1.2.0",
      "_view_name": "LayoutView",
      "align_content": null,
      "align_items": null,
      "align_self": null,
      "border": null,
      "bottom": null,
      "display": null,
      "flex": null,
      "flex_flow": null,
      "grid_area": null,
      "grid_auto_columns": null,
      "grid_auto_flow": null,
      "grid_auto_rows": null,
      "grid_column": null,
      "grid_gap": null,
      "grid_row": null,
      "grid_template_areas": null,
      "grid_template_columns": null,
      "grid_template_rows": null,
      "height": null,
      "justify_content": null,
      "justify_items": null,
      "left": null,
      "margin": null,
      "max_height": null,
      "max_width": null,
      "min_height": null,
      "min_width": null,
      "object_fit": null,
      "object_position": null,
      "order": null,
      "overflow": null,
      "overflow_x": null,
      "overflow_y": null,
      "padding": null,
      "right": null,
      "top": null,
      "visibility": null,
      "width": null
     }
    },
    "859dd22d7f684db1b585afca82024a84": {
     "model_module": "@jupyter-widgets/base",
     "model_module_version": "1.2.0",
     "model_name": "LayoutModel",
     "state": {
      "_model_module": "@jupyter-widgets/base",
      "_model_module_version": "1.2.0",
      "_model_name": "LayoutModel",
      "_view_count": null,
      "_view_module": "@jupyter-widgets/base",
      "_view_module_version": "1.2.0",
      "_view_name": "LayoutView",
      "align_content": null,
      "align_items": null,
      "align_self": null,
      "border": null,
      "bottom": null,
      "display": null,
      "flex": null,
      "flex_flow": null,
      "grid_area": null,
      "grid_auto_columns": null,
      "grid_auto_flow": null,
      "grid_auto_rows": null,
      "grid_column": null,
      "grid_gap": null,
      "grid_row": null,
      "grid_template_areas": null,
      "grid_template_columns": null,
      "grid_template_rows": null,
      "height": null,
      "justify_content": null,
      "justify_items": null,
      "left": null,
      "margin": null,
      "max_height": null,
      "max_width": null,
      "min_height": null,
      "min_width": null,
      "object_fit": null,
      "object_position": null,
      "order": null,
      "overflow": null,
      "overflow_x": null,
      "overflow_y": null,
      "padding": null,
      "right": null,
      "top": null,
      "visibility": null,
      "width": null
     }
    },
    "8e09fc90f74b4f5a9b213f48406cc1aa": {
     "model_module": "@jupyter-widgets/controls",
     "model_module_version": "1.5.0",
     "model_name": "DropdownModel",
     "state": {
      "_dom_classes": [],
      "_model_module": "@jupyter-widgets/controls",
      "_model_module_version": "1.5.0",
      "_model_name": "DropdownModel",
      "_options_labels": [
       "Histograma",
       "Boxplot"
      ],
      "_view_count": null,
      "_view_module": "@jupyter-widgets/controls",
      "_view_module_version": "1.5.0",
      "_view_name": "DropdownView",
      "description": "Gráfico:",
      "description_tooltip": null,
      "disabled": false,
      "index": 0,
      "layout": "IPY_MODEL_0bea4ab975db4c32a40d82cbb8ca569a",
      "style": "IPY_MODEL_108271b9123742579a1f55f6ce3edc23"
     }
    },
    "909762689ee04593bb98aea66064f66c": {
     "model_module": "@jupyter-widgets/controls",
     "model_module_version": "1.5.0",
     "model_name": "DropdownModel",
     "state": {
      "_dom_classes": [],
      "_model_module": "@jupyter-widgets/controls",
      "_model_module_version": "1.5.0",
      "_model_name": "DropdownModel",
      "_options_labels": [
       "Min-Max",
       "Z-Score"
      ],
      "_view_count": null,
      "_view_module": "@jupyter-widgets/controls",
      "_view_module_version": "1.5.0",
      "_view_name": "DropdownView",
      "description": "Normalização:",
      "description_tooltip": null,
      "disabled": false,
      "index": 1,
      "layout": "IPY_MODEL_539d4600e8c24b7fbf104d086cd72d79",
      "style": "IPY_MODEL_bb2107133324415895c208ed960bf95b"
     }
    },
    "92ec5a3f88f14efdba41055db150577d": {
     "model_module": "@jupyter-widgets/controls",
     "model_module_version": "1.5.0",
     "model_name": "ButtonStyleModel",
     "state": {
      "_model_module": "@jupyter-widgets/controls",
      "_model_module_version": "1.5.0",
      "_model_name": "ButtonStyleModel",
      "_view_count": null,
      "_view_module": "@jupyter-widgets/base",
      "_view_module_version": "1.2.0",
      "_view_name": "StyleView",
      "button_color": null,
      "font_weight": ""
     }
    },
    "9386c442f6ad4c469412654de75008c0": {
     "model_module": "@jupyter-widgets/controls",
     "model_module_version": "1.5.0",
     "model_name": "ButtonStyleModel",
     "state": {
      "_model_module": "@jupyter-widgets/controls",
      "_model_module_version": "1.5.0",
      "_model_name": "ButtonStyleModel",
      "_view_count": null,
      "_view_module": "@jupyter-widgets/base",
      "_view_module_version": "1.2.0",
      "_view_name": "StyleView",
      "button_color": null,
      "font_weight": ""
     }
    },
    "9400ef3296b945f1a7655b39a598efbc": {
     "model_module": "@jupyter-widgets/controls",
     "model_module_version": "1.5.0",
     "model_name": "DropdownModel",
     "state": {
      "_dom_classes": [],
      "_model_module": "@jupyter-widgets/controls",
      "_model_module_version": "1.5.0",
      "_model_name": "DropdownModel",
      "_options_labels": [
       "Naive Bayes",
       "KNN",
       "Regressão Logística"
      ],
      "_view_count": null,
      "_view_module": "@jupyter-widgets/controls",
      "_view_module_version": "1.5.0",
      "_view_name": "DropdownView",
      "description": "Classificador:",
      "description_tooltip": null,
      "disabled": false,
      "index": 0,
      "layout": "IPY_MODEL_b348e9eaadd4498a99b64c4e69ed7dd0",
      "style": "IPY_MODEL_c501e3d1bbfd4605b566550e002fbcfd"
     }
    },
    "9b7975f25e974b9eaeb3a8b9fa9c384a": {
     "model_module": "@jupyter-widgets/controls",
     "model_module_version": "1.5.0",
     "model_name": "DescriptionStyleModel",
     "state": {
      "_model_module": "@jupyter-widgets/controls",
      "_model_module_version": "1.5.0",
      "_model_name": "DescriptionStyleModel",
      "_view_count": null,
      "_view_module": "@jupyter-widgets/base",
      "_view_module_version": "1.2.0",
      "_view_name": "StyleView",
      "description_width": ""
     }
    },
    "9c7b74d0a5d944a6b657e8f9e03cc95a": {
     "model_module": "@jupyter-widgets/controls",
     "model_module_version": "1.5.0",
     "model_name": "HBoxModel",
     "state": {
      "_dom_classes": [],
      "_model_module": "@jupyter-widgets/controls",
      "_model_module_version": "1.5.0",
      "_model_name": "HBoxModel",
      "_view_count": null,
      "_view_module": "@jupyter-widgets/controls",
      "_view_module_version": "1.5.0",
      "_view_name": "HBoxView",
      "box_style": "",
      "children": [
       "IPY_MODEL_ff5eb45c46444b129ecab1081df65a27",
       "IPY_MODEL_7944201e9a5c4659a97efebd4094e029",
       "IPY_MODEL_6c3cd6cd7f7c4701a867f923639fdc3f"
      ],
      "layout": "IPY_MODEL_48d4a6cd766141cd8bd8b76d10d39a58"
     }
    },
    "a2440eae805e4d4098114d53d8c57f19": {
     "model_module": "@jupyter-widgets/base",
     "model_module_version": "1.2.0",
     "model_name": "LayoutModel",
     "state": {
      "_model_module": "@jupyter-widgets/base",
      "_model_module_version": "1.2.0",
      "_model_name": "LayoutModel",
      "_view_count": null,
      "_view_module": "@jupyter-widgets/base",
      "_view_module_version": "1.2.0",
      "_view_name": "LayoutView",
      "align_content": null,
      "align_items": null,
      "align_self": null,
      "border": null,
      "bottom": null,
      "display": null,
      "flex": null,
      "flex_flow": null,
      "grid_area": null,
      "grid_auto_columns": null,
      "grid_auto_flow": null,
      "grid_auto_rows": null,
      "grid_column": null,
      "grid_gap": null,
      "grid_row": null,
      "grid_template_areas": null,
      "grid_template_columns": null,
      "grid_template_rows": null,
      "height": null,
      "justify_content": null,
      "justify_items": null,
      "left": null,
      "margin": null,
      "max_height": null,
      "max_width": null,
      "min_height": null,
      "min_width": null,
      "object_fit": null,
      "object_position": null,
      "order": null,
      "overflow": null,
      "overflow_x": null,
      "overflow_y": null,
      "padding": null,
      "right": null,
      "top": null,
      "visibility": null,
      "width": null
     }
    },
    "a2a39f69e1d24ed39d3124729017dce7": {
     "model_module": "@jupyter-widgets/base",
     "model_module_version": "1.2.0",
     "model_name": "LayoutModel",
     "state": {
      "_model_module": "@jupyter-widgets/base",
      "_model_module_version": "1.2.0",
      "_model_name": "LayoutModel",
      "_view_count": null,
      "_view_module": "@jupyter-widgets/base",
      "_view_module_version": "1.2.0",
      "_view_name": "LayoutView",
      "align_content": null,
      "align_items": null,
      "align_self": null,
      "border": null,
      "bottom": null,
      "display": null,
      "flex": null,
      "flex_flow": null,
      "grid_area": null,
      "grid_auto_columns": null,
      "grid_auto_flow": null,
      "grid_auto_rows": null,
      "grid_column": null,
      "grid_gap": null,
      "grid_row": null,
      "grid_template_areas": null,
      "grid_template_columns": null,
      "grid_template_rows": null,
      "height": null,
      "justify_content": null,
      "justify_items": null,
      "left": null,
      "margin": null,
      "max_height": null,
      "max_width": null,
      "min_height": null,
      "min_width": null,
      "object_fit": null,
      "object_position": null,
      "order": null,
      "overflow": null,
      "overflow_x": null,
      "overflow_y": null,
      "padding": null,
      "right": null,
      "top": null,
      "visibility": null,
      "width": null
     }
    },
    "a47a7722beec4bfb81ce39365d9b1e20": {
     "model_module": "@jupyter-widgets/base",
     "model_module_version": "1.2.0",
     "model_name": "LayoutModel",
     "state": {
      "_model_module": "@jupyter-widgets/base",
      "_model_module_version": "1.2.0",
      "_model_name": "LayoutModel",
      "_view_count": null,
      "_view_module": "@jupyter-widgets/base",
      "_view_module_version": "1.2.0",
      "_view_name": "LayoutView",
      "align_content": null,
      "align_items": null,
      "align_self": null,
      "border": null,
      "bottom": null,
      "display": null,
      "flex": null,
      "flex_flow": null,
      "grid_area": null,
      "grid_auto_columns": null,
      "grid_auto_flow": null,
      "grid_auto_rows": null,
      "grid_column": null,
      "grid_gap": null,
      "grid_row": null,
      "grid_template_areas": null,
      "grid_template_columns": null,
      "grid_template_rows": null,
      "height": null,
      "justify_content": null,
      "justify_items": null,
      "left": null,
      "margin": null,
      "max_height": null,
      "max_width": null,
      "min_height": null,
      "min_width": null,
      "object_fit": null,
      "object_position": null,
      "order": null,
      "overflow": null,
      "overflow_x": null,
      "overflow_y": null,
      "padding": null,
      "right": null,
      "top": null,
      "visibility": null,
      "width": null
     }
    },
    "a700bbe15e12417684520be8e478d2b3": {
     "model_module": "@jupyter-widgets/controls",
     "model_module_version": "1.5.0",
     "model_name": "FloatSliderModel",
     "state": {
      "_dom_classes": [],
      "_model_module": "@jupyter-widgets/controls",
      "_model_module_version": "1.5.0",
      "_model_name": "FloatSliderModel",
      "_view_count": null,
      "_view_module": "@jupyter-widgets/controls",
      "_view_module_version": "1.5.0",
      "_view_name": "FloatSliderView",
      "continuous_update": true,
      "description": "Falsos Positivos (%)",
      "description_tooltip": null,
      "disabled": false,
      "layout": "IPY_MODEL_a47a7722beec4bfb81ce39365d9b1e20",
      "max": 0.5,
      "min": 0,
      "orientation": "horizontal",
      "readout": true,
      "readout_format": ".2f",
      "step": 0.05,
      "style": "IPY_MODEL_3cc682131eab4cb6a13ef1db8c7df6c0",
      "value": 0
     }
    },
    "a855e0b9824045799e4a7c369df3cb04": {
     "model_module": "@jupyter-widgets/controls",
     "model_module_version": "1.5.0",
     "model_name": "ButtonModel",
     "state": {
      "_dom_classes": [],
      "_model_module": "@jupyter-widgets/controls",
      "_model_module_version": "1.5.0",
      "_model_name": "ButtonModel",
      "_view_count": null,
      "_view_module": "@jupyter-widgets/controls",
      "_view_module_version": "1.5.0",
      "_view_name": "ButtonView",
      "button_style": "",
      "description": "Plotar Gráficos",
      "disabled": false,
      "icon": "",
      "layout": "IPY_MODEL_7aefeac58d6a4d4e917b032828636087",
      "style": "IPY_MODEL_92ec5a3f88f14efdba41055db150577d",
      "tooltip": ""
     }
    },
    "a9c5c38b43204f7c9410c527178066b9": {
     "model_module": "@jupyter-widgets/controls",
     "model_module_version": "1.5.0",
     "model_name": "DropdownModel",
     "state": {
      "_dom_classes": [],
      "_model_module": "@jupyter-widgets/controls",
      "_model_module_version": "1.5.0",
      "_model_name": "DropdownModel",
      "_options_labels": [
       "Idade (Baixa dispersão)",
       "Idade (Alta dispersão)",
       "Altura (Baixa dispersão)",
       "Altura (Alta dispersão)",
       "Peso (Baixa dispersão)",
       "Peso (Alta dispersão)"
      ],
      "_view_count": null,
      "_view_module": "@jupyter-widgets/controls",
      "_view_module_version": "1.5.0",
      "_view_name": "DropdownView",
      "description": "Dados:",
      "description_tooltip": null,
      "disabled": false,
      "index": 1,
      "layout": "IPY_MODEL_09d69c45f83c473b9f28227b727613dd",
      "style": "IPY_MODEL_d0156310d4cc4d04b9838579ec723e1a"
     }
    },
    "af2f40bb25a34dc6ac00c578cf2ce9a0": {
     "model_module": "@jupyter-widgets/controls",
     "model_module_version": "1.5.0",
     "model_name": "VBoxModel",
     "state": {
      "_dom_classes": [
       "widget-interact"
      ],
      "_model_module": "@jupyter-widgets/controls",
      "_model_module_version": "1.5.0",
      "_model_name": "VBoxModel",
      "_view_count": null,
      "_view_module": "@jupyter-widgets/controls",
      "_view_module_version": "1.5.0",
      "_view_name": "VBoxView",
      "box_style": "",
      "children": [
       "IPY_MODEL_0de81fd8c33c4f5a97c42bf5bd0eea66",
       "IPY_MODEL_b0e04c7b0ca24cfe8609b29d43596553"
      ],
      "layout": "IPY_MODEL_859dd22d7f684db1b585afca82024a84"
     }
    },
    "afacd9ea9de0428ca3941305fe4750af": {
     "model_module": "@jupyter-widgets/base",
     "model_module_version": "1.2.0",
     "model_name": "LayoutModel",
     "state": {
      "_model_module": "@jupyter-widgets/base",
      "_model_module_version": "1.2.0",
      "_model_name": "LayoutModel",
      "_view_count": null,
      "_view_module": "@jupyter-widgets/base",
      "_view_module_version": "1.2.0",
      "_view_name": "LayoutView",
      "align_content": null,
      "align_items": null,
      "align_self": null,
      "border": null,
      "bottom": null,
      "display": null,
      "flex": null,
      "flex_flow": null,
      "grid_area": null,
      "grid_auto_columns": null,
      "grid_auto_flow": null,
      "grid_auto_rows": null,
      "grid_column": null,
      "grid_gap": null,
      "grid_row": null,
      "grid_template_areas": null,
      "grid_template_columns": null,
      "grid_template_rows": null,
      "height": null,
      "justify_content": null,
      "justify_items": null,
      "left": null,
      "margin": null,
      "max_height": null,
      "max_width": null,
      "min_height": null,
      "min_width": null,
      "object_fit": null,
      "object_position": null,
      "order": null,
      "overflow": null,
      "overflow_x": null,
      "overflow_y": null,
      "padding": null,
      "right": null,
      "top": null,
      "visibility": null,
      "width": null
     }
    },
    "b0e04c7b0ca24cfe8609b29d43596553": {
     "model_module": "@jupyter-widgets/output",
     "model_module_version": "1.0.0",
     "model_name": "OutputModel",
     "state": {
      "_dom_classes": [],
      "_model_module": "@jupyter-widgets/output",
      "_model_module_version": "1.0.0",
      "_model_name": "OutputModel",
      "_view_count": null,
      "_view_module": "@jupyter-widgets/output",
      "_view_module_version": "1.0.0",
      "_view_name": "OutputView",
      "layout": "IPY_MODEL_c01e9606df884d109e21ce8127b02d63",
      "msg_id": "",
      "outputs": [
       {
        "data": {
         "image/png": "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\n",
         "text/plain": "<Figure size 700x500 with 1 Axes>"
        },
        "metadata": {},
        "output_type": "display_data"
       }
      ]
     }
    },
    "b348e9eaadd4498a99b64c4e69ed7dd0": {
     "model_module": "@jupyter-widgets/base",
     "model_module_version": "1.2.0",
     "model_name": "LayoutModel",
     "state": {
      "_model_module": "@jupyter-widgets/base",
      "_model_module_version": "1.2.0",
      "_model_name": "LayoutModel",
      "_view_count": null,
      "_view_module": "@jupyter-widgets/base",
      "_view_module_version": "1.2.0",
      "_view_name": "LayoutView",
      "align_content": null,
      "align_items": null,
      "align_self": null,
      "border": null,
      "bottom": null,
      "display": null,
      "flex": null,
      "flex_flow": null,
      "grid_area": null,
      "grid_auto_columns": null,
      "grid_auto_flow": null,
      "grid_auto_rows": null,
      "grid_column": null,
      "grid_gap": null,
      "grid_row": null,
      "grid_template_areas": null,
      "grid_template_columns": null,
      "grid_template_rows": null,
      "height": null,
      "justify_content": null,
      "justify_items": null,
      "left": null,
      "margin": null,
      "max_height": null,
      "max_width": null,
      "min_height": null,
      "min_width": null,
      "object_fit": null,
      "object_position": null,
      "order": null,
      "overflow": null,
      "overflow_x": null,
      "overflow_y": null,
      "padding": null,
      "right": null,
      "top": null,
      "visibility": null,
      "width": null
     }
    },
    "b7990b2bba03435da2681ada3620e59a": {
     "model_module": "@jupyter-widgets/base",
     "model_module_version": "1.2.0",
     "model_name": "LayoutModel",
     "state": {
      "_model_module": "@jupyter-widgets/base",
      "_model_module_version": "1.2.0",
      "_model_name": "LayoutModel",
      "_view_count": null,
      "_view_module": "@jupyter-widgets/base",
      "_view_module_version": "1.2.0",
      "_view_name": "LayoutView",
      "align_content": null,
      "align_items": null,
      "align_self": null,
      "border": null,
      "bottom": null,
      "display": null,
      "flex": null,
      "flex_flow": null,
      "grid_area": null,
      "grid_auto_columns": null,
      "grid_auto_flow": null,
      "grid_auto_rows": null,
      "grid_column": null,
      "grid_gap": null,
      "grid_row": null,
      "grid_template_areas": null,
      "grid_template_columns": null,
      "grid_template_rows": null,
      "height": null,
      "justify_content": null,
      "justify_items": null,
      "left": null,
      "margin": null,
      "max_height": null,
      "max_width": null,
      "min_height": null,
      "min_width": null,
      "object_fit": null,
      "object_position": null,
      "order": null,
      "overflow": null,
      "overflow_x": null,
      "overflow_y": null,
      "padding": null,
      "right": null,
      "top": null,
      "visibility": null,
      "width": null
     }
    },
    "bb2107133324415895c208ed960bf95b": {
     "model_module": "@jupyter-widgets/controls",
     "model_module_version": "1.5.0",
     "model_name": "DescriptionStyleModel",
     "state": {
      "_model_module": "@jupyter-widgets/controls",
      "_model_module_version": "1.5.0",
      "_model_name": "DescriptionStyleModel",
      "_view_count": null,
      "_view_module": "@jupyter-widgets/base",
      "_view_module_version": "1.2.0",
      "_view_name": "StyleView",
      "description_width": ""
     }
    },
    "c01e9606df884d109e21ce8127b02d63": {
     "model_module": "@jupyter-widgets/base",
     "model_module_version": "1.2.0",
     "model_name": "LayoutModel",
     "state": {
      "_model_module": "@jupyter-widgets/base",
      "_model_module_version": "1.2.0",
      "_model_name": "LayoutModel",
      "_view_count": null,
      "_view_module": "@jupyter-widgets/base",
      "_view_module_version": "1.2.0",
      "_view_name": "LayoutView",
      "align_content": null,
      "align_items": null,
      "align_self": null,
      "border": null,
      "bottom": null,
      "display": null,
      "flex": null,
      "flex_flow": null,
      "grid_area": null,
      "grid_auto_columns": null,
      "grid_auto_flow": null,
      "grid_auto_rows": null,
      "grid_column": null,
      "grid_gap": null,
      "grid_row": null,
      "grid_template_areas": null,
      "grid_template_columns": null,
      "grid_template_rows": null,
      "height": null,
      "justify_content": null,
      "justify_items": null,
      "left": null,
      "margin": null,
      "max_height": null,
      "max_width": null,
      "min_height": null,
      "min_width": null,
      "object_fit": null,
      "object_position": null,
      "order": null,
      "overflow": null,
      "overflow_x": null,
      "overflow_y": null,
      "padding": null,
      "right": null,
      "top": null,
      "visibility": null,
      "width": null
     }
    },
    "c501e3d1bbfd4605b566550e002fbcfd": {
     "model_module": "@jupyter-widgets/controls",
     "model_module_version": "1.5.0",
     "model_name": "DescriptionStyleModel",
     "state": {
      "_model_module": "@jupyter-widgets/controls",
      "_model_module_version": "1.5.0",
      "_model_name": "DescriptionStyleModel",
      "_view_count": null,
      "_view_module": "@jupyter-widgets/base",
      "_view_module_version": "1.2.0",
      "_view_name": "StyleView",
      "description_width": ""
     }
    },
    "c9398cf05ffe4b3fb8c917d69e5bc734": {
     "model_module": "@jupyter-widgets/output",
     "model_module_version": "1.0.0",
     "model_name": "OutputModel",
     "state": {
      "_dom_classes": [],
      "_model_module": "@jupyter-widgets/output",
      "_model_module_version": "1.0.0",
      "_model_name": "OutputModel",
      "_view_count": null,
      "_view_module": "@jupyter-widgets/output",
      "_view_module_version": "1.0.0",
      "_view_name": "OutputView",
      "layout": "IPY_MODEL_cffe9d7eeacf4f2dbaeb6121ea884fba",
      "msg_id": "",
      "outputs": [
       {
        "data": {
         "image/png": "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\n",
         "text/plain": "<Figure size 1200x500 with 2 Axes>"
        },
        "metadata": {},
        "output_type": "display_data"
       }
      ]
     }
    },
    "c9462d8308c14fa3b9b182d7f2c13d41": {
     "model_module": "@jupyter-widgets/base",
     "model_module_version": "1.2.0",
     "model_name": "LayoutModel",
     "state": {
      "_model_module": "@jupyter-widgets/base",
      "_model_module_version": "1.2.0",
      "_model_name": "LayoutModel",
      "_view_count": null,
      "_view_module": "@jupyter-widgets/base",
      "_view_module_version": "1.2.0",
      "_view_name": "LayoutView",
      "align_content": null,
      "align_items": null,
      "align_self": null,
      "border": null,
      "bottom": null,
      "display": null,
      "flex": null,
      "flex_flow": null,
      "grid_area": null,
      "grid_auto_columns": null,
      "grid_auto_flow": null,
      "grid_auto_rows": null,
      "grid_column": null,
      "grid_gap": null,
      "grid_row": null,
      "grid_template_areas": null,
      "grid_template_columns": null,
      "grid_template_rows": null,
      "height": null,
      "justify_content": null,
      "justify_items": null,
      "left": null,
      "margin": null,
      "max_height": null,
      "max_width": null,
      "min_height": null,
      "min_width": null,
      "object_fit": null,
      "object_position": null,
      "order": null,
      "overflow": null,
      "overflow_x": null,
      "overflow_y": null,
      "padding": null,
      "right": null,
      "top": null,
      "visibility": null,
      "width": null
     }
    },
    "cdadfcd9277945df96d1e408f7d1f27b": {
     "model_module": "@jupyter-widgets/base",
     "model_module_version": "1.2.0",
     "model_name": "LayoutModel",
     "state": {
      "_model_module": "@jupyter-widgets/base",
      "_model_module_version": "1.2.0",
      "_model_name": "LayoutModel",
      "_view_count": null,
      "_view_module": "@jupyter-widgets/base",
      "_view_module_version": "1.2.0",
      "_view_name": "LayoutView",
      "align_content": null,
      "align_items": null,
      "align_self": null,
      "border": null,
      "bottom": null,
      "display": null,
      "flex": null,
      "flex_flow": null,
      "grid_area": null,
      "grid_auto_columns": null,
      "grid_auto_flow": null,
      "grid_auto_rows": null,
      "grid_column": null,
      "grid_gap": null,
      "grid_row": null,
      "grid_template_areas": null,
      "grid_template_columns": null,
      "grid_template_rows": null,
      "height": null,
      "justify_content": null,
      "justify_items": null,
      "left": null,
      "margin": null,
      "max_height": null,
      "max_width": null,
      "min_height": null,
      "min_width": null,
      "object_fit": null,
      "object_position": null,
      "order": null,
      "overflow": null,
      "overflow_x": null,
      "overflow_y": null,
      "padding": null,
      "right": null,
      "top": null,
      "visibility": null,
      "width": null
     }
    },
    "cfa17254e4f645ac91618ba514259a24": {
     "model_module": "@jupyter-widgets/controls",
     "model_module_version": "1.5.0",
     "model_name": "SliderStyleModel",
     "state": {
      "_model_module": "@jupyter-widgets/controls",
      "_model_module_version": "1.5.0",
      "_model_name": "SliderStyleModel",
      "_view_count": null,
      "_view_module": "@jupyter-widgets/base",
      "_view_module_version": "1.2.0",
      "_view_name": "StyleView",
      "description_width": "",
      "handle_color": null
     }
    },
    "cffe9d7eeacf4f2dbaeb6121ea884fba": {
     "model_module": "@jupyter-widgets/base",
     "model_module_version": "1.2.0",
     "model_name": "LayoutModel",
     "state": {
      "_model_module": "@jupyter-widgets/base",
      "_model_module_version": "1.2.0",
      "_model_name": "LayoutModel",
      "_view_count": null,
      "_view_module": "@jupyter-widgets/base",
      "_view_module_version": "1.2.0",
      "_view_name": "LayoutView",
      "align_content": null,
      "align_items": null,
      "align_self": null,
      "border": null,
      "bottom": null,
      "display": null,
      "flex": null,
      "flex_flow": null,
      "grid_area": null,
      "grid_auto_columns": null,
      "grid_auto_flow": null,
      "grid_auto_rows": null,
      "grid_column": null,
      "grid_gap": null,
      "grid_row": null,
      "grid_template_areas": null,
      "grid_template_columns": null,
      "grid_template_rows": null,
      "height": null,
      "justify_content": null,
      "justify_items": null,
      "left": null,
      "margin": null,
      "max_height": null,
      "max_width": null,
      "min_height": null,
      "min_width": null,
      "object_fit": null,
      "object_position": null,
      "order": null,
      "overflow": null,
      "overflow_x": null,
      "overflow_y": null,
      "padding": null,
      "right": null,
      "top": null,
      "visibility": null,
      "width": null
     }
    },
    "d0156310d4cc4d04b9838579ec723e1a": {
     "model_module": "@jupyter-widgets/controls",
     "model_module_version": "1.5.0",
     "model_name": "DescriptionStyleModel",
     "state": {
      "_model_module": "@jupyter-widgets/controls",
      "_model_module_version": "1.5.0",
      "_model_name": "DescriptionStyleModel",
      "_view_count": null,
      "_view_module": "@jupyter-widgets/base",
      "_view_module_version": "1.2.0",
      "_view_name": "StyleView",
      "description_width": ""
     }
    },
    "d0ff6fc2ebce44e6b44a41f21bfd7f99": {
     "model_module": "@jupyter-widgets/base",
     "model_module_version": "1.2.0",
     "model_name": "LayoutModel",
     "state": {
      "_model_module": "@jupyter-widgets/base",
      "_model_module_version": "1.2.0",
      "_model_name": "LayoutModel",
      "_view_count": null,
      "_view_module": "@jupyter-widgets/base",
      "_view_module_version": "1.2.0",
      "_view_name": "LayoutView",
      "align_content": null,
      "align_items": null,
      "align_self": null,
      "border": null,
      "bottom": null,
      "display": null,
      "flex": null,
      "flex_flow": null,
      "grid_area": null,
      "grid_auto_columns": null,
      "grid_auto_flow": null,
      "grid_auto_rows": null,
      "grid_column": null,
      "grid_gap": null,
      "grid_row": null,
      "grid_template_areas": null,
      "grid_template_columns": null,
      "grid_template_rows": null,
      "height": null,
      "justify_content": null,
      "justify_items": null,
      "left": null,
      "margin": null,
      "max_height": null,
      "max_width": null,
      "min_height": null,
      "min_width": null,
      "object_fit": null,
      "object_position": null,
      "order": null,
      "overflow": null,
      "overflow_x": null,
      "overflow_y": null,
      "padding": null,
      "right": null,
      "top": null,
      "visibility": null,
      "width": null
     }
    },
    "d34900bbab824d4983d12e9da69ebfda": {
     "model_module": "@jupyter-widgets/base",
     "model_module_version": "1.2.0",
     "model_name": "LayoutModel",
     "state": {
      "_model_module": "@jupyter-widgets/base",
      "_model_module_version": "1.2.0",
      "_model_name": "LayoutModel",
      "_view_count": null,
      "_view_module": "@jupyter-widgets/base",
      "_view_module_version": "1.2.0",
      "_view_name": "LayoutView",
      "align_content": null,
      "align_items": null,
      "align_self": null,
      "border": null,
      "bottom": null,
      "display": null,
      "flex": null,
      "flex_flow": null,
      "grid_area": null,
      "grid_auto_columns": null,
      "grid_auto_flow": null,
      "grid_auto_rows": null,
      "grid_column": null,
      "grid_gap": null,
      "grid_row": null,
      "grid_template_areas": null,
      "grid_template_columns": null,
      "grid_template_rows": null,
      "height": null,
      "justify_content": null,
      "justify_items": null,
      "left": null,
      "margin": null,
      "max_height": null,
      "max_width": null,
      "min_height": null,
      "min_width": null,
      "object_fit": null,
      "object_position": null,
      "order": null,
      "overflow": null,
      "overflow_x": null,
      "overflow_y": null,
      "padding": null,
      "right": null,
      "top": null,
      "visibility": null,
      "width": null
     }
    },
    "d48a675d47fe4255a2c5d38114ccb786": {
     "model_module": "@jupyter-widgets/controls",
     "model_module_version": "1.5.0",
     "model_name": "VBoxModel",
     "state": {
      "_dom_classes": [
       "widget-interact"
      ],
      "_model_module": "@jupyter-widgets/controls",
      "_model_module_version": "1.5.0",
      "_model_name": "VBoxModel",
      "_view_count": null,
      "_view_module": "@jupyter-widgets/controls",
      "_view_module_version": "1.5.0",
      "_view_name": "VBoxView",
      "box_style": "",
      "children": [
       "IPY_MODEL_3607b35e05da4d98928a1bdd9f5b5f10",
       "IPY_MODEL_a700bbe15e12417684520be8e478d2b3",
       "IPY_MODEL_faec6533deb548c7bb84c4e56a8382bf",
       "IPY_MODEL_daf4996403304bae9496f0e86901c89d"
      ],
      "layout": "IPY_MODEL_cdadfcd9277945df96d1e408f7d1f27b"
     }
    },
    "d739d8bd275c4a7b8e10e8d41800cc2d": {
     "model_module": "@jupyter-widgets/controls",
     "model_module_version": "1.5.0",
     "model_name": "DescriptionStyleModel",
     "state": {
      "_model_module": "@jupyter-widgets/controls",
      "_model_module_version": "1.5.0",
      "_model_name": "DescriptionStyleModel",
      "_view_count": null,
      "_view_module": "@jupyter-widgets/base",
      "_view_module_version": "1.2.0",
      "_view_name": "StyleView",
      "description_width": ""
     }
    },
    "daa60bafa3b94e7a8c697b17e53f3591": {
     "model_module": "@jupyter-widgets/controls",
     "model_module_version": "1.5.0",
     "model_name": "SliderStyleModel",
     "state": {
      "_model_module": "@jupyter-widgets/controls",
      "_model_module_version": "1.5.0",
      "_model_name": "SliderStyleModel",
      "_view_count": null,
      "_view_module": "@jupyter-widgets/base",
      "_view_module_version": "1.2.0",
      "_view_name": "StyleView",
      "description_width": "",
      "handle_color": null
     }
    },
    "daf4996403304bae9496f0e86901c89d": {
     "model_module": "@jupyter-widgets/output",
     "model_module_version": "1.0.0",
     "model_name": "OutputModel",
     "state": {
      "_dom_classes": [],
      "_model_module": "@jupyter-widgets/output",
      "_model_module_version": "1.0.0",
      "_model_name": "OutputModel",
      "_view_count": null,
      "_view_module": "@jupyter-widgets/output",
      "_view_module_version": "1.0.0",
      "_view_name": "OutputView",
      "layout": "IPY_MODEL_c9462d8308c14fa3b9b182d7f2c13d41",
      "msg_id": "",
      "outputs": [
       {
        "name": "stdout",
        "output_type": "stream",
        "text": [
         "=== Métricas ===\n",
         "Acurácia (for): 0.785\n",
         "Precisão (for): 1.000\n",
         "Acurácia (lib): 0.785\n",
         "Precisão (lib): 1.000\n",
         "\n",
         "Matriz de Confusão [real x previsto]:\n",
         " [[114   0]\n",
         " [ 43  43]]\n"
        ]
       },
       {
        "data": {
         "image/png": "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\n",
         "text/plain": "<Figure size 400x400 with 1 Axes>"
        },
        "metadata": {},
        "output_type": "display_data"
       }
      ]
     }
    },
    "e28e5977207a43589e985d3bc1dc313b": {
     "model_module": "@jupyter-widgets/controls",
     "model_module_version": "1.5.0",
     "model_name": "VBoxModel",
     "state": {
      "_dom_classes": [
       "widget-interact"
      ],
      "_model_module": "@jupyter-widgets/controls",
      "_model_module_version": "1.5.0",
      "_model_name": "VBoxModel",
      "_view_count": null,
      "_view_module": "@jupyter-widgets/controls",
      "_view_module_version": "1.5.0",
      "_view_name": "VBoxView",
      "box_style": "",
      "children": [
       "IPY_MODEL_140df6981af7473eace2e3a258c87984",
       "IPY_MODEL_c9398cf05ffe4b3fb8c917d69e5bc734"
      ],
      "layout": "IPY_MODEL_200f24e7ec9244558f6af5ab0cd816ac"
     }
    },
    "faec6533deb548c7bb84c4e56a8382bf": {
     "model_module": "@jupyter-widgets/controls",
     "model_module_version": "1.5.0",
     "model_name": "FloatSliderModel",
     "state": {
      "_dom_classes": [],
      "_model_module": "@jupyter-widgets/controls",
      "_model_module_version": "1.5.0",
      "_model_name": "FloatSliderModel",
      "_view_count": null,
      "_view_module": "@jupyter-widgets/controls",
      "_view_module_version": "1.5.0",
      "_view_name": "FloatSliderView",
      "continuous_update": true,
      "description": "Falsos Negativos (%)",
      "description_tooltip": null,
      "disabled": false,
      "layout": "IPY_MODEL_0e58d218d77a4434baade0f903c78c25",
      "max": 0.5,
      "min": 0,
      "orientation": "horizontal",
      "readout": true,
      "readout_format": ".2f",
      "step": 0.05,
      "style": "IPY_MODEL_daa60bafa3b94e7a8c697b17e53f3591",
      "value": 0.5
     }
    },
    "fceba70468f34c3590e2cf168bcd5d14": {
     "model_module": "@jupyter-widgets/controls",
     "model_module_version": "1.5.0",
     "model_name": "ButtonStyleModel",
     "state": {
      "_model_module": "@jupyter-widgets/controls",
      "_model_module_version": "1.5.0",
      "_model_name": "ButtonStyleModel",
      "_view_count": null,
      "_view_module": "@jupyter-widgets/base",
      "_view_module_version": "1.2.0",
      "_view_name": "StyleView",
      "button_color": null,
      "font_weight": ""
     }
    },
    "ff5eb45c46444b129ecab1081df65a27": {
     "model_module": "@jupyter-widgets/controls",
     "model_module_version": "1.5.0",
     "model_name": "DropdownModel",
     "state": {
      "_dom_classes": [],
      "_model_module": "@jupyter-widgets/controls",
      "_model_module_version": "1.5.0",
      "_model_name": "DropdownModel",
      "_options_labels": [
       "Naive Bayes",
       "KNN",
       "Regressão Logística"
      ],
      "_view_count": null,
      "_view_module": "@jupyter-widgets/controls",
      "_view_module_version": "1.5.0",
      "_view_name": "DropdownView",
      "description": "Classificador:",
      "description_tooltip": null,
      "disabled": false,
      "index": 0,
      "layout": "IPY_MODEL_d34900bbab824d4983d12e9da69ebfda",
      "style": "IPY_MODEL_d739d8bd275c4a7b8e10e8d41800cc2d"
     }
    },
    "ffc186a3540e4ea790eb4856692d4ae3": {
     "model_module": "@jupyter-widgets/base",
     "model_module_version": "1.2.0",
     "model_name": "LayoutModel",
     "state": {
      "_model_module": "@jupyter-widgets/base",
      "_model_module_version": "1.2.0",
      "_model_name": "LayoutModel",
      "_view_count": null,
      "_view_module": "@jupyter-widgets/base",
      "_view_module_version": "1.2.0",
      "_view_name": "LayoutView",
      "align_content": null,
      "align_items": null,
      "align_self": null,
      "border": null,
      "bottom": null,
      "display": null,
      "flex": null,
      "flex_flow": null,
      "grid_area": null,
      "grid_auto_columns": null,
      "grid_auto_flow": null,
      "grid_auto_rows": null,
      "grid_column": null,
      "grid_gap": null,
      "grid_row": null,
      "grid_template_areas": null,
      "grid_template_columns": null,
      "grid_template_rows": null,
      "height": null,
      "justify_content": null,
      "justify_items": null,
      "left": null,
      "margin": null,
      "max_height": null,
      "max_width": null,
      "min_height": null,
      "min_width": null,
      "object_fit": null,
      "object_position": null,
      "order": null,
      "overflow": null,
      "overflow_x": null,
      "overflow_y": null,
      "padding": null,
      "right": null,
      "top": null,
      "visibility": null,
      "width": null
     }
    }
   }
  }
 },
 "nbformat": 4,
 "nbformat_minor": 4
}
